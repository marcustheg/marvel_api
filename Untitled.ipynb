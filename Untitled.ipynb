{
 "cells": [
  {
   "cell_type": "code",
   "execution_count": 1,
   "metadata": {},
   "outputs": [
    {
     "name": "stdout",
     "output_type": "stream",
     "text": [
      "hello, world\n"
     ]
    }
   ],
   "source": [
    "print(\"hello, world\")"
   ]
  },
  {
   "cell_type": "code",
   "execution_count": 2,
   "metadata": {},
   "outputs": [],
   "source": [
    "import requests"
   ]
  },
  {
   "cell_type": "code",
   "execution_count": 25,
   "metadata": {},
   "outputs": [],
   "source": [
    "resp = requests.get(\"https://jsonplaceholder.typicode.com/todos/1\")"
   ]
  },
  {
   "cell_type": "code",
   "execution_count": 26,
   "metadata": {},
   "outputs": [
    {
     "name": "stdout",
     "output_type": "stream",
     "text": [
      "{\n",
      "  \"userId\": 1,\n",
      "  \"id\": 1,\n",
      "  \"title\": \"delectus aut autem\",\n",
      "  \"completed\": false\n",
      "}\n"
     ]
    }
   ],
   "source": [
    "print(resp.text)"
   ]
  },
  {
   "cell_type": "code",
   "execution_count": 27,
   "metadata": {},
   "outputs": [
    {
     "data": {
      "text/plain": [
       "'application/json; charset=utf-8'"
      ]
     },
     "execution_count": 27,
     "metadata": {},
     "output_type": "execute_result"
    }
   ],
   "source": [
    "resp.headers.get(\"Content-Type\")"
   ]
  },
  {
   "cell_type": "code",
   "execution_count": 28,
   "metadata": {},
   "outputs": [],
   "source": [
    "my_dict = dict(name=\"marcus\")"
   ]
  },
  {
   "cell_type": "code",
   "execution_count": 29,
   "metadata": {},
   "outputs": [
    {
     "data": {
      "text/plain": [
       "{'name': 'marcus'}"
      ]
     },
     "execution_count": 29,
     "metadata": {},
     "output_type": "execute_result"
    }
   ],
   "source": [
    "my_dict"
   ]
  },
  {
   "cell_type": "code",
   "execution_count": 30,
   "metadata": {},
   "outputs": [],
   "source": [
    "things = [1,2,3]"
   ]
  },
  {
   "cell_type": "code",
   "execution_count": 31,
   "metadata": {},
   "outputs": [
    {
     "data": {
      "text/plain": [
       "list"
      ]
     },
     "execution_count": 31,
     "metadata": {},
     "output_type": "execute_result"
    }
   ],
   "source": [
    "type(things\n",
    ")"
   ]
  },
  {
   "cell_type": "code",
   "execution_count": 32,
   "metadata": {},
   "outputs": [
    {
     "data": {
      "text/plain": [
       "str"
      ]
     },
     "execution_count": 32,
     "metadata": {},
     "output_type": "execute_result"
    }
   ],
   "source": [
    "type(\"marcus\")"
   ]
  },
  {
   "cell_type": "code",
   "execution_count": 33,
   "metadata": {},
   "outputs": [
    {
     "data": {
      "text/plain": [
       "dict"
      ]
     },
     "execution_count": 33,
     "metadata": {},
     "output_type": "execute_result"
    }
   ],
   "source": [
    "type(my_dict\n",
    ")"
   ]
  },
  {
   "cell_type": "code",
   "execution_count": 34,
   "metadata": {},
   "outputs": [
    {
     "data": {
      "text/plain": [
       "requests.models.Response"
      ]
     },
     "execution_count": 34,
     "metadata": {},
     "output_type": "execute_result"
    }
   ],
   "source": [
    "type(resp)"
   ]
  },
  {
   "cell_type": "code",
   "execution_count": 35,
   "metadata": {},
   "outputs": [
    {
     "data": {
      "text/plain": [
       "builtin_function_or_method"
      ]
     },
     "execution_count": 35,
     "metadata": {},
     "output_type": "execute_result"
    }
   ],
   "source": [
    "type(print)"
   ]
  },
  {
   "cell_type": "code",
   "execution_count": 36,
   "metadata": {},
   "outputs": [
    {
     "name": "stdout",
     "output_type": "stream",
     "text": [
      "Help on built-in function print in module builtins:\n",
      "\n",
      "print(...)\n",
      "    print(value, ..., sep=' ', end='\\n', file=sys.stdout, flush=False)\n",
      "    \n",
      "    Prints the values to a stream, or to sys.stdout by default.\n",
      "    Optional keyword arguments:\n",
      "    file:  a file-like object (stream); defaults to the current sys.stdout.\n",
      "    sep:   string inserted between values, default a space.\n",
      "    end:   string appended after the last value, default a newline.\n",
      "    flush: whether to forcibly flush the stream.\n",
      "\n"
     ]
    }
   ],
   "source": [
    "help(print)"
   ]
  },
  {
   "cell_type": "code",
   "execution_count": 1,
   "metadata": {},
   "outputs": [],
   "source": [
    "x = 1 "
   ]
  },
  {
   "cell_type": "code",
   "execution_count": 2,
   "metadata": {},
   "outputs": [
    {
     "data": {
      "text/plain": [
       "int"
      ]
     },
     "execution_count": 2,
     "metadata": {},
     "output_type": "execute_result"
    }
   ],
   "source": [
    "type(x\n",
    ")"
   ]
  },
  {
   "cell_type": "code",
   "execution_count": 3,
   "metadata": {},
   "outputs": [],
   "source": [
    "x = 1.1"
   ]
  },
  {
   "cell_type": "code",
   "execution_count": 4,
   "metadata": {},
   "outputs": [
    {
     "data": {
      "text/plain": [
       "float"
      ]
     },
     "execution_count": 4,
     "metadata": {},
     "output_type": "execute_result"
    }
   ],
   "source": [
    "type(x)"
   ]
  },
  {
   "cell_type": "code",
   "execution_count": 5,
   "metadata": {},
   "outputs": [
    {
     "data": {
      "text/plain": [
       "1.0999999999999996"
      ]
     },
     "execution_count": 5,
     "metadata": {},
     "output_type": "execute_result"
    }
   ],
   "source": [
    "3.3 - 2.2"
   ]
  },
  {
   "cell_type": "code",
   "execution_count": 6,
   "metadata": {},
   "outputs": [
    {
     "data": {
      "text/plain": [
       "1e-303"
      ]
     },
     "execution_count": 6,
     "metadata": {},
     "output_type": "execute_result"
    }
   ],
   "source": [
    "10e-304"
   ]
  },
  {
   "cell_type": "code",
   "execution_count": 7,
   "metadata": {},
   "outputs": [
    {
     "data": {
      "text/plain": [
       "1e+305"
      ]
     },
     "execution_count": 7,
     "metadata": {},
     "output_type": "execute_result"
    }
   ],
   "source": [
    "10e304"
   ]
  },
  {
   "cell_type": "code",
   "execution_count": 8,
   "metadata": {},
   "outputs": [],
   "source": [
    "x = \"marcus\""
   ]
  },
  {
   "cell_type": "code",
   "execution_count": 9,
   "metadata": {},
   "outputs": [
    {
     "data": {
      "text/plain": [
       "str"
      ]
     },
     "execution_count": 9,
     "metadata": {},
     "output_type": "execute_result"
    }
   ],
   "source": [
    "type(x)"
   ]
  },
  {
   "cell_type": "code",
   "execution_count": 10,
   "metadata": {},
   "outputs": [
    {
     "data": {
      "text/plain": [
       "6"
      ]
     },
     "execution_count": 10,
     "metadata": {},
     "output_type": "execute_result"
    }
   ],
   "source": [
    "len(x)"
   ]
  },
  {
   "cell_type": "code",
   "execution_count": 11,
   "metadata": {},
   "outputs": [
    {
     "ename": "NameError",
     "evalue": "name 'char' is not defined",
     "output_type": "error",
     "traceback": [
      "\u001b[0;31m---------------------------------------------------------------------------\u001b[0m",
      "\u001b[0;31mNameError\u001b[0m                                 Traceback (most recent call last)",
      "\u001b[0;32m<ipython-input-11-9773a8ec4da5>\u001b[0m in \u001b[0;36m<module>\u001b[0;34m\u001b[0m\n\u001b[0;32m----> 1\u001b[0;31m \u001b[0mchar\u001b[0m\u001b[0;34m(\u001b[0m\u001b[0mx\u001b[0m\u001b[0;34m)\u001b[0m\u001b[0;34m\u001b[0m\u001b[0;34m\u001b[0m\u001b[0m\n\u001b[0m",
      "\u001b[0;31mNameError\u001b[0m: name 'char' is not defined"
     ]
    }
   ],
   "source": [
    "char(x)"
   ]
  },
  {
   "cell_type": "code",
   "execution_count": 12,
   "metadata": {},
   "outputs": [
    {
     "ename": "NameError",
     "evalue": "name 'byte' is not defined",
     "output_type": "error",
     "traceback": [
      "\u001b[0;31m---------------------------------------------------------------------------\u001b[0m",
      "\u001b[0;31mNameError\u001b[0m                                 Traceback (most recent call last)",
      "\u001b[0;32m<ipython-input-12-a1504a7c8dd4>\u001b[0m in \u001b[0;36m<module>\u001b[0;34m\u001b[0m\n\u001b[0;32m----> 1\u001b[0;31m \u001b[0mbyte\u001b[0m\u001b[0;34m(\u001b[0m\u001b[0mx\u001b[0m\u001b[0;34m)\u001b[0m\u001b[0;34m\u001b[0m\u001b[0;34m\u001b[0m\u001b[0m\n\u001b[0m",
      "\u001b[0;31mNameError\u001b[0m: name 'byte' is not defined"
     ]
    }
   ],
   "source": [
    "byte(x)"
   ]
  },
  {
   "cell_type": "code",
   "execution_count": 16,
   "metadata": {},
   "outputs": [
    {
     "ename": "TypeError",
     "evalue": "an integer is required (got type str)",
     "output_type": "error",
     "traceback": [
      "\u001b[0;31m---------------------------------------------------------------------------\u001b[0m",
      "\u001b[0;31mTypeError\u001b[0m                                 Traceback (most recent call last)",
      "\u001b[0;32m<ipython-input-16-d1f478411e2e>\u001b[0m in \u001b[0;36m<module>\u001b[0;34m\u001b[0m\n\u001b[0;32m----> 1\u001b[0;31m \u001b[0mchr\u001b[0m\u001b[0;34m(\u001b[0m\u001b[0mx\u001b[0m\u001b[0;34m)\u001b[0m\u001b[0;34m\u001b[0m\u001b[0;34m\u001b[0m\u001b[0m\n\u001b[0m",
      "\u001b[0;31mTypeError\u001b[0m: an integer is required (got type str)"
     ]
    }
   ],
   "source": [
    "chr(x)"
   ]
  },
  {
   "cell_type": "code",
   "execution_count": 17,
   "metadata": {},
   "outputs": [
    {
     "data": {
      "text/plain": [
       "'a'"
      ]
     },
     "execution_count": 17,
     "metadata": {},
     "output_type": "execute_result"
    }
   ],
   "source": [
    "chr(97)"
   ]
  },
  {
   "cell_type": "code",
   "execution_count": 18,
   "metadata": {},
   "outputs": [
    {
     "data": {
      "text/plain": [
       "'X'"
      ]
     },
     "execution_count": 18,
     "metadata": {},
     "output_type": "execute_result"
    }
   ],
   "source": [
    "chr(88)"
   ]
  },
  {
   "cell_type": "code",
   "execution_count": 20,
   "metadata": {},
   "outputs": [
    {
     "data": {
      "text/plain": [
       "'\\x01'"
      ]
     },
     "execution_count": 20,
     "metadata": {},
     "output_type": "execute_result"
    }
   ],
   "source": [
    "str(chr(1))"
   ]
  },
  {
   "cell_type": "code",
   "execution_count": 21,
   "metadata": {},
   "outputs": [
    {
     "data": {
      "text/plain": [
       "'!'"
      ]
     },
     "execution_count": 21,
     "metadata": {},
     "output_type": "execute_result"
    }
   ],
   "source": [
    "str(\"!\")"
   ]
  },
  {
   "cell_type": "code",
   "execution_count": 22,
   "metadata": {},
   "outputs": [
    {
     "data": {
      "text/plain": [
       "str"
      ]
     },
     "execution_count": 22,
     "metadata": {},
     "output_type": "execute_result"
    }
   ],
   "source": [
    "str"
   ]
  },
  {
   "cell_type": "code",
   "execution_count": 23,
   "metadata": {},
   "outputs": [
    {
     "name": "stdout",
     "output_type": "stream",
     "text": [
      "Help on class str in module builtins:\n",
      "\n",
      "class str(object)\n",
      " |  str(object='') -> str\n",
      " |  str(bytes_or_buffer[, encoding[, errors]]) -> str\n",
      " |  \n",
      " |  Create a new string object from the given object. If encoding or\n",
      " |  errors is specified, then the object must expose a data buffer\n",
      " |  that will be decoded using the given encoding and error handler.\n",
      " |  Otherwise, returns the result of object.__str__() (if defined)\n",
      " |  or repr(object).\n",
      " |  encoding defaults to sys.getdefaultencoding().\n",
      " |  errors defaults to 'strict'.\n",
      " |  \n",
      " |  Methods defined here:\n",
      " |  \n",
      " |  __add__(self, value, /)\n",
      " |      Return self+value.\n",
      " |  \n",
      " |  __contains__(self, key, /)\n",
      " |      Return key in self.\n",
      " |  \n",
      " |  __eq__(self, value, /)\n",
      " |      Return self==value.\n",
      " |  \n",
      " |  __format__(self, format_spec, /)\n",
      " |      Return a formatted version of the string as described by format_spec.\n",
      " |  \n",
      " |  __ge__(self, value, /)\n",
      " |      Return self>=value.\n",
      " |  \n",
      " |  __getattribute__(self, name, /)\n",
      " |      Return getattr(self, name).\n",
      " |  \n",
      " |  __getitem__(self, key, /)\n",
      " |      Return self[key].\n",
      " |  \n",
      " |  __getnewargs__(...)\n",
      " |  \n",
      " |  __gt__(self, value, /)\n",
      " |      Return self>value.\n",
      " |  \n",
      " |  __hash__(self, /)\n",
      " |      Return hash(self).\n",
      " |  \n",
      " |  __iter__(self, /)\n",
      " |      Implement iter(self).\n",
      " |  \n",
      " |  __le__(self, value, /)\n",
      " |      Return self<=value.\n",
      " |  \n",
      " |  __len__(self, /)\n",
      " |      Return len(self).\n",
      " |  \n",
      " |  __lt__(self, value, /)\n",
      " |      Return self<value.\n",
      " |  \n",
      " |  __mod__(self, value, /)\n",
      " |      Return self%value.\n",
      " |  \n",
      " |  __mul__(self, value, /)\n",
      " |      Return self*value.\n",
      " |  \n",
      " |  __ne__(self, value, /)\n",
      " |      Return self!=value.\n",
      " |  \n",
      " |  __repr__(self, /)\n",
      " |      Return repr(self).\n",
      " |  \n",
      " |  __rmod__(self, value, /)\n",
      " |      Return value%self.\n",
      " |  \n",
      " |  __rmul__(self, value, /)\n",
      " |      Return value*self.\n",
      " |  \n",
      " |  __sizeof__(self, /)\n",
      " |      Return the size of the string in memory, in bytes.\n",
      " |  \n",
      " |  __str__(self, /)\n",
      " |      Return str(self).\n",
      " |  \n",
      " |  capitalize(self, /)\n",
      " |      Return a capitalized version of the string.\n",
      " |      \n",
      " |      More specifically, make the first character have upper case and the rest lower\n",
      " |      case.\n",
      " |  \n",
      " |  casefold(self, /)\n",
      " |      Return a version of the string suitable for caseless comparisons.\n",
      " |  \n",
      " |  center(self, width, fillchar=' ', /)\n",
      " |      Return a centered string of length width.\n",
      " |      \n",
      " |      Padding is done using the specified fill character (default is a space).\n",
      " |  \n",
      " |  count(...)\n",
      " |      S.count(sub[, start[, end]]) -> int\n",
      " |      \n",
      " |      Return the number of non-overlapping occurrences of substring sub in\n",
      " |      string S[start:end].  Optional arguments start and end are\n",
      " |      interpreted as in slice notation.\n",
      " |  \n",
      " |  encode(self, /, encoding='utf-8', errors='strict')\n",
      " |      Encode the string using the codec registered for encoding.\n",
      " |      \n",
      " |      encoding\n",
      " |        The encoding in which to encode the string.\n",
      " |      errors\n",
      " |        The error handling scheme to use for encoding errors.\n",
      " |        The default is 'strict' meaning that encoding errors raise a\n",
      " |        UnicodeEncodeError.  Other possible values are 'ignore', 'replace' and\n",
      " |        'xmlcharrefreplace' as well as any other name registered with\n",
      " |        codecs.register_error that can handle UnicodeEncodeErrors.\n",
      " |  \n",
      " |  endswith(...)\n",
      " |      S.endswith(suffix[, start[, end]]) -> bool\n",
      " |      \n",
      " |      Return True if S ends with the specified suffix, False otherwise.\n",
      " |      With optional start, test S beginning at that position.\n",
      " |      With optional end, stop comparing S at that position.\n",
      " |      suffix can also be a tuple of strings to try.\n",
      " |  \n",
      " |  expandtabs(self, /, tabsize=8)\n",
      " |      Return a copy where all tab characters are expanded using spaces.\n",
      " |      \n",
      " |      If tabsize is not given, a tab size of 8 characters is assumed.\n",
      " |  \n",
      " |  find(...)\n",
      " |      S.find(sub[, start[, end]]) -> int\n",
      " |      \n",
      " |      Return the lowest index in S where substring sub is found,\n",
      " |      such that sub is contained within S[start:end].  Optional\n",
      " |      arguments start and end are interpreted as in slice notation.\n",
      " |      \n",
      " |      Return -1 on failure.\n",
      " |  \n",
      " |  format(...)\n",
      " |      S.format(*args, **kwargs) -> str\n",
      " |      \n",
      " |      Return a formatted version of S, using substitutions from args and kwargs.\n",
      " |      The substitutions are identified by braces ('{' and '}').\n",
      " |  \n",
      " |  format_map(...)\n",
      " |      S.format_map(mapping) -> str\n",
      " |      \n",
      " |      Return a formatted version of S, using substitutions from mapping.\n",
      " |      The substitutions are identified by braces ('{' and '}').\n",
      " |  \n",
      " |  index(...)\n",
      " |      S.index(sub[, start[, end]]) -> int\n",
      " |      \n",
      " |      Return the lowest index in S where substring sub is found,\n",
      " |      such that sub is contained within S[start:end].  Optional\n",
      " |      arguments start and end are interpreted as in slice notation.\n",
      " |      \n",
      " |      Raises ValueError when the substring is not found.\n",
      " |  \n",
      " |  isalnum(self, /)\n",
      " |      Return True if the string is an alpha-numeric string, False otherwise.\n",
      " |      \n",
      " |      A string is alpha-numeric if all characters in the string are alpha-numeric and\n",
      " |      there is at least one character in the string.\n",
      " |  \n",
      " |  isalpha(self, /)\n",
      " |      Return True if the string is an alphabetic string, False otherwise.\n",
      " |      \n",
      " |      A string is alphabetic if all characters in the string are alphabetic and there\n",
      " |      is at least one character in the string.\n",
      " |  \n",
      " |  isascii(self, /)\n",
      " |      Return True if all characters in the string are ASCII, False otherwise.\n",
      " |      \n",
      " |      ASCII characters have code points in the range U+0000-U+007F.\n",
      " |      Empty string is ASCII too.\n",
      " |  \n",
      " |  isdecimal(self, /)\n",
      " |      Return True if the string is a decimal string, False otherwise.\n",
      " |      \n",
      " |      A string is a decimal string if all characters in the string are decimal and\n",
      " |      there is at least one character in the string.\n",
      " |  \n",
      " |  isdigit(self, /)\n",
      " |      Return True if the string is a digit string, False otherwise.\n",
      " |      \n",
      " |      A string is a digit string if all characters in the string are digits and there\n",
      " |      is at least one character in the string.\n",
      " |  \n",
      " |  isidentifier(self, /)\n",
      " |      Return True if the string is a valid Python identifier, False otherwise.\n",
      " |      \n",
      " |      Call keyword.iskeyword(s) to test whether string s is a reserved identifier,\n",
      " |      such as \"def\" or \"class\".\n",
      " |  \n",
      " |  islower(self, /)\n",
      " |      Return True if the string is a lowercase string, False otherwise.\n",
      " |      \n",
      " |      A string is lowercase if all cased characters in the string are lowercase and\n",
      " |      there is at least one cased character in the string.\n",
      " |  \n",
      " |  isnumeric(self, /)\n",
      " |      Return True if the string is a numeric string, False otherwise.\n",
      " |      \n",
      " |      A string is numeric if all characters in the string are numeric and there is at\n",
      " |      least one character in the string.\n",
      " |  \n",
      " |  isprintable(self, /)\n",
      " |      Return True if the string is printable, False otherwise.\n",
      " |      \n",
      " |      A string is printable if all of its characters are considered printable in\n",
      " |      repr() or if it is empty.\n",
      " |  \n",
      " |  isspace(self, /)\n",
      " |      Return True if the string is a whitespace string, False otherwise.\n",
      " |      \n",
      " |      A string is whitespace if all characters in the string are whitespace and there\n",
      " |      is at least one character in the string.\n",
      " |  \n",
      " |  istitle(self, /)\n",
      " |      Return True if the string is a title-cased string, False otherwise.\n",
      " |      \n",
      " |      In a title-cased string, upper- and title-case characters may only\n",
      " |      follow uncased characters and lowercase characters only cased ones.\n",
      " |  \n",
      " |  isupper(self, /)\n",
      " |      Return True if the string is an uppercase string, False otherwise.\n",
      " |      \n",
      " |      A string is uppercase if all cased characters in the string are uppercase and\n",
      " |      there is at least one cased character in the string.\n",
      " |  \n",
      " |  join(self, iterable, /)\n",
      " |      Concatenate any number of strings.\n",
      " |      \n",
      " |      The string whose method is called is inserted in between each given string.\n",
      " |      The result is returned as a new string.\n",
      " |      \n",
      " |      Example: '.'.join(['ab', 'pq', 'rs']) -> 'ab.pq.rs'\n",
      " |  \n",
      " |  ljust(self, width, fillchar=' ', /)\n",
      " |      Return a left-justified string of length width.\n",
      " |      \n",
      " |      Padding is done using the specified fill character (default is a space).\n",
      " |  \n",
      " |  lower(self, /)\n",
      " |      Return a copy of the string converted to lowercase.\n",
      " |  \n",
      " |  lstrip(self, chars=None, /)\n",
      " |      Return a copy of the string with leading whitespace removed.\n",
      " |      \n",
      " |      If chars is given and not None, remove characters in chars instead.\n",
      " |  \n",
      " |  partition(self, sep, /)\n",
      " |      Partition the string into three parts using the given separator.\n",
      " |      \n",
      " |      This will search for the separator in the string.  If the separator is found,\n",
      " |      returns a 3-tuple containing the part before the separator, the separator\n",
      " |      itself, and the part after it.\n",
      " |      \n",
      " |      If the separator is not found, returns a 3-tuple containing the original string\n",
      " |      and two empty strings.\n",
      " |  \n",
      " |  replace(self, old, new, count=-1, /)\n",
      " |      Return a copy with all occurrences of substring old replaced by new.\n",
      " |      \n",
      " |        count\n",
      " |          Maximum number of occurrences to replace.\n",
      " |          -1 (the default value) means replace all occurrences.\n",
      " |      \n",
      " |      If the optional argument count is given, only the first count occurrences are\n",
      " |      replaced.\n",
      " |  \n",
      " |  rfind(...)\n",
      " |      S.rfind(sub[, start[, end]]) -> int\n",
      " |      \n",
      " |      Return the highest index in S where substring sub is found,\n",
      " |      such that sub is contained within S[start:end].  Optional\n",
      " |      arguments start and end are interpreted as in slice notation.\n",
      " |      \n",
      " |      Return -1 on failure.\n",
      " |  \n",
      " |  rindex(...)\n",
      " |      S.rindex(sub[, start[, end]]) -> int\n",
      " |      \n",
      " |      Return the highest index in S where substring sub is found,\n",
      " |      such that sub is contained within S[start:end].  Optional\n",
      " |      arguments start and end are interpreted as in slice notation.\n",
      " |      \n",
      " |      Raises ValueError when the substring is not found.\n",
      " |  \n",
      " |  rjust(self, width, fillchar=' ', /)\n",
      " |      Return a right-justified string of length width.\n",
      " |      \n",
      " |      Padding is done using the specified fill character (default is a space).\n",
      " |  \n",
      " |  rpartition(self, sep, /)\n",
      " |      Partition the string into three parts using the given separator.\n",
      " |      \n",
      " |      This will search for the separator in the string, starting at the end. If\n",
      " |      the separator is found, returns a 3-tuple containing the part before the\n",
      " |      separator, the separator itself, and the part after it.\n",
      " |      \n",
      " |      If the separator is not found, returns a 3-tuple containing two empty strings\n",
      " |      and the original string.\n",
      " |  \n",
      " |  rsplit(self, /, sep=None, maxsplit=-1)\n",
      " |      Return a list of the words in the string, using sep as the delimiter string.\n",
      " |      \n",
      " |        sep\n",
      " |          The delimiter according which to split the string.\n",
      " |          None (the default value) means split according to any whitespace,\n",
      " |          and discard empty strings from the result.\n",
      " |        maxsplit\n",
      " |          Maximum number of splits to do.\n",
      " |          -1 (the default value) means no limit.\n",
      " |      \n",
      " |      Splits are done starting at the end of the string and working to the front.\n",
      " |  \n",
      " |  rstrip(self, chars=None, /)\n",
      " |      Return a copy of the string with trailing whitespace removed.\n",
      " |      \n",
      " |      If chars is given and not None, remove characters in chars instead.\n",
      " |  \n",
      " |  split(self, /, sep=None, maxsplit=-1)\n",
      " |      Return a list of the words in the string, using sep as the delimiter string.\n",
      " |      \n",
      " |      sep\n",
      " |        The delimiter according which to split the string.\n",
      " |        None (the default value) means split according to any whitespace,\n",
      " |        and discard empty strings from the result.\n",
      " |      maxsplit\n",
      " |        Maximum number of splits to do.\n",
      " |        -1 (the default value) means no limit.\n",
      " |  \n",
      " |  splitlines(self, /, keepends=False)\n",
      " |      Return a list of the lines in the string, breaking at line boundaries.\n",
      " |      \n",
      " |      Line breaks are not included in the resulting list unless keepends is given and\n",
      " |      true.\n",
      " |  \n",
      " |  startswith(...)\n",
      " |      S.startswith(prefix[, start[, end]]) -> bool\n",
      " |      \n",
      " |      Return True if S starts with the specified prefix, False otherwise.\n",
      " |      With optional start, test S beginning at that position.\n",
      " |      With optional end, stop comparing S at that position.\n",
      " |      prefix can also be a tuple of strings to try.\n",
      " |  \n",
      " |  strip(self, chars=None, /)\n",
      " |      Return a copy of the string with leading and trailing whitespace removed.\n",
      " |      \n",
      " |      If chars is given and not None, remove characters in chars instead.\n",
      " |  \n",
      " |  swapcase(self, /)\n",
      " |      Convert uppercase characters to lowercase and lowercase characters to uppercase.\n",
      " |  \n",
      " |  title(self, /)\n",
      " |      Return a version of the string where each word is titlecased.\n",
      " |      \n",
      " |      More specifically, words start with uppercased characters and all remaining\n",
      " |      cased characters have lower case.\n",
      " |  \n",
      " |  translate(self, table, /)\n",
      " |      Replace each character in the string using the given translation table.\n",
      " |      \n",
      " |        table\n",
      " |          Translation table, which must be a mapping of Unicode ordinals to\n",
      " |          Unicode ordinals, strings, or None.\n",
      " |      \n",
      " |      The table must implement lookup/indexing via __getitem__, for instance a\n",
      " |      dictionary or list.  If this operation raises LookupError, the character is\n",
      " |      left untouched.  Characters mapped to None are deleted.\n",
      " |  \n",
      " |  upper(self, /)\n",
      " |      Return a copy of the string converted to uppercase.\n",
      " |  \n",
      " |  zfill(self, width, /)\n",
      " |      Pad a numeric string with zeros on the left, to fill a field of the given width.\n",
      " |      \n",
      " |      The string is never truncated.\n",
      " |  \n",
      " |  ----------------------------------------------------------------------\n",
      " |  Static methods defined here:\n",
      " |  \n",
      " |  __new__(*args, **kwargs) from builtins.type\n",
      " |      Create and return a new object.  See help(type) for accurate signature.\n",
      " |  \n",
      " |  maketrans(...)\n",
      " |      Return a translation table usable for str.translate().\n",
      " |      \n",
      " |      If there is only one argument, it must be a dictionary mapping Unicode\n",
      " |      ordinals (integers) or characters to Unicode ordinals, strings or None.\n",
      " |      Character keys will be then converted to ordinals.\n",
      " |      If there are two arguments, they must be strings of equal length, and\n",
      " |      in the resulting dictionary, each character in x will be mapped to the\n",
      " |      character at the same position in y. If there is a third argument, it\n",
      " |      must be a string, whose characters will be mapped to None in the result.\n",
      "\n"
     ]
    }
   ],
   "source": [
    "help(str)"
   ]
  },
  {
   "cell_type": "code",
   "execution_count": 24,
   "metadata": {},
   "outputs": [
    {
     "data": {
      "text/plain": [
       "'1'"
      ]
     },
     "execution_count": 24,
     "metadata": {},
     "output_type": "execute_result"
    }
   ],
   "source": [
    "str(1)"
   ]
  },
  {
   "cell_type": "code",
   "execution_count": 25,
   "metadata": {},
   "outputs": [
    {
     "ename": "NameError",
     "evalue": "name 'marcus' is not defined",
     "output_type": "error",
     "traceback": [
      "\u001b[0;31m---------------------------------------------------------------------------\u001b[0m",
      "\u001b[0;31mNameError\u001b[0m                                 Traceback (most recent call last)",
      "\u001b[0;32m<ipython-input-25-b6cf58c28601>\u001b[0m in \u001b[0;36m<module>\u001b[0;34m\u001b[0m\n\u001b[0;32m----> 1\u001b[0;31m \u001b[0mstr\u001b[0m\u001b[0;34m(\u001b[0m\u001b[0mmarcus\u001b[0m\u001b[0;34m)\u001b[0m\u001b[0;34m\u001b[0m\u001b[0;34m\u001b[0m\u001b[0m\n\u001b[0m",
      "\u001b[0;31mNameError\u001b[0m: name 'marcus' is not defined"
     ]
    }
   ],
   "source": [
    "str(marcus)"
   ]
  },
  {
   "cell_type": "code",
   "execution_count": 26,
   "metadata": {},
   "outputs": [],
   "source": [
    "x = \"marcus\""
   ]
  },
  {
   "cell_type": "code",
   "execution_count": 27,
   "metadata": {},
   "outputs": [
    {
     "data": {
      "text/plain": [
       "'marcus'"
      ]
     },
     "execution_count": 27,
     "metadata": {},
     "output_type": "execute_result"
    }
   ],
   "source": [
    "str(x\n",
    ")"
   ]
  },
  {
   "cell_type": "code",
   "execution_count": 30,
   "metadata": {},
   "outputs": [],
   "source": [
    "y = bytes(x,encoding=\"utf-8\")"
   ]
  },
  {
   "cell_type": "code",
   "execution_count": 33,
   "metadata": {},
   "outputs": [
    {
     "data": {
      "text/plain": [
       "'marcus'"
      ]
     },
     "execution_count": 33,
     "metadata": {},
     "output_type": "execute_result"
    }
   ],
   "source": [
    "y.decode()"
   ]
  },
  {
   "cell_type": "code",
   "execution_count": 34,
   "metadata": {},
   "outputs": [],
   "source": [
    "import requests"
   ]
  },
  {
   "cell_type": "code",
   "execution_count": 35,
   "metadata": {},
   "outputs": [
    {
     "data": {
      "text/plain": [
       "<function requests.api.get(url, params=None, **kwargs)>"
      ]
     },
     "execution_count": 35,
     "metadata": {},
     "output_type": "execute_result"
    }
   ],
   "source": [
    "requests.get"
   ]
  },
  {
   "cell_type": "code",
   "execution_count": 36,
   "metadata": {},
   "outputs": [
    {
     "ename": "NameError",
     "evalue": "name 'function' is not defined",
     "output_type": "error",
     "traceback": [
      "\u001b[0;31m---------------------------------------------------------------------------\u001b[0m",
      "\u001b[0;31mNameError\u001b[0m                                 Traceback (most recent call last)",
      "\u001b[0;32m<ipython-input-36-bd5163a6767e>\u001b[0m in \u001b[0;36m<module>\u001b[0;34m\u001b[0m\n\u001b[0;32m----> 1\u001b[0;31m \u001b[0mtype\u001b[0m\u001b[0;34m(\u001b[0m\u001b[0mfunction\u001b[0m\u001b[0;34m)\u001b[0m\u001b[0;34m\u001b[0m\u001b[0;34m\u001b[0m\u001b[0m\n\u001b[0m",
      "\u001b[0;31mNameError\u001b[0m: name 'function' is not defined"
     ]
    }
   ],
   "source": [
    "type(function)"
   ]
  },
  {
   "cell_type": "code",
   "execution_count": 37,
   "metadata": {},
   "outputs": [
    {
     "data": {
      "text/plain": [
       "function"
      ]
     },
     "execution_count": 37,
     "metadata": {},
     "output_type": "execute_result"
    }
   ],
   "source": [
    "type(requests.get)"
   ]
  },
  {
   "cell_type": "code",
   "execution_count": 39,
   "metadata": {},
   "outputs": [
    {
     "ename": "NameError",
     "evalue": "name 'function' is not defined",
     "output_type": "error",
     "traceback": [
      "\u001b[0;31m---------------------------------------------------------------------------\u001b[0m",
      "\u001b[0;31mNameError\u001b[0m                                 Traceback (most recent call last)",
      "\u001b[0;32m<ipython-input-39-d7befaefa369>\u001b[0m in \u001b[0;36m<module>\u001b[0;34m\u001b[0m\n\u001b[0;32m----> 1\u001b[0;31m \u001b[0mfunction\u001b[0m\u001b[0;34m(\u001b[0m\u001b[0;36m1\u001b[0m\u001b[0;34m)\u001b[0m\u001b[0;34m\u001b[0m\u001b[0;34m\u001b[0m\u001b[0m\n\u001b[0m",
      "\u001b[0;31mNameError\u001b[0m: name 'function' is not defined"
     ]
    }
   ],
   "source": [
    "function(1)"
   ]
  },
  {
   "cell_type": "code",
   "execution_count": 40,
   "metadata": {},
   "outputs": [
    {
     "data": {
      "text/plain": [
       "1"
      ]
     },
     "execution_count": 40,
     "metadata": {},
     "output_type": "execute_result"
    }
   ],
   "source": [
    "int(\"1\")"
   ]
  },
  {
   "cell_type": "code",
   "execution_count": 42,
   "metadata": {},
   "outputs": [],
   "source": [
    "items = [\"orange\", \"orange\", \"apple\", \"orange\"]"
   ]
  },
  {
   "cell_type": "code",
   "execution_count": 44,
   "metadata": {},
   "outputs": [],
   "source": [
    "total = 0"
   ]
  },
  {
   "cell_type": "code",
   "execution_count": 46,
   "metadata": {},
   "outputs": [],
   "source": [
    "for item in items:\n",
    "    if item == \"orange\":\n",
    "        total = total + 1"
   ]
  },
  {
   "cell_type": "code",
   "execution_count": 47,
   "metadata": {},
   "outputs": [
    {
     "data": {
      "text/plain": [
       "3"
      ]
     },
     "execution_count": 47,
     "metadata": {},
     "output_type": "execute_result"
    }
   ],
   "source": [
    "total"
   ]
  },
  {
   "cell_type": "code",
   "execution_count": 51,
   "metadata": {},
   "outputs": [],
   "source": [
    "total = 0\n",
    "for item in items:\n",
    "    if item == \"apple\":\n",
    "        total = total + 1"
   ]
  },
  {
   "cell_type": "code",
   "execution_count": 52,
   "metadata": {},
   "outputs": [
    {
     "data": {
      "text/plain": [
       "1"
      ]
     },
     "execution_count": 52,
     "metadata": {},
     "output_type": "execute_result"
    }
   ],
   "source": [
    "total"
   ]
  },
  {
   "cell_type": "code",
   "execution_count": 65,
   "metadata": {},
   "outputs": [],
   "source": [
    "def count_matches(names, matcher_1, matcher_2):\n",
    "    total_1 = 0\n",
    "    total_2 = 0\n",
    "    for item in items:\n",
    "        if item == matcher_1:\n",
    "            total_1 = total_1 + 1\n",
    "        if item == matcher_2:\n",
    "            total_2 = total_2 + 1\n",
    "    return total_1, total_2"
   ]
  },
  {
   "cell_type": "code",
   "execution_count": 67,
   "metadata": {},
   "outputs": [],
   "source": [
    "counts = count_matches(items, \"apple\", \"orange\")"
   ]
  },
  {
   "cell_type": "code",
   "execution_count": 68,
   "metadata": {},
   "outputs": [
    {
     "data": {
      "text/plain": [
       "(1, 3)"
      ]
     },
     "execution_count": 68,
     "metadata": {},
     "output_type": "execute_result"
    }
   ],
   "source": [
    "counts"
   ]
  },
  {
   "cell_type": "code",
   "execution_count": 69,
   "metadata": {},
   "outputs": [],
   "source": [
    "(a, o) = counts"
   ]
  },
  {
   "cell_type": "code",
   "execution_count": 70,
   "metadata": {},
   "outputs": [
    {
     "data": {
      "text/plain": [
       "1"
      ]
     },
     "execution_count": 70,
     "metadata": {},
     "output_type": "execute_result"
    }
   ],
   "source": [
    "a "
   ]
  },
  {
   "cell_type": "code",
   "execution_count": 71,
   "metadata": {},
   "outputs": [
    {
     "data": {
      "text/plain": [
       "3"
      ]
     },
     "execution_count": 71,
     "metadata": {},
     "output_type": "execute_result"
    }
   ],
   "source": [
    "o"
   ]
  },
  {
   "cell_type": "code",
   "execution_count": 72,
   "metadata": {},
   "outputs": [
    {
     "data": {
      "text/plain": [
       "tuple"
      ]
     },
     "execution_count": 72,
     "metadata": {},
     "output_type": "execute_result"
    }
   ],
   "source": [
    "type(counts)"
   ]
  },
  {
   "cell_type": "code",
   "execution_count": 74,
   "metadata": {},
   "outputs": [],
   "source": [
    "(j, m) = (37, \"marcus\")"
   ]
  },
  {
   "cell_type": "code",
   "execution_count": 75,
   "metadata": {},
   "outputs": [
    {
     "data": {
      "text/plain": [
       "37"
      ]
     },
     "execution_count": 75,
     "metadata": {},
     "output_type": "execute_result"
    }
   ],
   "source": [
    "j"
   ]
  },
  {
   "cell_type": "code",
   "execution_count": 76,
   "metadata": {},
   "outputs": [
    {
     "name": "stdout",
     "output_type": "stream",
     "text": [
      "Help on class object in module builtins:\n",
      "\n",
      "class object\n",
      " |  The base class of the class hierarchy.\n",
      " |  \n",
      " |  When called, it accepts no arguments and returns a new featureless\n",
      " |  instance that has no instance attributes and cannot be given any.\n",
      " |  \n",
      " |  Built-in subclasses:\n",
      " |      async_generator\n",
      " |      BaseException\n",
      " |      builtin_function_or_method\n",
      " |      bytearray\n",
      " |      ... and 93 other subclasses\n",
      " |  \n",
      " |  Methods defined here:\n",
      " |  \n",
      " |  __delattr__(self, name, /)\n",
      " |      Implement delattr(self, name).\n",
      " |  \n",
      " |  __dir__(self, /)\n",
      " |      Default dir() implementation.\n",
      " |  \n",
      " |  __eq__(self, value, /)\n",
      " |      Return self==value.\n",
      " |  \n",
      " |  __format__(self, format_spec, /)\n",
      " |      Default object formatter.\n",
      " |  \n",
      " |  __ge__(self, value, /)\n",
      " |      Return self>=value.\n",
      " |  \n",
      " |  __getattribute__(self, name, /)\n",
      " |      Return getattr(self, name).\n",
      " |  \n",
      " |  __gt__(self, value, /)\n",
      " |      Return self>value.\n",
      " |  \n",
      " |  __hash__(self, /)\n",
      " |      Return hash(self).\n",
      " |  \n",
      " |  __init__(self, /, *args, **kwargs)\n",
      " |      Initialize self.  See help(type(self)) for accurate signature.\n",
      " |  \n",
      " |  __le__(self, value, /)\n",
      " |      Return self<=value.\n",
      " |  \n",
      " |  __lt__(self, value, /)\n",
      " |      Return self<value.\n",
      " |  \n",
      " |  __ne__(self, value, /)\n",
      " |      Return self!=value.\n",
      " |  \n",
      " |  __reduce__(self, /)\n",
      " |      Helper for pickle.\n",
      " |  \n",
      " |  __reduce_ex__(self, protocol, /)\n",
      " |      Helper for pickle.\n",
      " |  \n",
      " |  __repr__(self, /)\n",
      " |      Return repr(self).\n",
      " |  \n",
      " |  __setattr__(self, name, value, /)\n",
      " |      Implement setattr(self, name, value).\n",
      " |  \n",
      " |  __sizeof__(self, /)\n",
      " |      Size of object in memory, in bytes.\n",
      " |  \n",
      " |  __str__(self, /)\n",
      " |      Return str(self).\n",
      " |  \n",
      " |  ----------------------------------------------------------------------\n",
      " |  Class methods defined here:\n",
      " |  \n",
      " |  __init_subclass__(...) from builtins.type\n",
      " |      This method is called when a class is subclassed.\n",
      " |      \n",
      " |      The default implementation does nothing. It may be\n",
      " |      overridden to extend subclasses.\n",
      " |  \n",
      " |  __subclasshook__(...) from builtins.type\n",
      " |      Abstract classes can override this to customize issubclass().\n",
      " |      \n",
      " |      This is invoked early on by abc.ABCMeta.__subclasscheck__().\n",
      " |      It should return True, False or NotImplemented.  If it returns\n",
      " |      NotImplemented, the normal algorithm is used.  Otherwise, it\n",
      " |      overrides the normal algorithm (and the outcome is cached).\n",
      " |  \n",
      " |  ----------------------------------------------------------------------\n",
      " |  Static methods defined here:\n",
      " |  \n",
      " |  __new__(*args, **kwargs) from builtins.type\n",
      " |      Create and return a new object.  See help(type) for accurate signature.\n",
      " |  \n",
      " |  ----------------------------------------------------------------------\n",
      " |  Data and other attributes defined here:\n",
      " |  \n",
      " |  __class__ = <class 'type'>\n",
      " |      type(object_or_name, bases, dict)\n",
      " |      type(object) -> the object's type\n",
      " |      type(name, bases, dict) -> a new type\n",
      "\n"
     ]
    }
   ],
   "source": [
    "help(object)"
   ]
  },
  {
   "cell_type": "code",
   "execution_count": 157,
   "metadata": {},
   "outputs": [],
   "source": [
    "class Person(object):\n",
    "    \"\"\"\n",
    "    Person is marcus` first class.\n",
    "    A Person has a name and an age.\n",
    "    A Person can have a birthday which increments their age by 1.\n",
    "    A Persons name can be capitalized.\n",
    "    \"\"\"\n",
    "    def __init__(self, name, age):\n",
    "        self.name = name\n",
    "        self.age = age\n",
    "        \n",
    "    def birthday(self):\n",
    "        \"\"\"\n",
    "        Increment the Persons age by 1 and print a nice birthday message.\n",
    "        \"\"\"\n",
    "        self.age = self.age + 1\n",
    "        print(f\"Happy birthday, {self.capitalize_name()}! Welcome to year {self.age}.\") \n",
    "        \n",
    "    def capitalize_name(self):\n",
    "        return self.name.capitalize()"
   ]
  },
  {
   "cell_type": "code",
   "execution_count": 158,
   "metadata": {},
   "outputs": [],
   "source": [
    "marcus = Person(\"marcus\", 25)"
   ]
  },
  {
   "cell_type": "code",
   "execution_count": 159,
   "metadata": {},
   "outputs": [
    {
     "data": {
      "text/plain": [
       "'marcus'"
      ]
     },
     "execution_count": 159,
     "metadata": {},
     "output_type": "execute_result"
    }
   ],
   "source": [
    "marcus.name"
   ]
  },
  {
   "cell_type": "code",
   "execution_count": 160,
   "metadata": {},
   "outputs": [
    {
     "data": {
      "text/plain": [
       "25"
      ]
     },
     "execution_count": 160,
     "metadata": {},
     "output_type": "execute_result"
    }
   ],
   "source": [
    "marcus.age"
   ]
  },
  {
   "cell_type": "code",
   "execution_count": 161,
   "metadata": {},
   "outputs": [
    {
     "name": "stdout",
     "output_type": "stream",
     "text": [
      "Happy birthday, Marcus! Welcome to year 26.\n"
     ]
    }
   ],
   "source": [
    "marcus.birthday()"
   ]
  },
  {
   "cell_type": "code",
   "execution_count": 162,
   "metadata": {},
   "outputs": [
    {
     "name": "stdout",
     "output_type": "stream",
     "text": [
      "Happy birthday, Marcus! Welcome to year 27.\n"
     ]
    }
   ],
   "source": [
    "marcus.birthday()"
   ]
  },
  {
   "cell_type": "code",
   "execution_count": 163,
   "metadata": {},
   "outputs": [
    {
     "data": {
      "text/plain": [
       "'Marcus'"
      ]
     },
     "execution_count": 163,
     "metadata": {},
     "output_type": "execute_result"
    }
   ],
   "source": [
    "marcus.capitalize_name()"
   ]
  },
  {
   "cell_type": "code",
   "execution_count": 164,
   "metadata": {},
   "outputs": [
    {
     "name": "stdout",
     "output_type": "stream",
     "text": [
      "Help on class Person in module __main__:\n",
      "\n",
      "class Person(builtins.object)\n",
      " |  Person(name, age)\n",
      " |  \n",
      " |  Person is marcus` first class.\n",
      " |  A Person has a name and an age.\n",
      " |  A Person can have a birthday which increments their age by 1.\n",
      " |  A Persons name can be capitalized.\n",
      " |  \n",
      " |  Methods defined here:\n",
      " |  \n",
      " |  __init__(self, name, age)\n",
      " |      Initialize self.  See help(type(self)) for accurate signature.\n",
      " |  \n",
      " |  birthday(self)\n",
      " |      Increment the Persons age by 1 and print a nice birthday message.\n",
      " |  \n",
      " |  capitalize_name(self)\n",
      " |  \n",
      " |  ----------------------------------------------------------------------\n",
      " |  Data descriptors defined here:\n",
      " |  \n",
      " |  __dict__\n",
      " |      dictionary for instance variables (if defined)\n",
      " |  \n",
      " |  __weakref__\n",
      " |      list of weak references to the object (if defined)\n",
      "\n"
     ]
    }
   ],
   "source": [
    "help(Person)"
   ]
  },
  {
   "cell_type": "code",
   "execution_count": 1,
   "metadata": {},
   "outputs": [],
   "source": [
    "x = \"marcus\""
   ]
  },
  {
   "cell_type": "code",
   "execution_count": 2,
   "metadata": {},
   "outputs": [
    {
     "data": {
      "text/plain": [
       "str"
      ]
     },
     "execution_count": 2,
     "metadata": {},
     "output_type": "execute_result"
    }
   ],
   "source": [
    "type(x)"
   ]
  },
  {
   "cell_type": "code",
   "execution_count": 3,
   "metadata": {},
   "outputs": [
    {
     "data": {
      "text/plain": [
       "'jason'"
      ]
     },
     "execution_count": 3,
     "metadata": {},
     "output_type": "execute_result"
    }
   ],
   "source": [
    "\"jason\""
   ]
  },
  {
   "cell_type": "code",
   "execution_count": 4,
   "metadata": {},
   "outputs": [
    {
     "data": {
      "text/plain": [
       "str"
      ]
     },
     "execution_count": 4,
     "metadata": {},
     "output_type": "execute_result"
    }
   ],
   "source": [
    "type(\"jason\")"
   ]
  },
  {
   "cell_type": "code",
   "execution_count": 5,
   "metadata": {},
   "outputs": [
    {
     "name": "stdout",
     "output_type": "stream",
     "text": [
      "its a string\n"
     ]
    }
   ],
   "source": [
    "if type(x) is str: \n",
    "    print(\"its a string\")"
   ]
  },
  {
   "cell_type": "code",
   "execution_count": 6,
   "metadata": {},
   "outputs": [],
   "source": [
    "x = []"
   ]
  },
  {
   "cell_type": "code",
   "execution_count": 7,
   "metadata": {},
   "outputs": [
    {
     "data": {
      "text/plain": [
       "list"
      ]
     },
     "execution_count": 7,
     "metadata": {},
     "output_type": "execute_result"
    }
   ],
   "source": [
    "type(x)"
   ]
  },
  {
   "cell_type": "code",
   "execution_count": 8,
   "metadata": {},
   "outputs": [],
   "source": [
    "x.append(\"marcus\")"
   ]
  },
  {
   "cell_type": "code",
   "execution_count": 9,
   "metadata": {},
   "outputs": [
    {
     "data": {
      "text/plain": [
       "['marcus']"
      ]
     },
     "execution_count": 9,
     "metadata": {},
     "output_type": "execute_result"
    }
   ],
   "source": [
    "x"
   ]
  },
  {
   "cell_type": "code",
   "execution_count": 10,
   "metadata": {},
   "outputs": [],
   "source": [
    "x.append(\"jason\")"
   ]
  },
  {
   "cell_type": "code",
   "execution_count": 11,
   "metadata": {},
   "outputs": [
    {
     "data": {
      "text/plain": [
       "['marcus', 'jason']"
      ]
     },
     "execution_count": 11,
     "metadata": {},
     "output_type": "execute_result"
    }
   ],
   "source": [
    "x"
   ]
  },
  {
   "cell_type": "code",
   "execution_count": 12,
   "metadata": {},
   "outputs": [
    {
     "data": {
      "text/plain": [
       "<function list.reverse()>"
      ]
     },
     "execution_count": 12,
     "metadata": {},
     "output_type": "execute_result"
    }
   ],
   "source": [
    "x.reverse"
   ]
  },
  {
   "cell_type": "code",
   "execution_count": 13,
   "metadata": {},
   "outputs": [],
   "source": [
    "x.reverse()"
   ]
  },
  {
   "cell_type": "code",
   "execution_count": 14,
   "metadata": {},
   "outputs": [
    {
     "data": {
      "text/plain": [
       "['jason', 'marcus']"
      ]
     },
     "execution_count": 14,
     "metadata": {},
     "output_type": "execute_result"
    }
   ],
   "source": [
    "x"
   ]
  },
  {
   "cell_type": "code",
   "execution_count": 15,
   "metadata": {},
   "outputs": [],
   "source": [
    "x.reverse()"
   ]
  },
  {
   "cell_type": "code",
   "execution_count": 16,
   "metadata": {},
   "outputs": [
    {
     "data": {
      "text/plain": [
       "['marcus', 'jason']"
      ]
     },
     "execution_count": 16,
     "metadata": {},
     "output_type": "execute_result"
    }
   ],
   "source": [
    "x"
   ]
  },
  {
   "cell_type": "code",
   "execution_count": 17,
   "metadata": {},
   "outputs": [],
   "source": [
    "x.sort()"
   ]
  },
  {
   "cell_type": "code",
   "execution_count": 18,
   "metadata": {},
   "outputs": [
    {
     "data": {
      "text/plain": [
       "['jason', 'marcus']"
      ]
     },
     "execution_count": 18,
     "metadata": {},
     "output_type": "execute_result"
    }
   ],
   "source": [
    "x"
   ]
  },
  {
   "cell_type": "code",
   "execution_count": 19,
   "metadata": {},
   "outputs": [
    {
     "data": {
      "text/plain": [
       "'marcus'"
      ]
     },
     "execution_count": 19,
     "metadata": {},
     "output_type": "execute_result"
    }
   ],
   "source": [
    "x.pop()"
   ]
  },
  {
   "cell_type": "code",
   "execution_count": 20,
   "metadata": {},
   "outputs": [
    {
     "data": {
      "text/plain": [
       "['jason']"
      ]
     },
     "execution_count": 20,
     "metadata": {},
     "output_type": "execute_result"
    }
   ],
   "source": [
    "x"
   ]
  },
  {
   "cell_type": "code",
   "execution_count": 21,
   "metadata": {},
   "outputs": [
    {
     "data": {
      "text/plain": [
       "builtin_function_or_method"
      ]
     },
     "execution_count": 21,
     "metadata": {},
     "output_type": "execute_result"
    }
   ],
   "source": [
    "type(x.pop)"
   ]
  },
  {
   "cell_type": "code",
   "execution_count": 25,
   "metadata": {},
   "outputs": [],
   "source": [
    "public_key=\"1234\"  \n",
    "private_key=\"abcd\"\n",
    "url=\"http://gateway.marvel.com/v1/public/comics ? ts=1 & apikey=1234 & hash=ffd275c5130566a2916217b101f26150\"\n",
    "hash_value=\"1abcd1234\"\n",
    "time_stamp=\"1\""
   ]
  },
  {
   "cell_type": "code",
   "execution_count": 36,
   "metadata": {},
   "outputs": [],
   "source": [
    "def generate_hash(ts, priv_key, pub_key):\n",
    "    hash_input = str(ts) + priv_key + pub_key \n",
    "    hash_result = hashlib.md5(hash_input.encode(\"utf-8\"))\n",
    "    hash_output = hash_result.hexdigest()\n",
    "    return hash_output"
   ]
  },
  {
   "cell_type": "code",
   "execution_count": 37,
   "metadata": {},
   "outputs": [
    {
     "data": {
      "text/plain": [
       "'ffd275c5130566a2916217b101f26150'"
      ]
     },
     "execution_count": 37,
     "metadata": {},
     "output_type": "execute_result"
    }
   ],
   "source": [
    "generate_hash(time_stamp, private_key, public_key)"
   ]
  },
  {
   "cell_type": "code",
   "execution_count": 42,
   "metadata": {},
   "outputs": [],
   "source": [
    "from time import time as now\n",
    "def timestamp():\n",
    "    right_now = now() * 10_000_000\n",
    "    return int(right_now)"
   ]
  },
  {
   "cell_type": "code",
   "execution_count": 44,
   "metadata": {},
   "outputs": [
    {
     "data": {
      "text/plain": [
       "16020346177107280"
      ]
     },
     "execution_count": 44,
     "metadata": {},
     "output_type": "execute_result"
    }
   ],
   "source": [
    "timestamp()"
   ]
  },
  {
   "cell_type": "code",
   "execution_count": 45,
   "metadata": {},
   "outputs": [
    {
     "data": {
      "text/plain": [
       "16020346263228584"
      ]
     },
     "execution_count": 45,
     "metadata": {},
     "output_type": "execute_result"
    }
   ],
   "source": [
    "timestamp()"
   ]
  },
  {
   "cell_type": "code",
   "execution_count": 46,
   "metadata": {},
   "outputs": [
    {
     "data": {
      "text/plain": [
       "16020346320928276"
      ]
     },
     "execution_count": 46,
     "metadata": {},
     "output_type": "execute_result"
    }
   ],
   "source": [
    "timestamp()"
   ]
  },
  {
   "cell_type": "code",
   "execution_count": 47,
   "metadata": {},
   "outputs": [],
   "source": [
    "import os"
   ]
  },
  {
   "cell_type": "code",
   "execution_count": 48,
   "metadata": {},
   "outputs": [],
   "source": [
    "env_pub_key = \"MARVEL_API_PUBLIC_KEY\"\n",
    "env_priv_key = \"MARVEL_API_PRIVATE_KEY\""
   ]
  },
  {
   "cell_type": "code",
   "execution_count": 55,
   "metadata": {},
   "outputs": [],
   "source": [
    "PUB_KEY = os.getenv(env_pub_key)\n",
    "PRIV_KEY = os.getenv(env_priv_key)\n",
    "BASE_URL = \"http://gateway.marvel.com/v1/public/\""
   ]
  },
  {
   "cell_type": "code",
   "execution_count": 60,
   "metadata": {},
   "outputs": [],
   "source": [
    "def generate_url(relpath):\n",
    "    ts = timestamp()\n",
    "    api_key = PUB_KEY\n",
    "    hash_value = generate_hash(ts, PRIV_KEY, PUB_KEY)\n",
    "    url = BASE_URL + relpath + \"?ts=\" + str(ts) + \"&apikey=\" + api_key + \"&hash=\" + hash_value\n",
    "    return url"
   ]
  },
  {
   "cell_type": "code",
   "execution_count": 62,
   "metadata": {},
   "outputs": [
    {
     "data": {
      "text/plain": [
       "'http://gateway.marvel.com/v1/public/comics?ts=16020360224878716&apikey=b6da7604b5a5dfc7082f113e7022153d&hash=ebfcc42e8bddb21e940d58b9cb176bf2'"
      ]
     },
     "execution_count": 62,
     "metadata": {},
     "output_type": "execute_result"
    }
   ],
   "source": [
    "generate_url(\"comics\")"
   ]
  },
  {
   "cell_type": "code",
   "execution_count": 1,
   "metadata": {},
   "outputs": [],
   "source": [
    "from marvel import api"
   ]
  },
  {
   "cell_type": "code",
   "execution_count": 3,
   "metadata": {},
   "outputs": [
    {
     "data": {
      "text/plain": [
       "'http://gateway.marvel.com/v1/public/comics?ts=16022951850069776&apikey=b6da7604b5a5dfc7082f113e7022153d&hash=bc9cab91d82732ac377c482812443697'"
      ]
     },
     "execution_count": 3,
     "metadata": {},
     "output_type": "execute_result"
    }
   ],
   "source": [
    "api._generate_url(\"comics\")"
   ]
  },
  {
   "cell_type": "code",
   "execution_count": 5,
   "metadata": {},
   "outputs": [
    {
     "data": {
      "text/plain": [
       "{'code': 200,\n",
       " 'status': 'Ok',\n",
       " 'copyright': '© 2020 MARVEL',\n",
       " 'attributionText': 'Data provided by Marvel. © 2020 MARVEL',\n",
       " 'attributionHTML': '<a href=\"http://marvel.com\">Data provided by Marvel. © 2020 MARVEL</a>',\n",
       " 'etag': 'e6255d9d520306809dab4cd05147a5e7ac338eea',\n",
       " 'data': {'offset': 0,\n",
       "  'limit': 20,\n",
       "  'total': 1493,\n",
       "  'count': 20,\n",
       "  'results': [{'id': 1011334,\n",
       "    'name': '3-D Man',\n",
       "    'description': '',\n",
       "    'modified': '2014-04-29T14:18:17-0400',\n",
       "    'thumbnail': {'path': 'http://i.annihil.us/u/prod/marvel/i/mg/c/e0/535fecbbb9784',\n",
       "     'extension': 'jpg'},\n",
       "    'resourceURI': 'http://gateway.marvel.com/v1/public/characters/1011334',\n",
       "    'comics': {'available': 12,\n",
       "     'collectionURI': 'http://gateway.marvel.com/v1/public/characters/1011334/comics',\n",
       "     'items': [{'resourceURI': 'http://gateway.marvel.com/v1/public/comics/21366',\n",
       "       'name': 'Avengers: The Initiative (2007) #14'},\n",
       "      {'resourceURI': 'http://gateway.marvel.com/v1/public/comics/24571',\n",
       "       'name': 'Avengers: The Initiative (2007) #14 (SPOTLIGHT VARIANT)'},\n",
       "      {'resourceURI': 'http://gateway.marvel.com/v1/public/comics/21546',\n",
       "       'name': 'Avengers: The Initiative (2007) #15'},\n",
       "      {'resourceURI': 'http://gateway.marvel.com/v1/public/comics/21741',\n",
       "       'name': 'Avengers: The Initiative (2007) #16'},\n",
       "      {'resourceURI': 'http://gateway.marvel.com/v1/public/comics/21975',\n",
       "       'name': 'Avengers: The Initiative (2007) #17'},\n",
       "      {'resourceURI': 'http://gateway.marvel.com/v1/public/comics/22299',\n",
       "       'name': 'Avengers: The Initiative (2007) #18'},\n",
       "      {'resourceURI': 'http://gateway.marvel.com/v1/public/comics/22300',\n",
       "       'name': 'Avengers: The Initiative (2007) #18 (ZOMBIE VARIANT)'},\n",
       "      {'resourceURI': 'http://gateway.marvel.com/v1/public/comics/22506',\n",
       "       'name': 'Avengers: The Initiative (2007) #19'},\n",
       "      {'resourceURI': 'http://gateway.marvel.com/v1/public/comics/8500',\n",
       "       'name': 'Deadpool (1997) #44'},\n",
       "      {'resourceURI': 'http://gateway.marvel.com/v1/public/comics/10223',\n",
       "       'name': 'Marvel Premiere (1972) #35'},\n",
       "      {'resourceURI': 'http://gateway.marvel.com/v1/public/comics/10224',\n",
       "       'name': 'Marvel Premiere (1972) #36'},\n",
       "      {'resourceURI': 'http://gateway.marvel.com/v1/public/comics/10225',\n",
       "       'name': 'Marvel Premiere (1972) #37'}],\n",
       "     'returned': 12},\n",
       "    'series': {'available': 3,\n",
       "     'collectionURI': 'http://gateway.marvel.com/v1/public/characters/1011334/series',\n",
       "     'items': [{'resourceURI': 'http://gateway.marvel.com/v1/public/series/1945',\n",
       "       'name': 'Avengers: The Initiative (2007 - 2010)'},\n",
       "      {'resourceURI': 'http://gateway.marvel.com/v1/public/series/2005',\n",
       "       'name': 'Deadpool (1997 - 2002)'},\n",
       "      {'resourceURI': 'http://gateway.marvel.com/v1/public/series/2045',\n",
       "       'name': 'Marvel Premiere (1972 - 1981)'}],\n",
       "     'returned': 3},\n",
       "    'stories': {'available': 21,\n",
       "     'collectionURI': 'http://gateway.marvel.com/v1/public/characters/1011334/stories',\n",
       "     'items': [{'resourceURI': 'http://gateway.marvel.com/v1/public/stories/19947',\n",
       "       'name': 'Cover #19947',\n",
       "       'type': 'cover'},\n",
       "      {'resourceURI': 'http://gateway.marvel.com/v1/public/stories/19948',\n",
       "       'name': 'The 3-D Man!',\n",
       "       'type': 'interiorStory'},\n",
       "      {'resourceURI': 'http://gateway.marvel.com/v1/public/stories/19949',\n",
       "       'name': 'Cover #19949',\n",
       "       'type': 'cover'},\n",
       "      {'resourceURI': 'http://gateway.marvel.com/v1/public/stories/19950',\n",
       "       'name': \"The Devil's Music!\",\n",
       "       'type': 'interiorStory'},\n",
       "      {'resourceURI': 'http://gateway.marvel.com/v1/public/stories/19951',\n",
       "       'name': 'Cover #19951',\n",
       "       'type': 'cover'},\n",
       "      {'resourceURI': 'http://gateway.marvel.com/v1/public/stories/19952',\n",
       "       'name': 'Code-Name:  The Cold Warrior!',\n",
       "       'type': 'interiorStory'},\n",
       "      {'resourceURI': 'http://gateway.marvel.com/v1/public/stories/47184',\n",
       "       'name': 'AVENGERS: THE INITIATIVE (2007) #14',\n",
       "       'type': 'cover'},\n",
       "      {'resourceURI': 'http://gateway.marvel.com/v1/public/stories/47185',\n",
       "       'name': 'Avengers: The Initiative (2007) #14 - Int',\n",
       "       'type': 'interiorStory'},\n",
       "      {'resourceURI': 'http://gateway.marvel.com/v1/public/stories/47498',\n",
       "       'name': 'AVENGERS: THE INITIATIVE (2007) #15',\n",
       "       'type': 'cover'},\n",
       "      {'resourceURI': 'http://gateway.marvel.com/v1/public/stories/47499',\n",
       "       'name': 'Avengers: The Initiative (2007) #15 - Int',\n",
       "       'type': 'interiorStory'},\n",
       "      {'resourceURI': 'http://gateway.marvel.com/v1/public/stories/47792',\n",
       "       'name': 'AVENGERS: THE INITIATIVE (2007) #16',\n",
       "       'type': 'cover'},\n",
       "      {'resourceURI': 'http://gateway.marvel.com/v1/public/stories/47793',\n",
       "       'name': 'Avengers: The Initiative (2007) #16 - Int',\n",
       "       'type': 'interiorStory'},\n",
       "      {'resourceURI': 'http://gateway.marvel.com/v1/public/stories/48361',\n",
       "       'name': 'AVENGERS: THE INITIATIVE (2007) #17',\n",
       "       'type': 'cover'},\n",
       "      {'resourceURI': 'http://gateway.marvel.com/v1/public/stories/48362',\n",
       "       'name': 'Avengers: The Initiative (2007) #17 - Int',\n",
       "       'type': 'interiorStory'},\n",
       "      {'resourceURI': 'http://gateway.marvel.com/v1/public/stories/49103',\n",
       "       'name': 'AVENGERS: THE INITIATIVE (2007) #18',\n",
       "       'type': 'cover'},\n",
       "      {'resourceURI': 'http://gateway.marvel.com/v1/public/stories/49104',\n",
       "       'name': 'Avengers: The Initiative (2007) #18 - Int',\n",
       "       'type': 'interiorStory'},\n",
       "      {'resourceURI': 'http://gateway.marvel.com/v1/public/stories/49106',\n",
       "       'name': 'Avengers: The Initiative (2007) #18, Zombie Variant - Int',\n",
       "       'type': 'interiorStory'},\n",
       "      {'resourceURI': 'http://gateway.marvel.com/v1/public/stories/49888',\n",
       "       'name': 'AVENGERS: THE INITIATIVE (2007) #19',\n",
       "       'type': 'cover'},\n",
       "      {'resourceURI': 'http://gateway.marvel.com/v1/public/stories/49889',\n",
       "       'name': 'Avengers: The Initiative (2007) #19 - Int',\n",
       "       'type': 'interiorStory'},\n",
       "      {'resourceURI': 'http://gateway.marvel.com/v1/public/stories/54371',\n",
       "       'name': 'Avengers: The Initiative (2007) #14, Spotlight Variant - Int',\n",
       "       'type': 'interiorStory'}],\n",
       "     'returned': 20},\n",
       "    'events': {'available': 1,\n",
       "     'collectionURI': 'http://gateway.marvel.com/v1/public/characters/1011334/events',\n",
       "     'items': [{'resourceURI': 'http://gateway.marvel.com/v1/public/events/269',\n",
       "       'name': 'Secret Invasion'}],\n",
       "     'returned': 1},\n",
       "    'urls': [{'type': 'detail',\n",
       "      'url': 'http://marvel.com/characters/74/3-d_man?utm_campaign=apiRef&utm_source=b6da7604b5a5dfc7082f113e7022153d'},\n",
       "     {'type': 'wiki',\n",
       "      'url': 'http://marvel.com/universe/3-D_Man_(Chandler)?utm_campaign=apiRef&utm_source=b6da7604b5a5dfc7082f113e7022153d'},\n",
       "     {'type': 'comiclink',\n",
       "      'url': 'http://marvel.com/comics/characters/1011334/3-d_man?utm_campaign=apiRef&utm_source=b6da7604b5a5dfc7082f113e7022153d'}]},\n",
       "   {'id': 1017100,\n",
       "    'name': 'A-Bomb (HAS)',\n",
       "    'description': \"Rick Jones has been Hulk's best bud since day one, but now he's more than a friend...he's a teammate! Transformed by a Gamma energy explosion, A-Bomb's thick, armored skin is just as strong and powerful as it is blue. And when he curls into action, he uses it like a giant bowling ball of destruction! \",\n",
       "    'modified': '2013-09-18T15:54:04-0400',\n",
       "    'thumbnail': {'path': 'http://i.annihil.us/u/prod/marvel/i/mg/3/20/5232158de5b16',\n",
       "     'extension': 'jpg'},\n",
       "    'resourceURI': 'http://gateway.marvel.com/v1/public/characters/1017100',\n",
       "    'comics': {'available': 3,\n",
       "     'collectionURI': 'http://gateway.marvel.com/v1/public/characters/1017100/comics',\n",
       "     'items': [{'resourceURI': 'http://gateway.marvel.com/v1/public/comics/40632',\n",
       "       'name': 'Hulk (2008) #53'},\n",
       "      {'resourceURI': 'http://gateway.marvel.com/v1/public/comics/40630',\n",
       "       'name': 'Hulk (2008) #54'},\n",
       "      {'resourceURI': 'http://gateway.marvel.com/v1/public/comics/40628',\n",
       "       'name': 'Hulk (2008) #55'}],\n",
       "     'returned': 3},\n",
       "    'series': {'available': 2,\n",
       "     'collectionURI': 'http://gateway.marvel.com/v1/public/characters/1017100/series',\n",
       "     'items': [{'resourceURI': 'http://gateway.marvel.com/v1/public/series/17765',\n",
       "       'name': 'FREE COMIC BOOK DAY 2013 1 (2013)'},\n",
       "      {'resourceURI': 'http://gateway.marvel.com/v1/public/series/3374',\n",
       "       'name': 'Hulk (2008 - 2012)'}],\n",
       "     'returned': 2},\n",
       "    'stories': {'available': 7,\n",
       "     'collectionURI': 'http://gateway.marvel.com/v1/public/characters/1017100/stories',\n",
       "     'items': [{'resourceURI': 'http://gateway.marvel.com/v1/public/stories/92078',\n",
       "       'name': 'Hulk (2008) #55',\n",
       "       'type': 'cover'},\n",
       "      {'resourceURI': 'http://gateway.marvel.com/v1/public/stories/92079',\n",
       "       'name': 'Interior #92079',\n",
       "       'type': 'interiorStory'},\n",
       "      {'resourceURI': 'http://gateway.marvel.com/v1/public/stories/92082',\n",
       "       'name': 'Hulk (2008) #54',\n",
       "       'type': 'cover'},\n",
       "      {'resourceURI': 'http://gateway.marvel.com/v1/public/stories/92083',\n",
       "       'name': 'Interior #92083',\n",
       "       'type': 'interiorStory'},\n",
       "      {'resourceURI': 'http://gateway.marvel.com/v1/public/stories/92086',\n",
       "       'name': 'Hulk (2008) #53',\n",
       "       'type': 'cover'},\n",
       "      {'resourceURI': 'http://gateway.marvel.com/v1/public/stories/92087',\n",
       "       'name': 'Interior #92087',\n",
       "       'type': 'interiorStory'},\n",
       "      {'resourceURI': 'http://gateway.marvel.com/v1/public/stories/105929',\n",
       "       'name': 'cover from Free Comic Book Day 2013 (Avengers/Hulk) (2013) #1',\n",
       "       'type': 'cover'}],\n",
       "     'returned': 7},\n",
       "    'events': {'available': 0,\n",
       "     'collectionURI': 'http://gateway.marvel.com/v1/public/characters/1017100/events',\n",
       "     'items': [],\n",
       "     'returned': 0},\n",
       "    'urls': [{'type': 'detail',\n",
       "      'url': 'http://marvel.com/characters/76/a-bomb?utm_campaign=apiRef&utm_source=b6da7604b5a5dfc7082f113e7022153d'},\n",
       "     {'type': 'comiclink',\n",
       "      'url': 'http://marvel.com/comics/characters/1017100/a-bomb_has?utm_campaign=apiRef&utm_source=b6da7604b5a5dfc7082f113e7022153d'}]},\n",
       "   {'id': 1009144,\n",
       "    'name': 'A.I.M.',\n",
       "    'description': 'AIM is a terrorist organization bent on destroying the world.',\n",
       "    'modified': '2013-10-17T14:41:30-0400',\n",
       "    'thumbnail': {'path': 'http://i.annihil.us/u/prod/marvel/i/mg/6/20/52602f21f29ec',\n",
       "     'extension': 'jpg'},\n",
       "    'resourceURI': 'http://gateway.marvel.com/v1/public/characters/1009144',\n",
       "    'comics': {'available': 49,\n",
       "     'collectionURI': 'http://gateway.marvel.com/v1/public/characters/1009144/comics',\n",
       "     'items': [{'resourceURI': 'http://gateway.marvel.com/v1/public/comics/36763',\n",
       "       'name': 'Ant-Man & the Wasp (2010) #3'},\n",
       "      {'resourceURI': 'http://gateway.marvel.com/v1/public/comics/17553',\n",
       "       'name': 'Avengers (1998) #67'},\n",
       "      {'resourceURI': 'http://gateway.marvel.com/v1/public/comics/7340',\n",
       "       'name': 'Avengers (1963) #87'},\n",
       "      {'resourceURI': 'http://gateway.marvel.com/v1/public/comics/4214',\n",
       "       'name': 'Avengers and Power Pack Assemble! (2006) #2'},\n",
       "      {'resourceURI': 'http://gateway.marvel.com/v1/public/comics/63217',\n",
       "       'name': 'Avengers and Power Pack (2017) #3'},\n",
       "      {'resourceURI': 'http://gateway.marvel.com/v1/public/comics/63218',\n",
       "       'name': 'Avengers and Power Pack (2017) #4'},\n",
       "      {'resourceURI': 'http://gateway.marvel.com/v1/public/comics/63219',\n",
       "       'name': 'Avengers and Power Pack (2017) #5'},\n",
       "      {'resourceURI': 'http://gateway.marvel.com/v1/public/comics/63220',\n",
       "       'name': 'Avengers and Power Pack (2017) #6'},\n",
       "      {'resourceURI': 'http://gateway.marvel.com/v1/public/comics/64790',\n",
       "       'name': 'Avengers by Brian Michael Bendis: The Complete Collection Vol. 2 (Trade Paperback)'},\n",
       "      {'resourceURI': 'http://gateway.marvel.com/v1/public/comics/1170',\n",
       "       'name': 'Avengers Vol. 2: Red Zone (Trade Paperback)'},\n",
       "      {'resourceURI': 'http://gateway.marvel.com/v1/public/comics/1214',\n",
       "       'name': 'Avengers Vol. II: Red Zone (Trade Paperback)'},\n",
       "      {'resourceURI': 'http://gateway.marvel.com/v1/public/comics/12787',\n",
       "       'name': 'Captain America (1998) #28'},\n",
       "      {'resourceURI': 'http://gateway.marvel.com/v1/public/comics/7513',\n",
       "       'name': 'Captain America (1968) #132'},\n",
       "      {'resourceURI': 'http://gateway.marvel.com/v1/public/comics/7514',\n",
       "       'name': 'Captain America (1968) #133'},\n",
       "      {'resourceURI': 'http://gateway.marvel.com/v1/public/comics/65466',\n",
       "       'name': 'Captain America by Mark Waid, Ron Garney & Andy Kubert (Hardcover)'},\n",
       "      {'resourceURI': 'http://gateway.marvel.com/v1/public/comics/20367',\n",
       "       'name': 'Defenders (1972) #57'},\n",
       "      {'resourceURI': 'http://gateway.marvel.com/v1/public/comics/31068',\n",
       "       'name': 'Incredible Hulks (2010) #606 (VARIANT)'},\n",
       "      {'resourceURI': 'http://gateway.marvel.com/v1/public/comics/46168',\n",
       "       'name': 'Indestructible Hulk (2012) #3'},\n",
       "      {'resourceURI': 'http://gateway.marvel.com/v1/public/comics/43944',\n",
       "       'name': 'Iron Man (2012) #1'},\n",
       "      {'resourceURI': 'http://gateway.marvel.com/v1/public/comics/9544',\n",
       "       'name': 'Iron Man (1968) #295'}],\n",
       "     'returned': 20},\n",
       "    'series': {'available': 33,\n",
       "     'collectionURI': 'http://gateway.marvel.com/v1/public/characters/1009144/series',\n",
       "     'items': [{'resourceURI': 'http://gateway.marvel.com/v1/public/series/13082',\n",
       "       'name': 'Ant-Man & the Wasp (2010 - 2011)'},\n",
       "      {'resourceURI': 'http://gateway.marvel.com/v1/public/series/354',\n",
       "       'name': 'Avengers (1998 - 2004)'},\n",
       "      {'resourceURI': 'http://gateway.marvel.com/v1/public/series/1991',\n",
       "       'name': 'Avengers (1963 - 1996)'},\n",
       "      {'resourceURI': 'http://gateway.marvel.com/v1/public/series/23123',\n",
       "       'name': 'Avengers and Power Pack (2017)'},\n",
       "      {'resourceURI': 'http://gateway.marvel.com/v1/public/series/1046',\n",
       "       'name': 'Avengers and Power Pack Assemble! (2006)'},\n",
       "      {'resourceURI': 'http://gateway.marvel.com/v1/public/series/23600',\n",
       "       'name': 'Avengers by Brian Michael Bendis: The Complete Collection Vol. 2 (2017)'},\n",
       "      {'resourceURI': 'http://gateway.marvel.com/v1/public/series/227',\n",
       "       'name': 'Avengers Vol. 2: Red Zone (2003)'},\n",
       "      {'resourceURI': 'http://gateway.marvel.com/v1/public/series/271',\n",
       "       'name': 'Avengers Vol. II: Red Zone (2003)'},\n",
       "      {'resourceURI': 'http://gateway.marvel.com/v1/public/series/1996',\n",
       "       'name': 'Captain America (1968 - 1996)'},\n",
       "      {'resourceURI': 'http://gateway.marvel.com/v1/public/series/1997',\n",
       "       'name': 'Captain America (1998 - 2002)'},\n",
       "      {'resourceURI': 'http://gateway.marvel.com/v1/public/series/23810',\n",
       "       'name': 'Captain America by Mark Waid, Ron Garney & Andy Kubert (2017)'},\n",
       "      {'resourceURI': 'http://gateway.marvel.com/v1/public/series/3743',\n",
       "       'name': 'Defenders (1972 - 1986)'},\n",
       "      {'resourceURI': 'http://gateway.marvel.com/v1/public/series/8842',\n",
       "       'name': 'Incredible Hulks (2010 - 2011)'},\n",
       "      {'resourceURI': 'http://gateway.marvel.com/v1/public/series/16583',\n",
       "       'name': 'Indestructible Hulk (2012 - 2014)'},\n",
       "      {'resourceURI': 'http://gateway.marvel.com/v1/public/series/16593',\n",
       "       'name': 'Iron Man (2012 - 2014)'},\n",
       "      {'resourceURI': 'http://gateway.marvel.com/v1/public/series/2029',\n",
       "       'name': 'Iron Man (1968 - 1996)'},\n",
       "      {'resourceURI': 'http://gateway.marvel.com/v1/public/series/23915',\n",
       "       'name': 'Iron Man Epic Collection: Doom (2018)'},\n",
       "      {'resourceURI': 'http://gateway.marvel.com/v1/public/series/9718',\n",
       "       'name': 'Marvel Adventures Super Heroes (2010 - 2012)'},\n",
       "      {'resourceURI': 'http://gateway.marvel.com/v1/public/series/189',\n",
       "       'name': 'Marvel Masterworks: Captain America Vol. 1 - 2nd Edition (2003)'},\n",
       "      {'resourceURI': 'http://gateway.marvel.com/v1/public/series/1506',\n",
       "       'name': 'MARVEL MASTERWORKS: CAPTAIN AMERICA VOL. 1 HC (2005)'}],\n",
       "     'returned': 20},\n",
       "    'stories': {'available': 52,\n",
       "     'collectionURI': 'http://gateway.marvel.com/v1/public/characters/1009144/stories',\n",
       "     'items': [{'resourceURI': 'http://gateway.marvel.com/v1/public/stories/5800',\n",
       "       'name': 'Avengers and Power Pack Assemble! (2006) #2',\n",
       "       'type': 'cover'},\n",
       "      {'resourceURI': 'http://gateway.marvel.com/v1/public/stories/5801',\n",
       "       'name': '2 of 4 - 4XLS',\n",
       "       'type': 'interiorStory'},\n",
       "      {'resourceURI': 'http://gateway.marvel.com/v1/public/stories/10253',\n",
       "       'name': 'When the Unliving Strike',\n",
       "       'type': 'interiorStory'},\n",
       "      {'resourceURI': 'http://gateway.marvel.com/v1/public/stories/10255',\n",
       "       'name': 'Cover #10255',\n",
       "       'type': 'cover'},\n",
       "      {'resourceURI': 'http://gateway.marvel.com/v1/public/stories/10256',\n",
       "       'name': 'The Enemy Within!',\n",
       "       'type': 'interiorStory'},\n",
       "      {'resourceURI': 'http://gateway.marvel.com/v1/public/stories/10259',\n",
       "       'name': 'Death Before Dishonor!',\n",
       "       'type': 'interiorStory'},\n",
       "      {'resourceURI': 'http://gateway.marvel.com/v1/public/stories/10261',\n",
       "       'name': 'Cover #10261',\n",
       "       'type': 'cover'},\n",
       "      {'resourceURI': 'http://gateway.marvel.com/v1/public/stories/10262',\n",
       "       'name': 'The End of A.I.M.!',\n",
       "       'type': 'interiorStory'},\n",
       "      {'resourceURI': 'http://gateway.marvel.com/v1/public/stories/11921',\n",
       "       'name': 'The Red Skull Lives!',\n",
       "       'type': 'interiorStory'},\n",
       "      {'resourceURI': 'http://gateway.marvel.com/v1/public/stories/11930',\n",
       "       'name': 'He Who Holds the Cosmic Cube',\n",
       "       'type': 'interiorStory'},\n",
       "      {'resourceURI': 'http://gateway.marvel.com/v1/public/stories/11936',\n",
       "       'name': 'The Maddening Mystery of the Inconceivable Adaptoid!',\n",
       "       'type': 'interiorStory'},\n",
       "      {'resourceURI': 'http://gateway.marvel.com/v1/public/stories/11981',\n",
       "       'name': 'If This Be... Modok',\n",
       "       'type': 'interiorStory'},\n",
       "      {'resourceURI': 'http://gateway.marvel.com/v1/public/stories/11984',\n",
       "       'name': 'A Time to Die -- A Time to Live!',\n",
       "       'type': 'interiorStory'},\n",
       "      {'resourceURI': 'http://gateway.marvel.com/v1/public/stories/11995',\n",
       "       'name': 'At the Mercy of the Maggia',\n",
       "       'type': 'interiorStory'},\n",
       "      {'resourceURI': 'http://gateway.marvel.com/v1/public/stories/15243',\n",
       "       'name': 'Look Homeward, Avenger',\n",
       "       'type': 'interiorStory'},\n",
       "      {'resourceURI': 'http://gateway.marvel.com/v1/public/stories/17518',\n",
       "       'name': 'Captain America (1968) #132',\n",
       "       'type': 'cover'},\n",
       "      {'resourceURI': 'http://gateway.marvel.com/v1/public/stories/17519',\n",
       "       'name': 'The Fearful Secret of Bucky Barnes',\n",
       "       'type': 'interiorStory'},\n",
       "      {'resourceURI': 'http://gateway.marvel.com/v1/public/stories/17520',\n",
       "       'name': 'Captain America (1968) #133',\n",
       "       'type': 'cover'},\n",
       "      {'resourceURI': 'http://gateway.marvel.com/v1/public/stories/17521',\n",
       "       'name': 'Madness In the Slums',\n",
       "       'type': 'interiorStory'},\n",
       "      {'resourceURI': 'http://gateway.marvel.com/v1/public/stories/28233',\n",
       "       'name': 'In Sin Airy X',\n",
       "       'type': 'interiorStory'}],\n",
       "     'returned': 20},\n",
       "    'events': {'available': 0,\n",
       "     'collectionURI': 'http://gateway.marvel.com/v1/public/characters/1009144/events',\n",
       "     'items': [],\n",
       "     'returned': 0},\n",
       "    'urls': [{'type': 'detail',\n",
       "      'url': 'http://marvel.com/characters/77/aim.?utm_campaign=apiRef&utm_source=b6da7604b5a5dfc7082f113e7022153d'},\n",
       "     {'type': 'wiki',\n",
       "      'url': 'http://marvel.com/universe/A.I.M.?utm_campaign=apiRef&utm_source=b6da7604b5a5dfc7082f113e7022153d'},\n",
       "     {'type': 'comiclink',\n",
       "      'url': 'http://marvel.com/comics/characters/1009144/aim.?utm_campaign=apiRef&utm_source=b6da7604b5a5dfc7082f113e7022153d'}]},\n",
       "   {'id': 1010699,\n",
       "    'name': 'Aaron Stack',\n",
       "    'description': '',\n",
       "    'modified': '1969-12-31T19:00:00-0500',\n",
       "    'thumbnail': {'path': 'http://i.annihil.us/u/prod/marvel/i/mg/b/40/image_not_available',\n",
       "     'extension': 'jpg'},\n",
       "    'resourceURI': 'http://gateway.marvel.com/v1/public/characters/1010699',\n",
       "    'comics': {'available': 14,\n",
       "     'collectionURI': 'http://gateway.marvel.com/v1/public/characters/1010699/comics',\n",
       "     'items': [{'resourceURI': 'http://gateway.marvel.com/v1/public/comics/40776',\n",
       "       'name': 'Dark Avengers (2012) #177'},\n",
       "      {'resourceURI': 'http://gateway.marvel.com/v1/public/comics/40773',\n",
       "       'name': 'Dark Avengers (2012) #179'},\n",
       "      {'resourceURI': 'http://gateway.marvel.com/v1/public/comics/40774',\n",
       "       'name': 'Dark Avengers (2012) #180'},\n",
       "      {'resourceURI': 'http://gateway.marvel.com/v1/public/comics/40778',\n",
       "       'name': 'Dark Avengers (2012) #181'},\n",
       "      {'resourceURI': 'http://gateway.marvel.com/v1/public/comics/40787',\n",
       "       'name': 'Dark Avengers (2012) #182'},\n",
       "      {'resourceURI': 'http://gateway.marvel.com/v1/public/comics/40786',\n",
       "       'name': 'Dark Avengers (2012) #183'},\n",
       "      {'resourceURI': 'http://gateway.marvel.com/v1/public/comics/38073',\n",
       "       'name': 'Hulk (2008) #43'},\n",
       "      {'resourceURI': 'http://gateway.marvel.com/v1/public/comics/11910',\n",
       "       'name': 'Universe X (2000) #6'},\n",
       "      {'resourceURI': 'http://gateway.marvel.com/v1/public/comics/11911',\n",
       "       'name': 'Universe X (2000) #7'},\n",
       "      {'resourceURI': 'http://gateway.marvel.com/v1/public/comics/11912',\n",
       "       'name': 'Universe X (2000) #8'},\n",
       "      {'resourceURI': 'http://gateway.marvel.com/v1/public/comics/11913',\n",
       "       'name': 'Universe X (2000) #9'},\n",
       "      {'resourceURI': 'http://gateway.marvel.com/v1/public/comics/11903',\n",
       "       'name': 'Universe X (2000) #10'},\n",
       "      {'resourceURI': 'http://gateway.marvel.com/v1/public/comics/11904',\n",
       "       'name': 'Universe X (2000) #11'},\n",
       "      {'resourceURI': 'http://gateway.marvel.com/v1/public/comics/11905',\n",
       "       'name': 'Universe X (2000) #12'}],\n",
       "     'returned': 14},\n",
       "    'series': {'available': 3,\n",
       "     'collectionURI': 'http://gateway.marvel.com/v1/public/characters/1010699/series',\n",
       "     'items': [{'resourceURI': 'http://gateway.marvel.com/v1/public/series/789',\n",
       "       'name': 'Dark Avengers (2012 - 2013)'},\n",
       "      {'resourceURI': 'http://gateway.marvel.com/v1/public/series/3374',\n",
       "       'name': 'Hulk (2008 - 2012)'},\n",
       "      {'resourceURI': 'http://gateway.marvel.com/v1/public/series/2085',\n",
       "       'name': 'Universe X (2000 - 2001)'}],\n",
       "     'returned': 3},\n",
       "    'stories': {'available': 27,\n",
       "     'collectionURI': 'http://gateway.marvel.com/v1/public/characters/1010699/stories',\n",
       "     'items': [{'resourceURI': 'http://gateway.marvel.com/v1/public/stories/25634',\n",
       "       'name': 'Universe X (2000) #10',\n",
       "       'type': 'cover'},\n",
       "      {'resourceURI': 'http://gateway.marvel.com/v1/public/stories/25635',\n",
       "       'name': 'Interior #25635',\n",
       "       'type': 'interiorStory'},\n",
       "      {'resourceURI': 'http://gateway.marvel.com/v1/public/stories/25637',\n",
       "       'name': 'Universe X (2000) #12',\n",
       "       'type': 'cover'},\n",
       "      {'resourceURI': 'http://gateway.marvel.com/v1/public/stories/25638',\n",
       "       'name': 'Interior #25638',\n",
       "       'type': 'interiorStory'},\n",
       "      {'resourceURI': 'http://gateway.marvel.com/v1/public/stories/25647',\n",
       "       'name': 'Universe X (2000) #6',\n",
       "       'type': 'cover'},\n",
       "      {'resourceURI': 'http://gateway.marvel.com/v1/public/stories/25648',\n",
       "       'name': 'Interior #25648',\n",
       "       'type': 'interiorStory'},\n",
       "      {'resourceURI': 'http://gateway.marvel.com/v1/public/stories/25649',\n",
       "       'name': 'Universe X (2000) #7',\n",
       "       'type': 'cover'},\n",
       "      {'resourceURI': 'http://gateway.marvel.com/v1/public/stories/25650',\n",
       "       'name': 'Interior #25650',\n",
       "       'type': 'interiorStory'},\n",
       "      {'resourceURI': 'http://gateway.marvel.com/v1/public/stories/25651',\n",
       "       'name': 'Universe X (2000) #8',\n",
       "       'type': 'cover'},\n",
       "      {'resourceURI': 'http://gateway.marvel.com/v1/public/stories/25652',\n",
       "       'name': 'Interior #25652',\n",
       "       'type': 'interiorStory'},\n",
       "      {'resourceURI': 'http://gateway.marvel.com/v1/public/stories/25653',\n",
       "       'name': 'Universe X (2000) #9',\n",
       "       'type': 'cover'},\n",
       "      {'resourceURI': 'http://gateway.marvel.com/v1/public/stories/25654',\n",
       "       'name': 'Interior #25654',\n",
       "       'type': 'interiorStory'},\n",
       "      {'resourceURI': 'http://gateway.marvel.com/v1/public/stories/67100',\n",
       "       'name': 'Universe X (2000) #11',\n",
       "       'type': 'cover'},\n",
       "      {'resourceURI': 'http://gateway.marvel.com/v1/public/stories/89190',\n",
       "       'name': 'Hulk (2008) #43',\n",
       "       'type': 'cover'},\n",
       "      {'resourceURI': 'http://gateway.marvel.com/v1/public/stories/90002',\n",
       "       'name': 'Interior #90002',\n",
       "       'type': 'interiorStory'},\n",
       "      {'resourceURI': 'http://gateway.marvel.com/v1/public/stories/92370',\n",
       "       'name': 'Dark Avengers (2012) #179',\n",
       "       'type': 'cover'},\n",
       "      {'resourceURI': 'http://gateway.marvel.com/v1/public/stories/92371',\n",
       "       'name': 'Interior #92371',\n",
       "       'type': 'interiorStory'},\n",
       "      {'resourceURI': 'http://gateway.marvel.com/v1/public/stories/92372',\n",
       "       'name': 'Dark Avengers (2012) #180',\n",
       "       'type': 'cover'},\n",
       "      {'resourceURI': 'http://gateway.marvel.com/v1/public/stories/92373',\n",
       "       'name': 'Interior #92373',\n",
       "       'type': 'interiorStory'},\n",
       "      {'resourceURI': 'http://gateway.marvel.com/v1/public/stories/92376',\n",
       "       'name': 'Dark Avengers (2012) #177',\n",
       "       'type': 'cover'}],\n",
       "     'returned': 20},\n",
       "    'events': {'available': 0,\n",
       "     'collectionURI': 'http://gateway.marvel.com/v1/public/characters/1010699/events',\n",
       "     'items': [],\n",
       "     'returned': 0},\n",
       "    'urls': [{'type': 'detail',\n",
       "      'url': 'http://marvel.com/characters/2809/aaron_stack?utm_campaign=apiRef&utm_source=b6da7604b5a5dfc7082f113e7022153d'},\n",
       "     {'type': 'comiclink',\n",
       "      'url': 'http://marvel.com/comics/characters/1010699/aaron_stack?utm_campaign=apiRef&utm_source=b6da7604b5a5dfc7082f113e7022153d'}]},\n",
       "   {'id': 1009146,\n",
       "    'name': 'Abomination (Emil Blonsky)',\n",
       "    'description': 'Formerly known as Emil Blonsky, a spy of Soviet Yugoslavian origin working for the KGB, the Abomination gained his powers after receiving a dose of gamma radiation similar to that which transformed Bruce Banner into the incredible Hulk.',\n",
       "    'modified': '2012-03-20T12:32:12-0400',\n",
       "    'thumbnail': {'path': 'http://i.annihil.us/u/prod/marvel/i/mg/9/50/4ce18691cbf04',\n",
       "     'extension': 'jpg'},\n",
       "    'resourceURI': 'http://gateway.marvel.com/v1/public/characters/1009146',\n",
       "    'comics': {'available': 53,\n",
       "     'collectionURI': 'http://gateway.marvel.com/v1/public/characters/1009146/comics',\n",
       "     'items': [{'resourceURI': 'http://gateway.marvel.com/v1/public/comics/17547',\n",
       "       'name': 'Avengers (1998) #61'},\n",
       "      {'resourceURI': 'http://gateway.marvel.com/v1/public/comics/17548',\n",
       "       'name': 'Avengers (1998) #62'},\n",
       "      {'resourceURI': 'http://gateway.marvel.com/v1/public/comics/1098',\n",
       "       'name': 'Avengers Vol. 1: World Trust (Trade Paperback)'},\n",
       "      {'resourceURI': 'http://gateway.marvel.com/v1/public/comics/8557',\n",
       "       'name': 'Earth X (1999) #7'},\n",
       "      {'resourceURI': 'http://gateway.marvel.com/v1/public/comics/4241',\n",
       "       'name': 'Earth X (New (Trade Paperback)'},\n",
       "      {'resourceURI': 'http://gateway.marvel.com/v1/public/comics/20863',\n",
       "       'name': 'Hulk (2008) #3'},\n",
       "      {'resourceURI': 'http://gateway.marvel.com/v1/public/comics/2499',\n",
       "       'name': 'Hulk: Destruction (2005) #4'},\n",
       "      {'resourceURI': 'http://gateway.marvel.com/v1/public/comics/14424',\n",
       "       'name': 'Hulk (1999) #24'},\n",
       "      {'resourceURI': 'http://gateway.marvel.com/v1/public/comics/14425',\n",
       "       'name': 'Hulk (1999) #25'},\n",
       "      {'resourceURI': 'http://gateway.marvel.com/v1/public/comics/14428',\n",
       "       'name': 'Hulk (1999) #28'},\n",
       "      {'resourceURI': 'http://gateway.marvel.com/v1/public/comics/14450',\n",
       "       'name': 'Hulk (1999) #50'},\n",
       "      {'resourceURI': 'http://gateway.marvel.com/v1/public/comics/14451',\n",
       "       'name': 'Hulk (1999) #51'},\n",
       "      {'resourceURI': 'http://gateway.marvel.com/v1/public/comics/14453',\n",
       "       'name': 'Hulk (1999) #53'},\n",
       "      {'resourceURI': 'http://gateway.marvel.com/v1/public/comics/14454',\n",
       "       'name': 'Hulk (1999) #54'},\n",
       "      {'resourceURI': 'http://gateway.marvel.com/v1/public/comics/8948',\n",
       "       'name': 'Incredible Hulk (1962) #137'},\n",
       "      {'resourceURI': 'http://gateway.marvel.com/v1/public/comics/8982',\n",
       "       'name': 'Incredible Hulk (1962) #171'},\n",
       "      {'resourceURI': 'http://gateway.marvel.com/v1/public/comics/9005',\n",
       "       'name': 'Incredible Hulk (1962) #194'},\n",
       "      {'resourceURI': 'http://gateway.marvel.com/v1/public/comics/9006',\n",
       "       'name': 'Incredible Hulk (1962) #195'},\n",
       "      {'resourceURI': 'http://gateway.marvel.com/v1/public/comics/9007',\n",
       "       'name': 'Incredible Hulk (1962) #196'},\n",
       "      {'resourceURI': 'http://gateway.marvel.com/v1/public/comics/9011',\n",
       "       'name': 'Incredible Hulk (1962) #200'}],\n",
       "     'returned': 20},\n",
       "    'series': {'available': 26,\n",
       "     'collectionURI': 'http://gateway.marvel.com/v1/public/characters/1009146/series',\n",
       "     'items': [{'resourceURI': 'http://gateway.marvel.com/v1/public/series/354',\n",
       "       'name': 'Avengers (1998 - 2004)'},\n",
       "      {'resourceURI': 'http://gateway.marvel.com/v1/public/series/158',\n",
       "       'name': 'Avengers Vol. 1: World Trust (2003)'},\n",
       "      {'resourceURI': 'http://gateway.marvel.com/v1/public/series/378',\n",
       "       'name': 'Earth X (1999 - 2000)'},\n",
       "      {'resourceURI': 'http://gateway.marvel.com/v1/public/series/1806',\n",
       "       'name': 'Earth X (New (2006)'},\n",
       "      {'resourceURI': 'http://gateway.marvel.com/v1/public/series/465',\n",
       "       'name': 'Hulk (1999 - 2008)'},\n",
       "      {'resourceURI': 'http://gateway.marvel.com/v1/public/series/3374',\n",
       "       'name': 'Hulk (2008 - 2012)'},\n",
       "      {'resourceURI': 'http://gateway.marvel.com/v1/public/series/924',\n",
       "       'name': 'Hulk: Destruction (2005)'},\n",
       "      {'resourceURI': 'http://gateway.marvel.com/v1/public/series/2021',\n",
       "       'name': 'Incredible Hulk (1962 - 1999)'},\n",
       "      {'resourceURI': 'http://gateway.marvel.com/v1/public/series/2983',\n",
       "       'name': 'Incredible Hulk Annual (1976 - 1994)'},\n",
       "      {'resourceURI': 'http://gateway.marvel.com/v1/public/series/22424',\n",
       "       'name': 'Incredible Hulk Epic Collection: The Hulk Must Die (2017)'},\n",
       "      {'resourceURI': 'http://gateway.marvel.com/v1/public/series/212',\n",
       "       'name': 'Incredible Hulk Vol. 4: Abominable (2003)'},\n",
       "      {'resourceURI': 'http://gateway.marvel.com/v1/public/series/244',\n",
       "       'name': 'Incredible Hulk Vol. IV: Abominable (2003)'},\n",
       "      {'resourceURI': 'http://gateway.marvel.com/v1/public/series/8842',\n",
       "       'name': 'Incredible Hulks (2010 - 2011)'},\n",
       "      {'resourceURI': 'http://gateway.marvel.com/v1/public/series/2572',\n",
       "       'name': 'Iron Man (1998 - 2004)'},\n",
       "      {'resourceURI': 'http://gateway.marvel.com/v1/public/series/977',\n",
       "       'name': 'Irredeemable Ant-Man (2006 - 2007)'},\n",
       "      {'resourceURI': 'http://gateway.marvel.com/v1/public/series/2423',\n",
       "       'name': 'Irredeemable Ant-Man Vol. 1: Low-Life (2007)'},\n",
       "      {'resourceURI': 'http://gateway.marvel.com/v1/public/series/3722',\n",
       "       'name': 'Killraven (2002 - 2003)'},\n",
       "      {'resourceURI': 'http://gateway.marvel.com/v1/public/series/2437',\n",
       "       'name': 'KILLRAVEN PREMIERE HC (2007)'},\n",
       "      {'resourceURI': 'http://gateway.marvel.com/v1/public/series/21675',\n",
       "       'name': 'Marvel Cinematic Universe Guidebook: The Avengers Initiative (2017)'},\n",
       "      {'resourceURI': 'http://gateway.marvel.com/v1/public/series/22327',\n",
       "       'name': 'Marvel Masterworks: The Incredible Hulk Vol. 11 (2017)'}],\n",
       "     'returned': 20},\n",
       "    'stories': {'available': 63,\n",
       "     'collectionURI': 'http://gateway.marvel.com/v1/public/characters/1009146/stories',\n",
       "     'items': [{'resourceURI': 'http://gateway.marvel.com/v1/public/stories/4946',\n",
       "       'name': '4 of 4 - 4XLS',\n",
       "       'type': 'cover'},\n",
       "      {'resourceURI': 'http://gateway.marvel.com/v1/public/stories/5496',\n",
       "       'name': 'Irredeemable Ant-Man (2006) #1',\n",
       "       'type': 'cover'},\n",
       "      {'resourceURI': 'http://gateway.marvel.com/v1/public/stories/12370',\n",
       "       'name': 'Cover #12370',\n",
       "       'type': 'cover'},\n",
       "      {'resourceURI': 'http://gateway.marvel.com/v1/public/stories/12372',\n",
       "       'name': 'Whosoever Harms the Hulk..!',\n",
       "       'type': 'interiorStory'},\n",
       "      {'resourceURI': 'http://gateway.marvel.com/v1/public/stories/18419',\n",
       "       'name': '[none]',\n",
       "       'type': 'cover'},\n",
       "      {'resourceURI': 'http://gateway.marvel.com/v1/public/stories/18420',\n",
       "       'name': 'The Stars Mine Enemy',\n",
       "       'type': 'interiorStory'},\n",
       "      {'resourceURI': 'http://gateway.marvel.com/v1/public/stories/18488',\n",
       "       'name': 'Incredible Hulk (1962) #171',\n",
       "       'type': 'cover'},\n",
       "      {'resourceURI': 'http://gateway.marvel.com/v1/public/stories/18489',\n",
       "       'name': 'Revenge',\n",
       "       'type': ''},\n",
       "      {'resourceURI': 'http://gateway.marvel.com/v1/public/stories/18534',\n",
       "       'name': 'Incredible Hulk (1962) #194',\n",
       "       'type': 'cover'},\n",
       "      {'resourceURI': 'http://gateway.marvel.com/v1/public/stories/18535',\n",
       "       'name': 'The Day of the Locust!',\n",
       "       'type': 'interiorStory'},\n",
       "      {'resourceURI': 'http://gateway.marvel.com/v1/public/stories/18536',\n",
       "       'name': 'Incredible Hulk (1962) #195',\n",
       "       'type': 'cover'},\n",
       "      {'resourceURI': 'http://gateway.marvel.com/v1/public/stories/18537',\n",
       "       'name': 'Warfare In Wonderland!',\n",
       "       'type': 'interiorStory'},\n",
       "      {'resourceURI': 'http://gateway.marvel.com/v1/public/stories/18538',\n",
       "       'name': 'Incredible Hulk (1962) #196',\n",
       "       'type': 'cover'},\n",
       "      {'resourceURI': 'http://gateway.marvel.com/v1/public/stories/18539',\n",
       "       'name': 'The Abomination Proclamation!',\n",
       "       'type': 'interiorStory'},\n",
       "      {'resourceURI': 'http://gateway.marvel.com/v1/public/stories/18546',\n",
       "       'name': 'Incredible Hulk (1962) #200',\n",
       "       'type': 'cover'},\n",
       "      {'resourceURI': 'http://gateway.marvel.com/v1/public/stories/18547',\n",
       "       'name': 'An Intruder In the Mind!',\n",
       "       'type': 'interiorStory'},\n",
       "      {'resourceURI': 'http://gateway.marvel.com/v1/public/stories/18776',\n",
       "       'name': 'Cover #18776',\n",
       "       'type': 'cover'},\n",
       "      {'resourceURI': 'http://gateway.marvel.com/v1/public/stories/18877',\n",
       "       'name': 'Incredible Hulk (1962) #364',\n",
       "       'type': 'cover'},\n",
       "      {'resourceURI': 'http://gateway.marvel.com/v1/public/stories/18878',\n",
       "       'name': 'Countdown Part 4: The Abomination',\n",
       "       'type': 'interiorStory'},\n",
       "      {'resourceURI': 'http://gateway.marvel.com/v1/public/stories/18881',\n",
       "       'name': 'Incredible Hulk (1962) #366',\n",
       "       'type': 'cover'}],\n",
       "     'returned': 20},\n",
       "    'events': {'available': 1,\n",
       "     'collectionURI': 'http://gateway.marvel.com/v1/public/characters/1009146/events',\n",
       "     'items': [{'resourceURI': 'http://gateway.marvel.com/v1/public/events/296',\n",
       "       'name': 'Chaos War'}],\n",
       "     'returned': 1},\n",
       "    'urls': [{'type': 'detail',\n",
       "      'url': 'http://marvel.com/characters/81/abomination?utm_campaign=apiRef&utm_source=b6da7604b5a5dfc7082f113e7022153d'},\n",
       "     {'type': 'wiki',\n",
       "      'url': 'http://marvel.com/universe/Abomination?utm_campaign=apiRef&utm_source=b6da7604b5a5dfc7082f113e7022153d'},\n",
       "     {'type': 'comiclink',\n",
       "      'url': 'http://marvel.com/comics/characters/1009146/abomination_emil_blonsky?utm_campaign=apiRef&utm_source=b6da7604b5a5dfc7082f113e7022153d'}]},\n",
       "   {'id': 1016823,\n",
       "    'name': 'Abomination (Ultimate)',\n",
       "    'description': '',\n",
       "    'modified': '2012-07-10T19:11:52-0400',\n",
       "    'thumbnail': {'path': 'http://i.annihil.us/u/prod/marvel/i/mg/b/40/image_not_available',\n",
       "     'extension': 'jpg'},\n",
       "    'resourceURI': 'http://gateway.marvel.com/v1/public/characters/1016823',\n",
       "    'comics': {'available': 2,\n",
       "     'collectionURI': 'http://gateway.marvel.com/v1/public/characters/1016823/comics',\n",
       "     'items': [{'resourceURI': 'http://gateway.marvel.com/v1/public/comics/40638',\n",
       "       'name': 'Hulk (2008) #50'},\n",
       "      {'resourceURI': 'http://gateway.marvel.com/v1/public/comics/15717',\n",
       "       'name': 'Ultimate X-Men (2001) #26'}],\n",
       "     'returned': 2},\n",
       "    'series': {'available': 2,\n",
       "     'collectionURI': 'http://gateway.marvel.com/v1/public/characters/1016823/series',\n",
       "     'items': [{'resourceURI': 'http://gateway.marvel.com/v1/public/series/3374',\n",
       "       'name': 'Hulk (2008 - 2012)'},\n",
       "      {'resourceURI': 'http://gateway.marvel.com/v1/public/series/474',\n",
       "       'name': 'Ultimate X-Men (2001 - 2009)'}],\n",
       "     'returned': 2},\n",
       "    'stories': {'available': 3,\n",
       "     'collectionURI': 'http://gateway.marvel.com/v1/public/characters/1016823/stories',\n",
       "     'items': [{'resourceURI': 'http://gateway.marvel.com/v1/public/stories/31883',\n",
       "       'name': 'Free Preview of THE INCREDIBLE HULK #50',\n",
       "       'type': 'interiorStory'},\n",
       "      {'resourceURI': 'http://gateway.marvel.com/v1/public/stories/92098',\n",
       "       'name': 'Hulk (2008) #50',\n",
       "       'type': 'cover'},\n",
       "      {'resourceURI': 'http://gateway.marvel.com/v1/public/stories/92099',\n",
       "       'name': 'Interior #92099',\n",
       "       'type': 'interiorStory'}],\n",
       "     'returned': 3},\n",
       "    'events': {'available': 0,\n",
       "     'collectionURI': 'http://gateway.marvel.com/v1/public/characters/1016823/events',\n",
       "     'items': [],\n",
       "     'returned': 0},\n",
       "    'urls': [{'type': 'detail',\n",
       "      'url': 'http://marvel.com/characters/81/abomination?utm_campaign=apiRef&utm_source=b6da7604b5a5dfc7082f113e7022153d'},\n",
       "     {'type': 'comiclink',\n",
       "      'url': 'http://marvel.com/comics/characters/1016823/abomination_ultimate?utm_campaign=apiRef&utm_source=b6da7604b5a5dfc7082f113e7022153d'}]},\n",
       "   {'id': 1009148,\n",
       "    'name': 'Absorbing Man',\n",
       "    'description': '',\n",
       "    'modified': '2013-10-24T14:32:08-0400',\n",
       "    'thumbnail': {'path': 'http://i.annihil.us/u/prod/marvel/i/mg/1/b0/5269678709fb7',\n",
       "     'extension': 'jpg'},\n",
       "    'resourceURI': 'http://gateway.marvel.com/v1/public/characters/1009148',\n",
       "    'comics': {'available': 91,\n",
       "     'collectionURI': 'http://gateway.marvel.com/v1/public/characters/1009148/comics',\n",
       "     'items': [{'resourceURI': 'http://gateway.marvel.com/v1/public/comics/43507',\n",
       "       'name': 'A+X (2012) #8'},\n",
       "      {'resourceURI': 'http://gateway.marvel.com/v1/public/comics/7045',\n",
       "       'name': 'Avengers (1963) #183'},\n",
       "      {'resourceURI': 'http://gateway.marvel.com/v1/public/comics/7046',\n",
       "       'name': 'Avengers (1963) #184'},\n",
       "      {'resourceURI': 'http://gateway.marvel.com/v1/public/comics/7142',\n",
       "       'name': 'Avengers (1963) #270'},\n",
       "      {'resourceURI': 'http://gateway.marvel.com/v1/public/comics/36481',\n",
       "       'name': 'Avengers Academy (2010) #16'},\n",
       "      {'resourceURI': 'http://gateway.marvel.com/v1/public/comics/36480',\n",
       "       'name': 'Avengers Academy (2010) #17'},\n",
       "      {'resourceURI': 'http://gateway.marvel.com/v1/public/comics/36479',\n",
       "       'name': 'Avengers Academy (2010) #18'},\n",
       "      {'resourceURI': 'http://gateway.marvel.com/v1/public/comics/36484',\n",
       "       'name': 'Avengers Academy (2010) #19'},\n",
       "      {'resourceURI': 'http://gateway.marvel.com/v1/public/comics/17776',\n",
       "       'name': 'Avengers Annual (1967) #20'},\n",
       "      {'resourceURI': 'http://gateway.marvel.com/v1/public/comics/63662',\n",
       "       'name': 'Black Bolt (2017) #3'},\n",
       "      {'resourceURI': 'http://gateway.marvel.com/v1/public/comics/64278',\n",
       "       'name': 'Black Bolt (2017) #4'},\n",
       "      {'resourceURI': 'http://gateway.marvel.com/v1/public/comics/66533',\n",
       "       'name': 'Black Bolt (2017) #11'},\n",
       "      {'resourceURI': 'http://gateway.marvel.com/v1/public/comics/65327',\n",
       "       'name': 'Black Bolt Vol. 1: Hard Time (Trade Paperback)'},\n",
       "      {'resourceURI': 'http://gateway.marvel.com/v1/public/comics/12783',\n",
       "       'name': 'Captain America (1998) #24'},\n",
       "      {'resourceURI': 'http://gateway.marvel.com/v1/public/comics/20427',\n",
       "       'name': 'Dazzler (1981) #18'},\n",
       "      {'resourceURI': 'http://gateway.marvel.com/v1/public/comics/20428',\n",
       "       'name': 'Dazzler (1981) #19'},\n",
       "      {'resourceURI': 'http://gateway.marvel.com/v1/public/comics/8499',\n",
       "       'name': 'Deadpool (1997) #43'},\n",
       "      {'resourceURI': 'http://gateway.marvel.com/v1/public/comics/15541',\n",
       "       'name': 'Fantastic Four (1998) #22'},\n",
       "      {'resourceURI': 'http://gateway.marvel.com/v1/public/comics/13151',\n",
       "       'name': 'Fantastic Four (1961) #330'},\n",
       "      {'resourceURI': 'http://gateway.marvel.com/v1/public/comics/41433',\n",
       "       'name': 'Fear Itself (2010) #2 (3rd Printing Variant)'}],\n",
       "     'returned': 20},\n",
       "    'series': {'available': 47,\n",
       "     'collectionURI': 'http://gateway.marvel.com/v1/public/characters/1009148/series',\n",
       "     'items': [{'resourceURI': 'http://gateway.marvel.com/v1/public/series/16450',\n",
       "       'name': 'A+X (2012 - 2014)'},\n",
       "      {'resourceURI': 'http://gateway.marvel.com/v1/public/series/1991',\n",
       "       'name': 'Avengers (1963 - 1996)'},\n",
       "      {'resourceURI': 'http://gateway.marvel.com/v1/public/series/9086',\n",
       "       'name': 'Avengers Academy (2010 - 2012)'},\n",
       "      {'resourceURI': 'http://gateway.marvel.com/v1/public/series/1988',\n",
       "       'name': 'Avengers Annual (1967 - 1994)'},\n",
       "      {'resourceURI': 'http://gateway.marvel.com/v1/public/series/23121',\n",
       "       'name': 'Black Bolt (2017 - 2018)'},\n",
       "      {'resourceURI': 'http://gateway.marvel.com/v1/public/series/23778',\n",
       "       'name': 'Black Bolt Vol. 1: Hard Time (2017)'},\n",
       "      {'resourceURI': 'http://gateway.marvel.com/v1/public/series/1997',\n",
       "       'name': 'Captain America (1998 - 2002)'},\n",
       "      {'resourceURI': 'http://gateway.marvel.com/v1/public/series/3745',\n",
       "       'name': 'Dazzler (1981 - 1986)'},\n",
       "      {'resourceURI': 'http://gateway.marvel.com/v1/public/series/2005',\n",
       "       'name': 'Deadpool (1997 - 2002)'},\n",
       "      {'resourceURI': 'http://gateway.marvel.com/v1/public/series/2121',\n",
       "       'name': 'Fantastic Four (1961 - 1998)'},\n",
       "      {'resourceURI': 'http://gateway.marvel.com/v1/public/series/421',\n",
       "       'name': 'Fantastic Four (1998 - 2012)'},\n",
       "      {'resourceURI': 'http://gateway.marvel.com/v1/public/series/13691',\n",
       "       'name': 'Fear Itself (2010 - 2011)'},\n",
       "      {'resourceURI': 'http://gateway.marvel.com/v1/public/series/13857',\n",
       "       'name': 'Fear Itself: Fellowship of Fear (2011)'},\n",
       "      {'resourceURI': 'http://gateway.marvel.com/v1/public/series/13827',\n",
       "       'name': 'Fear Itself: The Worthy (2011)'},\n",
       "      {'resourceURI': 'http://gateway.marvel.com/v1/public/series/20084',\n",
       "       'name': 'Heroes for Hire (1997 - 1999)'},\n",
       "      {'resourceURI': 'http://gateway.marvel.com/v1/public/series/465',\n",
       "       'name': 'Hulk (1999 - 2008)'},\n",
       "      {'resourceURI': 'http://gateway.marvel.com/v1/public/series/20552',\n",
       "       'name': 'Illuminati (2015 - 2016)'},\n",
       "      {'resourceURI': 'http://gateway.marvel.com/v1/public/series/24278',\n",
       "       'name': 'Immortal Hulk (2018 - Present)'},\n",
       "      {'resourceURI': 'http://gateway.marvel.com/v1/public/series/24891',\n",
       "       'name': 'Immortal Hulk Vol. 2: The Green Door (2019)'},\n",
       "      {'resourceURI': 'http://gateway.marvel.com/v1/public/series/2021',\n",
       "       'name': 'Incredible Hulk (1962 - 1999)'}],\n",
       "     'returned': 20},\n",
       "    'stories': {'available': 104,\n",
       "     'collectionURI': 'http://gateway.marvel.com/v1/public/characters/1009148/stories',\n",
       "     'items': [{'resourceURI': 'http://gateway.marvel.com/v1/public/stories/4988',\n",
       "       'name': '1 of 1',\n",
       "       'type': 'cover'},\n",
       "      {'resourceURI': 'http://gateway.marvel.com/v1/public/stories/7866',\n",
       "       'name': 'Punisher War Journal (2006) #4',\n",
       "       'type': 'cover'},\n",
       "      {'resourceURI': 'http://gateway.marvel.com/v1/public/stories/10997',\n",
       "       'name': 'Journey Into Mystery (1952) #114',\n",
       "       'type': 'cover'},\n",
       "      {'resourceURI': 'http://gateway.marvel.com/v1/public/stories/10998',\n",
       "       'name': 'The Stronger I Am, the Sooner I Die',\n",
       "       'type': 'interiorStory'},\n",
       "      {'resourceURI': 'http://gateway.marvel.com/v1/public/stories/11000',\n",
       "       'name': 'Journey Into Mystery (1952) #115',\n",
       "       'type': 'cover'},\n",
       "      {'resourceURI': 'http://gateway.marvel.com/v1/public/stories/11001',\n",
       "       'name': 'The Vengeance of the Thunder God',\n",
       "       'type': 'interiorStory'},\n",
       "      {'resourceURI': 'http://gateway.marvel.com/v1/public/stories/11022',\n",
       "       'name': 'Journey Into Mystery (1952) #120',\n",
       "       'type': 'cover'},\n",
       "      {'resourceURI': 'http://gateway.marvel.com/v1/public/stories/11023',\n",
       "       'name': 'With My Hammer In Hand',\n",
       "       'type': 'interiorStory'},\n",
       "      {'resourceURI': 'http://gateway.marvel.com/v1/public/stories/11025',\n",
       "       'name': 'Journey Into Mystery (1952) #121',\n",
       "       'type': 'cover'},\n",
       "      {'resourceURI': 'http://gateway.marvel.com/v1/public/stories/11026',\n",
       "       'name': 'The Power!  The Passion!  The Pride!',\n",
       "       'type': 'interiorStory'},\n",
       "      {'resourceURI': 'http://gateway.marvel.com/v1/public/stories/11028',\n",
       "       'name': 'Journey Into Mystery (1952) #122',\n",
       "       'type': 'cover'},\n",
       "      {'resourceURI': 'http://gateway.marvel.com/v1/public/stories/11029',\n",
       "       'name': 'Where Mortals Fear To Tread!',\n",
       "       'type': 'interiorStory'},\n",
       "      {'resourceURI': 'http://gateway.marvel.com/v1/public/stories/11031',\n",
       "       'name': 'Journey Into Mystery (1952) #123',\n",
       "       'type': 'cover'},\n",
       "      {'resourceURI': 'http://gateway.marvel.com/v1/public/stories/11032',\n",
       "       'name': 'While a Universe Trembles',\n",
       "       'type': 'interiorStory'},\n",
       "      {'resourceURI': 'http://gateway.marvel.com/v1/public/stories/12951',\n",
       "       'name': 'Fantastic Four (1961) #330',\n",
       "       'type': 'cover'},\n",
       "      {'resourceURI': 'http://gateway.marvel.com/v1/public/stories/12952',\n",
       "       'name': 'Good Dreams!',\n",
       "       'type': 'interiorStory'},\n",
       "      {'resourceURI': 'http://gateway.marvel.com/v1/public/stories/14628',\n",
       "       'name': 'Avengers (1963) #183',\n",
       "       'type': 'cover'},\n",
       "      {'resourceURI': 'http://gateway.marvel.com/v1/public/stories/14630',\n",
       "       'name': 'Avengers (1963) #184',\n",
       "       'type': 'cover'},\n",
       "      {'resourceURI': 'http://gateway.marvel.com/v1/public/stories/14823',\n",
       "       'name': 'Avengers (1963) #270',\n",
       "       'type': 'cover'},\n",
       "      {'resourceURI': 'http://gateway.marvel.com/v1/public/stories/16688',\n",
       "       'name': 'Thor (1966) #206',\n",
       "       'type': 'cover'}],\n",
       "     'returned': 20},\n",
       "    'events': {'available': 4,\n",
       "     'collectionURI': 'http://gateway.marvel.com/v1/public/characters/1009148/events',\n",
       "     'items': [{'resourceURI': 'http://gateway.marvel.com/v1/public/events/238',\n",
       "       'name': 'Civil War'},\n",
       "      {'resourceURI': 'http://gateway.marvel.com/v1/public/events/302',\n",
       "       'name': 'Fear Itself'},\n",
       "      {'resourceURI': 'http://gateway.marvel.com/v1/public/events/270',\n",
       "       'name': 'Secret Wars'},\n",
       "      {'resourceURI': 'http://gateway.marvel.com/v1/public/events/273',\n",
       "       'name': 'Siege'}],\n",
       "     'returned': 4},\n",
       "    'urls': [{'type': 'detail',\n",
       "      'url': 'http://marvel.com/characters/84/absorbing_man?utm_campaign=apiRef&utm_source=b6da7604b5a5dfc7082f113e7022153d'},\n",
       "     {'type': 'wiki',\n",
       "      'url': 'http://marvel.com/universe/Absorbing_Man?utm_campaign=apiRef&utm_source=b6da7604b5a5dfc7082f113e7022153d'},\n",
       "     {'type': 'comiclink',\n",
       "      'url': 'http://marvel.com/comics/characters/1009148/absorbing_man?utm_campaign=apiRef&utm_source=b6da7604b5a5dfc7082f113e7022153d'}]},\n",
       "   {'id': 1009149,\n",
       "    'name': 'Abyss',\n",
       "    'description': '',\n",
       "    'modified': '2014-04-29T14:10:43-0400',\n",
       "    'thumbnail': {'path': 'http://i.annihil.us/u/prod/marvel/i/mg/9/30/535feab462a64',\n",
       "     'extension': 'jpg'},\n",
       "    'resourceURI': 'http://gateway.marvel.com/v1/public/characters/1009149',\n",
       "    'comics': {'available': 8,\n",
       "     'collectionURI': 'http://gateway.marvel.com/v1/public/characters/1009149/comics',\n",
       "     'items': [{'resourceURI': 'http://gateway.marvel.com/v1/public/comics/13943',\n",
       "       'name': 'Uncanny X-Men (1963) #402'},\n",
       "      {'resourceURI': 'http://gateway.marvel.com/v1/public/comics/13945',\n",
       "       'name': 'Uncanny X-Men (1963) #404'},\n",
       "      {'resourceURI': 'http://gateway.marvel.com/v1/public/comics/13946',\n",
       "       'name': 'Uncanny X-Men (1963) #405'},\n",
       "      {'resourceURI': 'http://gateway.marvel.com/v1/public/comics/13947',\n",
       "       'name': 'Uncanny X-Men (1963) #406'},\n",
       "      {'resourceURI': 'http://gateway.marvel.com/v1/public/comics/13970',\n",
       "       'name': 'Uncanny X-Men (1963) #429'},\n",
       "      {'resourceURI': 'http://gateway.marvel.com/v1/public/comics/13972',\n",
       "       'name': 'Uncanny X-Men (1963) #431'},\n",
       "      {'resourceURI': 'http://gateway.marvel.com/v1/public/comics/12386',\n",
       "       'name': 'X-Men: Alpha (1995) #1'},\n",
       "      {'resourceURI': 'http://gateway.marvel.com/v1/public/comics/2539',\n",
       "       'name': 'X-Men: The Complete Age of Apocalypse Epic Book 2 (Trade Paperback)'}],\n",
       "     'returned': 8},\n",
       "    'series': {'available': 3,\n",
       "     'collectionURI': 'http://gateway.marvel.com/v1/public/characters/1009149/series',\n",
       "     'items': [{'resourceURI': 'http://gateway.marvel.com/v1/public/series/2258',\n",
       "       'name': 'Uncanny X-Men (1963 - 2011)'},\n",
       "      {'resourceURI': 'http://gateway.marvel.com/v1/public/series/2104',\n",
       "       'name': 'X-Men: Alpha (1995)'},\n",
       "      {'resourceURI': 'http://gateway.marvel.com/v1/public/series/1583',\n",
       "       'name': 'X-Men: The Complete Age of Apocalypse Epic Book 2 (2005)'}],\n",
       "     'returned': 3},\n",
       "    'stories': {'available': 8,\n",
       "     'collectionURI': 'http://gateway.marvel.com/v1/public/characters/1009149/stories',\n",
       "     'items': [{'resourceURI': 'http://gateway.marvel.com/v1/public/stories/26281',\n",
       "       'name': 'A Beginning',\n",
       "       'type': 'interiorStory'},\n",
       "      {'resourceURI': 'http://gateway.marvel.com/v1/public/stories/28352',\n",
       "       'name': 'Utility of Myth',\n",
       "       'type': 'interiorStory'},\n",
       "      {'resourceURI': 'http://gateway.marvel.com/v1/public/stories/28356',\n",
       "       'name': 'Army Ants',\n",
       "       'type': 'interiorStory'},\n",
       "      {'resourceURI': 'http://gateway.marvel.com/v1/public/stories/28358',\n",
       "       'name': 'Ballroom Blitzkrieg',\n",
       "       'type': 'interiorStory'},\n",
       "      {'resourceURI': 'http://gateway.marvel.com/v1/public/stories/28360',\n",
       "       'name': 'Staring Contests are for Suckers',\n",
       "       'type': 'interiorStory'},\n",
       "      {'resourceURI': 'http://gateway.marvel.com/v1/public/stories/28407',\n",
       "       'name': 'The Draco Part One: Sins of the Father',\n",
       "       'type': 'interiorStory'},\n",
       "      {'resourceURI': 'http://gateway.marvel.com/v1/public/stories/28411',\n",
       "       'name': 'The Draco Part Three',\n",
       "       'type': 'interiorStory'},\n",
       "      {'resourceURI': 'http://gateway.marvel.com/v1/public/stories/28413',\n",
       "       'name': 'The Draco Part Four',\n",
       "       'type': 'interiorStory'}],\n",
       "     'returned': 8},\n",
       "    'events': {'available': 1,\n",
       "     'collectionURI': 'http://gateway.marvel.com/v1/public/characters/1009149/events',\n",
       "     'items': [{'resourceURI': 'http://gateway.marvel.com/v1/public/events/227',\n",
       "       'name': 'Age of Apocalypse'}],\n",
       "     'returned': 1},\n",
       "    'urls': [{'type': 'detail',\n",
       "      'url': 'http://marvel.com/characters/85/abyss?utm_campaign=apiRef&utm_source=b6da7604b5a5dfc7082f113e7022153d'},\n",
       "     {'type': 'wiki',\n",
       "      'url': 'http://marvel.com/universe/Abyss_(alien)?utm_campaign=apiRef&utm_source=b6da7604b5a5dfc7082f113e7022153d'},\n",
       "     {'type': 'comiclink',\n",
       "      'url': 'http://marvel.com/comics/characters/1009149/abyss?utm_campaign=apiRef&utm_source=b6da7604b5a5dfc7082f113e7022153d'}]},\n",
       "   {'id': 1010903,\n",
       "    'name': 'Abyss (Age of Apocalypse)',\n",
       "    'description': '',\n",
       "    'modified': '1969-12-31T19:00:00-0500',\n",
       "    'thumbnail': {'path': 'http://i.annihil.us/u/prod/marvel/i/mg/3/80/4c00358ec7548',\n",
       "     'extension': 'jpg'},\n",
       "    'resourceURI': 'http://gateway.marvel.com/v1/public/characters/1010903',\n",
       "    'comics': {'available': 3,\n",
       "     'collectionURI': 'http://gateway.marvel.com/v1/public/characters/1010903/comics',\n",
       "     'items': [{'resourceURI': 'http://gateway.marvel.com/v1/public/comics/18099',\n",
       "       'name': 'Weapon X (1995) #1'},\n",
       "      {'resourceURI': 'http://gateway.marvel.com/v1/public/comics/12386',\n",
       "       'name': 'X-Men: Alpha (1995) #1'},\n",
       "      {'resourceURI': 'http://gateway.marvel.com/v1/public/comics/2539',\n",
       "       'name': 'X-Men: The Complete Age of Apocalypse Epic Book 2 (Trade Paperback)'}],\n",
       "     'returned': 3},\n",
       "    'series': {'available': 3,\n",
       "     'collectionURI': 'http://gateway.marvel.com/v1/public/characters/1010903/series',\n",
       "     'items': [{'resourceURI': 'http://gateway.marvel.com/v1/public/series/3635',\n",
       "       'name': 'Weapon X (1995)'},\n",
       "      {'resourceURI': 'http://gateway.marvel.com/v1/public/series/2104',\n",
       "       'name': 'X-Men: Alpha (1995)'},\n",
       "      {'resourceURI': 'http://gateway.marvel.com/v1/public/series/1583',\n",
       "       'name': 'X-Men: The Complete Age of Apocalypse Epic Book 2 (2005)'}],\n",
       "     'returned': 3},\n",
       "    'stories': {'available': 2,\n",
       "     'collectionURI': 'http://gateway.marvel.com/v1/public/characters/1010903/stories',\n",
       "     'items': [{'resourceURI': 'http://gateway.marvel.com/v1/public/stories/26280',\n",
       "       'name': 'X-Men: Alpha (1994) #1',\n",
       "       'type': 'cover'},\n",
       "      {'resourceURI': 'http://gateway.marvel.com/v1/public/stories/38448',\n",
       "       'name': 'X-Facts',\n",
       "       'type': ''}],\n",
       "     'returned': 2},\n",
       "    'events': {'available': 1,\n",
       "     'collectionURI': 'http://gateway.marvel.com/v1/public/characters/1010903/events',\n",
       "     'items': [{'resourceURI': 'http://gateway.marvel.com/v1/public/events/227',\n",
       "       'name': 'Age of Apocalypse'}],\n",
       "     'returned': 1},\n",
       "    'urls': [{'type': 'detail',\n",
       "      'url': 'http://marvel.com/characters/85/abyss?utm_campaign=apiRef&utm_source=b6da7604b5a5dfc7082f113e7022153d'},\n",
       "     {'type': 'wiki',\n",
       "      'url': 'http://marvel.com/universe/Abyss_(Age_of_Apocalypse)?utm_campaign=apiRef&utm_source=b6da7604b5a5dfc7082f113e7022153d'},\n",
       "     {'type': 'comiclink',\n",
       "      'url': 'http://marvel.com/comics/characters/1010903/abyss_age_of_apocalypse?utm_campaign=apiRef&utm_source=b6da7604b5a5dfc7082f113e7022153d'}]},\n",
       "   {'id': 1011266,\n",
       "    'name': 'Adam Destine',\n",
       "    'description': '',\n",
       "    'modified': '1969-12-31T19:00:00-0500',\n",
       "    'thumbnail': {'path': 'http://i.annihil.us/u/prod/marvel/i/mg/b/40/image_not_available',\n",
       "     'extension': 'jpg'},\n",
       "    'resourceURI': 'http://gateway.marvel.com/v1/public/characters/1011266',\n",
       "    'comics': {'available': 0,\n",
       "     'collectionURI': 'http://gateway.marvel.com/v1/public/characters/1011266/comics',\n",
       "     'items': [],\n",
       "     'returned': 0},\n",
       "    'series': {'available': 0,\n",
       "     'collectionURI': 'http://gateway.marvel.com/v1/public/characters/1011266/series',\n",
       "     'items': [],\n",
       "     'returned': 0},\n",
       "    'stories': {'available': 0,\n",
       "     'collectionURI': 'http://gateway.marvel.com/v1/public/characters/1011266/stories',\n",
       "     'items': [],\n",
       "     'returned': 0},\n",
       "    'events': {'available': 0,\n",
       "     'collectionURI': 'http://gateway.marvel.com/v1/public/characters/1011266/events',\n",
       "     'items': [],\n",
       "     'returned': 0},\n",
       "    'urls': [{'type': 'detail',\n",
       "      'url': 'http://marvel.com/characters/2902/adam_destine?utm_campaign=apiRef&utm_source=b6da7604b5a5dfc7082f113e7022153d'},\n",
       "     {'type': 'wiki',\n",
       "      'url': 'http://marvel.com/universe/Destine,_Adam?utm_campaign=apiRef&utm_source=b6da7604b5a5dfc7082f113e7022153d'},\n",
       "     {'type': 'comiclink',\n",
       "      'url': 'http://marvel.com/comics/characters/1011266/adam_destine?utm_campaign=apiRef&utm_source=b6da7604b5a5dfc7082f113e7022153d'}]},\n",
       "   {'id': 1010354,\n",
       "    'name': 'Adam Warlock',\n",
       "    'description': 'Adam Warlock is an artificially created human who was born in a cocoon at a scientific complex called The Beehive.',\n",
       "    'modified': '2013-08-07T13:49:06-0400',\n",
       "    'thumbnail': {'path': 'http://i.annihil.us/u/prod/marvel/i/mg/a/f0/5202887448860',\n",
       "     'extension': 'jpg'},\n",
       "    'resourceURI': 'http://gateway.marvel.com/v1/public/characters/1010354',\n",
       "    'comics': {'available': 188,\n",
       "     'collectionURI': 'http://gateway.marvel.com/v1/public/characters/1010354/comics',\n",
       "     'items': [{'resourceURI': 'http://gateway.marvel.com/v1/public/comics/62151',\n",
       "       'name': 'All-New Guardians of the Galaxy Vol. 3: Infinity Quest (Trade Paperback)'},\n",
       "      {'resourceURI': 'http://gateway.marvel.com/v1/public/comics/17271',\n",
       "       'name': 'Annihilation: Conquest (2007) #1'},\n",
       "      {'resourceURI': 'http://gateway.marvel.com/v1/public/comics/17405',\n",
       "       'name': 'Annihilation: Conquest (2007) #2'},\n",
       "      {'resourceURI': 'http://gateway.marvel.com/v1/public/comics/17645',\n",
       "       'name': 'Annihilation: Conquest (2007) #3'},\n",
       "      {'resourceURI': 'http://gateway.marvel.com/v1/public/comics/20686',\n",
       "       'name': 'Annihilation: Conquest (2007) #4'},\n",
       "      {'resourceURI': 'http://gateway.marvel.com/v1/public/comics/20885',\n",
       "       'name': 'Annihilation: Conquest (2007) #5'},\n",
       "      {'resourceURI': 'http://gateway.marvel.com/v1/public/comics/21016',\n",
       "       'name': 'Annihilation: Conquest (2007) #6'},\n",
       "      {'resourceURI': 'http://gateway.marvel.com/v1/public/comics/12412',\n",
       "       'name': 'Avengers Forever (1998) #9'},\n",
       "      {'resourceURI': 'http://gateway.marvel.com/v1/public/comics/1033',\n",
       "       'name': 'Avengers Legends Vol. I: Avengers Forever (Trade Paperback)'},\n",
       "      {'resourceURI': 'http://gateway.marvel.com/v1/public/comics/20731',\n",
       "       'name': 'CLANDESTINE CLASSIC PREMIERE HC (Hardcover)'},\n",
       "      {'resourceURI': 'http://gateway.marvel.com/v1/public/comics/20187',\n",
       "       'name': 'Doctor Strange, Sorcerer Supreme (1988) #27'},\n",
       "      {'resourceURI': 'http://gateway.marvel.com/v1/public/comics/20193',\n",
       "       'name': 'Doctor Strange, Sorcerer Supreme (1988) #32'},\n",
       "      {'resourceURI': 'http://gateway.marvel.com/v1/public/comics/20197',\n",
       "       'name': 'Doctor Strange, Sorcerer Supreme (1988) #36'},\n",
       "      {'resourceURI': 'http://gateway.marvel.com/v1/public/comics/8552',\n",
       "       'name': 'Earth X (1999) #2'},\n",
       "      {'resourceURI': 'http://gateway.marvel.com/v1/public/comics/8550',\n",
       "       'name': 'Earth X (1999) #11'},\n",
       "      {'resourceURI': 'http://gateway.marvel.com/v1/public/comics/4241',\n",
       "       'name': 'Earth X (New (Trade Paperback)'},\n",
       "      {'resourceURI': 'http://gateway.marvel.com/v1/public/comics/12975',\n",
       "       'name': 'Fantastic Four (1961) #172'},\n",
       "      {'resourceURI': 'http://gateway.marvel.com/v1/public/comics/13195',\n",
       "       'name': 'Fantastic Four (1961) #370'},\n",
       "      {'resourceURI': 'http://gateway.marvel.com/v1/public/comics/25305',\n",
       "       'name': 'Guardians of the Galaxy (2008) #17'},\n",
       "      {'resourceURI': 'http://gateway.marvel.com/v1/public/comics/65547',\n",
       "       'name': 'All-New Guardians of the Galaxy (2017) #150'}],\n",
       "     'returned': 20},\n",
       "    'series': {'available': 82,\n",
       "     'collectionURI': 'http://gateway.marvel.com/v1/public/characters/1010354/series',\n",
       "     'items': [{'resourceURI': 'http://gateway.marvel.com/v1/public/series/23058',\n",
       "       'name': 'All-New Guardians of the Galaxy (2017)'},\n",
       "      {'resourceURI': 'http://gateway.marvel.com/v1/public/series/22778',\n",
       "       'name': 'All-New Guardians of the Galaxy Vol. 3: Infinity Quest (2018)'},\n",
       "      {'resourceURI': 'http://gateway.marvel.com/v1/public/series/3061',\n",
       "       'name': 'Annihilation: Conquest (2007)'},\n",
       "      {'resourceURI': 'http://gateway.marvel.com/v1/public/series/2111',\n",
       "       'name': 'Avengers Forever (1998 - 2001)'},\n",
       "      {'resourceURI': 'http://gateway.marvel.com/v1/public/series/93',\n",
       "       'name': 'Avengers Legends Vol. I: Avengers Forever (2002)'},\n",
       "      {'resourceURI': 'http://gateway.marvel.com/v1/public/series/3874',\n",
       "       'name': 'CLANDESTINE CLASSIC PREMIERE HC (2008)'},\n",
       "      {'resourceURI': 'http://gateway.marvel.com/v1/public/series/3741',\n",
       "       'name': 'Doctor Strange, Sorcerer Supreme (1988 - 1996)'},\n",
       "      {'resourceURI': 'http://gateway.marvel.com/v1/public/series/378',\n",
       "       'name': 'Earth X (1999 - 2000)'},\n",
       "      {'resourceURI': 'http://gateway.marvel.com/v1/public/series/1806',\n",
       "       'name': 'Earth X (New (2006)'},\n",
       "      {'resourceURI': 'http://gateway.marvel.com/v1/public/series/2121',\n",
       "       'name': 'Fantastic Four (1961 - 1998)'},\n",
       "      {'resourceURI': 'http://gateway.marvel.com/v1/public/series/4885',\n",
       "       'name': 'Guardians of the Galaxy (2008 - 2010)'},\n",
       "      {'resourceURI': 'http://gateway.marvel.com/v1/public/series/27554',\n",
       "       'name': 'Guardians Of The Galaxy Annual (2019)'},\n",
       "      {'resourceURI': 'http://gateway.marvel.com/v1/public/series/26496',\n",
       "       'name': 'Guardians Of The Galaxy Vol. 2: Faithless (2020)'},\n",
       "      {'resourceURI': 'http://gateway.marvel.com/v1/public/series/22422',\n",
       "       'name': 'GUARDIANS OF THE GALAXY: ROAD TO ANNIHILATION VOL. 2 TPB (2017)'},\n",
       "      {'resourceURI': 'http://gateway.marvel.com/v1/public/series/2021',\n",
       "       'name': 'Incredible Hulk (1962 - 1999)'},\n",
       "      {'resourceURI': 'http://gateway.marvel.com/v1/public/series/2983',\n",
       "       'name': 'Incredible Hulk Annual (1976 - 1994)'},\n",
       "      {'resourceURI': 'http://gateway.marvel.com/v1/public/series/26307',\n",
       "       'name': 'Infinity By Starlin & Hickman (2019)'},\n",
       "      {'resourceURI': 'http://gateway.marvel.com/v1/public/series/24050',\n",
       "       'name': 'Infinity Countdown (2018)'},\n",
       "      {'resourceURI': 'http://gateway.marvel.com/v1/public/series/24300',\n",
       "       'name': 'Infinity Countdown Prime (2018)'},\n",
       "      {'resourceURI': 'http://gateway.marvel.com/v1/public/series/23991',\n",
       "       'name': 'Infinity Countdown: Adam Warlock (2018)'}],\n",
       "     'returned': 20},\n",
       "    'stories': {'available': 217,\n",
       "     'collectionURI': 'http://gateway.marvel.com/v1/public/characters/1010354/stories',\n",
       "     'items': [{'resourceURI': 'http://gateway.marvel.com/v1/public/stories/1412',\n",
       "       'name': 'Cover #1412',\n",
       "       'type': 'cover'},\n",
       "      {'resourceURI': 'http://gateway.marvel.com/v1/public/stories/1602',\n",
       "       'name': 'Cover #1602',\n",
       "       'type': 'cover'},\n",
       "      {'resourceURI': 'http://gateway.marvel.com/v1/public/stories/1800',\n",
       "       'name': 'Cover #1800',\n",
       "       'type': 'cover'},\n",
       "      {'resourceURI': 'http://gateway.marvel.com/v1/public/stories/1842',\n",
       "       'name': 'Cover #1842',\n",
       "       'type': 'cover'},\n",
       "      {'resourceURI': 'http://gateway.marvel.com/v1/public/stories/3758',\n",
       "       'name': 'WARLOCK (2004) #3',\n",
       "       'type': 'cover'},\n",
       "      {'resourceURI': 'http://gateway.marvel.com/v1/public/stories/3760',\n",
       "       'name': 'WARLOCK (2004) #1',\n",
       "       'type': 'cover'},\n",
       "      {'resourceURI': 'http://gateway.marvel.com/v1/public/stories/3762',\n",
       "       'name': 'WARLOCK (2004) #2',\n",
       "       'type': 'cover'},\n",
       "      {'resourceURI': 'http://gateway.marvel.com/v1/public/stories/3764',\n",
       "       'name': 'WARLOCK (2004) #4',\n",
       "       'type': 'cover'},\n",
       "      {'resourceURI': 'http://gateway.marvel.com/v1/public/stories/12568',\n",
       "       'name': 'Fantastic Four (1961) #172',\n",
       "       'type': 'cover'},\n",
       "      {'resourceURI': 'http://gateway.marvel.com/v1/public/stories/12569',\n",
       "       'name': 'Cry, the Bedeviled Planet!',\n",
       "       'type': 'interiorStory'},\n",
       "      {'resourceURI': 'http://gateway.marvel.com/v1/public/stories/13121',\n",
       "       'name': 'Forever Evil',\n",
       "       'type': 'interiorStory'},\n",
       "      {'resourceURI': 'http://gateway.marvel.com/v1/public/stories/18500',\n",
       "       'name': 'Incredible Hulk (1962) #177',\n",
       "       'type': 'cover'},\n",
       "      {'resourceURI': 'http://gateway.marvel.com/v1/public/stories/18501',\n",
       "       'name': 'Peril of the Paired Planets',\n",
       "       'type': ''},\n",
       "      {'resourceURI': 'http://gateway.marvel.com/v1/public/stories/18503',\n",
       "       'name': 'Triumph On Terra-Two',\n",
       "       'type': ''},\n",
       "      {'resourceURI': 'http://gateway.marvel.com/v1/public/stories/19847',\n",
       "       'name': 'Cover #19847',\n",
       "       'type': 'cover'},\n",
       "      {'resourceURI': 'http://gateway.marvel.com/v1/public/stories/19848',\n",
       "       'name': 'Performance',\n",
       "       'type': 'interiorStory'},\n",
       "      {'resourceURI': 'http://gateway.marvel.com/v1/public/stories/19859',\n",
       "       'name': 'Days of Future Present Part 4',\n",
       "       'type': 'cover'},\n",
       "      {'resourceURI': 'http://gateway.marvel.com/v1/public/stories/19860',\n",
       "       'name': 'You Must Remember This',\n",
       "       'type': 'interiorStory'},\n",
       "      {'resourceURI': 'http://gateway.marvel.com/v1/public/stories/19883',\n",
       "       'name': 'The Adventures of Lockheed the Space Dragon and His Pet Girl, Kitty',\n",
       "       'type': 'interiorStory'},\n",
       "      {'resourceURI': 'http://gateway.marvel.com/v1/public/stories/19884',\n",
       "       'name': 'The Saga of Storm: Goddess of Thunder',\n",
       "       'type': 'cover'}],\n",
       "     'returned': 20},\n",
       "    'events': {'available': 8,\n",
       "     'collectionURI': 'http://gateway.marvel.com/v1/public/characters/1010354/events',\n",
       "     'items': [{'resourceURI': 'http://gateway.marvel.com/v1/public/events/293',\n",
       "       'name': 'Annihilation: Conquest'},\n",
       "      {'resourceURI': 'http://gateway.marvel.com/v1/public/events/233',\n",
       "       'name': 'Atlantis Attacks'},\n",
       "      {'resourceURI': 'http://gateway.marvel.com/v1/public/events/235',\n",
       "       'name': 'Blood and Thunder'},\n",
       "      {'resourceURI': 'http://gateway.marvel.com/v1/public/events/240',\n",
       "       'name': 'Days of Future Present'},\n",
       "      {'resourceURI': 'http://gateway.marvel.com/v1/public/events/29',\n",
       "       'name': 'Infinity War'},\n",
       "      {'resourceURI': 'http://gateway.marvel.com/v1/public/events/263',\n",
       "       'name': 'Mutant Massacre'},\n",
       "      {'resourceURI': 'http://gateway.marvel.com/v1/public/events/271',\n",
       "       'name': 'Secret Wars II'},\n",
       "      {'resourceURI': 'http://gateway.marvel.com/v1/public/events/280',\n",
       "       'name': 'X-Tinction Agenda'}],\n",
       "     'returned': 8},\n",
       "    'urls': [{'type': 'detail',\n",
       "      'url': 'http://marvel.com/comics/characters/1010354/adam_warlock?utm_campaign=apiRef&utm_source=b6da7604b5a5dfc7082f113e7022153d'},\n",
       "     {'type': 'wiki',\n",
       "      'url': 'http://marvel.com/universe/Warlock,_Adam?utm_campaign=apiRef&utm_source=b6da7604b5a5dfc7082f113e7022153d'},\n",
       "     {'type': 'comiclink',\n",
       "      'url': 'http://marvel.com/comics/characters/1010354/adam_warlock?utm_campaign=apiRef&utm_source=b6da7604b5a5dfc7082f113e7022153d'}]},\n",
       "   {'id': 1010846,\n",
       "    'name': 'Aegis (Trey Rollins)',\n",
       "    'description': '',\n",
       "    'modified': '1969-12-31T19:00:00-0500',\n",
       "    'thumbnail': {'path': 'http://i.annihil.us/u/prod/marvel/i/mg/5/e0/4c0035c9c425d',\n",
       "     'extension': 'gif'},\n",
       "    'resourceURI': 'http://gateway.marvel.com/v1/public/characters/1010846',\n",
       "    'comics': {'available': 0,\n",
       "     'collectionURI': 'http://gateway.marvel.com/v1/public/characters/1010846/comics',\n",
       "     'items': [],\n",
       "     'returned': 0},\n",
       "    'series': {'available': 0,\n",
       "     'collectionURI': 'http://gateway.marvel.com/v1/public/characters/1010846/series',\n",
       "     'items': [],\n",
       "     'returned': 0},\n",
       "    'stories': {'available': 0,\n",
       "     'collectionURI': 'http://gateway.marvel.com/v1/public/characters/1010846/stories',\n",
       "     'items': [],\n",
       "     'returned': 0},\n",
       "    'events': {'available': 0,\n",
       "     'collectionURI': 'http://gateway.marvel.com/v1/public/characters/1010846/events',\n",
       "     'items': [],\n",
       "     'returned': 0},\n",
       "    'urls': [{'type': 'detail',\n",
       "      'url': 'http://marvel.com/characters/95/aegis?utm_campaign=apiRef&utm_source=b6da7604b5a5dfc7082f113e7022153d'},\n",
       "     {'type': 'wiki',\n",
       "      'url': 'http://marvel.com/universe/Aegis_%28Trey_Rollins%29?utm_campaign=apiRef&utm_source=b6da7604b5a5dfc7082f113e7022153d'},\n",
       "     {'type': 'comiclink',\n",
       "      'url': 'http://marvel.com/comics/characters/1010846/aegis_trey_rollins?utm_campaign=apiRef&utm_source=b6da7604b5a5dfc7082f113e7022153d'}]},\n",
       "   {'id': 1011297,\n",
       "    'name': 'Agent Brand',\n",
       "    'description': '',\n",
       "    'modified': '2013-10-24T13:09:30-0400',\n",
       "    'thumbnail': {'path': 'http://i.annihil.us/u/prod/marvel/i/mg/4/60/52695285d6e7e',\n",
       "     'extension': 'jpg'},\n",
       "    'resourceURI': 'http://gateway.marvel.com/v1/public/characters/1011297',\n",
       "    'comics': {'available': 17,\n",
       "     'collectionURI': 'http://gateway.marvel.com/v1/public/characters/1011297/comics',\n",
       "     'items': [{'resourceURI': 'http://gateway.marvel.com/v1/public/comics/5477',\n",
       "       'name': 'Astonishing X-Men (2004) #19 (Variant)'},\n",
       "      {'resourceURI': 'http://gateway.marvel.com/v1/public/comics/6120',\n",
       "       'name': 'Astonishing X-Men (2004) #21'},\n",
       "      {'resourceURI': 'http://gateway.marvel.com/v1/public/comics/6309',\n",
       "       'name': 'Astonishing X-Men (2004) #22'},\n",
       "      {'resourceURI': 'http://gateway.marvel.com/v1/public/comics/16119',\n",
       "       'name': 'Astonishing X-Men (2004) #23'},\n",
       "      {'resourceURI': 'http://gateway.marvel.com/v1/public/comics/17353',\n",
       "       'name': 'Astonishing X-Men (2004) #24'},\n",
       "      {'resourceURI': 'http://gateway.marvel.com/v1/public/comics/24503',\n",
       "       'name': 'Astonishing X-Men (2004) #32'},\n",
       "      {'resourceURI': 'http://gateway.marvel.com/v1/public/comics/24504',\n",
       "       'name': 'Astonishing X-Men (2004) #33'},\n",
       "      {'resourceURI': 'http://gateway.marvel.com/v1/public/comics/38318',\n",
       "       'name': 'Astonishing X-Men (2004) #38'},\n",
       "      {'resourceURI': 'http://gateway.marvel.com/v1/public/comics/38319',\n",
       "       'name': 'Astonishing X-Men (2004) #40'},\n",
       "      {'resourceURI': 'http://gateway.marvel.com/v1/public/comics/40024',\n",
       "       'name': 'Astonishing X-Men (2004) #40 (I Am Captain America Variant)'},\n",
       "      {'resourceURI': 'http://gateway.marvel.com/v1/public/comics/45950',\n",
       "       'name': 'Cable and X-Force (2012) #8'},\n",
       "      {'resourceURI': 'http://gateway.marvel.com/v1/public/comics/39890',\n",
       "       'name': 'Heralds (Trade Paperback)'},\n",
       "      {'resourceURI': 'http://gateway.marvel.com/v1/public/comics/26232',\n",
       "       'name': 'S.W.O.R.D. (2009) #2'},\n",
       "      {'resourceURI': 'http://gateway.marvel.com/v1/public/comics/26233',\n",
       "       'name': 'S.W.O.R.D. (2009) #3'},\n",
       "      {'resourceURI': 'http://gateway.marvel.com/v1/public/comics/26234',\n",
       "       'name': 'S.W.O.R.D. (2009) #4'},\n",
       "      {'resourceURI': 'http://gateway.marvel.com/v1/public/comics/30518',\n",
       "       'name': 'S.W.O.R.D. (2009) #5'},\n",
       "      {'resourceURI': 'http://gateway.marvel.com/v1/public/comics/61430',\n",
       "       'name': 'The Mighty Captain Marvel (2017) #5'}],\n",
       "     'returned': 17},\n",
       "    'series': {'available': 5,\n",
       "     'collectionURI': 'http://gateway.marvel.com/v1/public/characters/1011297/series',\n",
       "     'items': [{'resourceURI': 'http://gateway.marvel.com/v1/public/series/744',\n",
       "       'name': 'Astonishing X-Men (2004 - 2013)'},\n",
       "      {'resourceURI': 'http://gateway.marvel.com/v1/public/series/16907',\n",
       "       'name': 'Cable and X-Force (2012 - 2014)'},\n",
       "      {'resourceURI': 'http://gateway.marvel.com/v1/public/series/13065',\n",
       "       'name': 'Heralds (2010)'},\n",
       "      {'resourceURI': 'http://gateway.marvel.com/v1/public/series/8233',\n",
       "       'name': 'S.W.O.R.D. (2009 - 2010)'},\n",
       "      {'resourceURI': 'http://gateway.marvel.com/v1/public/series/22551',\n",
       "       'name': 'The Mighty Captain Marvel (2017 - 2018)'}],\n",
       "     'returned': 5},\n",
       "    'stories': {'available': 20,\n",
       "     'collectionURI': 'http://gateway.marvel.com/v1/public/characters/1011297/stories',\n",
       "     'items': [{'resourceURI': 'http://gateway.marvel.com/v1/public/stories/3353',\n",
       "       'name': 'Interior #3353',\n",
       "       'type': 'interiorStory'},\n",
       "      {'resourceURI': 'http://gateway.marvel.com/v1/public/stories/7670',\n",
       "       'name': 'ASTONISHING X-MEN (2004) #21',\n",
       "       'type': 'cover'},\n",
       "      {'resourceURI': 'http://gateway.marvel.com/v1/public/stories/8144',\n",
       "       'name': 'ASTONISHING X-MEN (2004) #22',\n",
       "       'type': 'cover'},\n",
       "      {'resourceURI': 'http://gateway.marvel.com/v1/public/stories/32919',\n",
       "       'name': 'ASTONISHING X-MEN (2004) #23',\n",
       "       'type': 'cover'},\n",
       "      {'resourceURI': 'http://gateway.marvel.com/v1/public/stories/36374',\n",
       "       'name': 'ASTONISHING X-MEN (2004) #24',\n",
       "       'type': 'cover'},\n",
       "      {'resourceURI': 'http://gateway.marvel.com/v1/public/stories/54039',\n",
       "       'name': 'ASTONISHING X-MEN (2004) #32',\n",
       "       'type': 'cover'},\n",
       "      {'resourceURI': 'http://gateway.marvel.com/v1/public/stories/54041',\n",
       "       'name': 'ASTONISHING X-MEN (2004) #33',\n",
       "       'type': 'cover'},\n",
       "      {'resourceURI': 'http://gateway.marvel.com/v1/public/stories/57763',\n",
       "       'name': 'S.W.O.R.D. (2009) #2',\n",
       "       'type': 'cover'},\n",
       "      {'resourceURI': 'http://gateway.marvel.com/v1/public/stories/57765',\n",
       "       'name': 'S.W.O.R.D. (2009) #3',\n",
       "       'type': 'cover'},\n",
       "      {'resourceURI': 'http://gateway.marvel.com/v1/public/stories/57767',\n",
       "       'name': 'S.W.O.R.D. (2009) #4',\n",
       "       'type': 'cover'},\n",
       "      {'resourceURI': 'http://gateway.marvel.com/v1/public/stories/69862',\n",
       "       'name': 'S.W.O.R.D. (2009) #5',\n",
       "       'type': 'cover'},\n",
       "      {'resourceURI': 'http://gateway.marvel.com/v1/public/stories/89830',\n",
       "       'name': 'ASTONISHING X-MEN (2004) #38',\n",
       "       'type': 'cover'},\n",
       "      {'resourceURI': 'http://gateway.marvel.com/v1/public/stories/89900',\n",
       "       'name': 'Astonishing X-Men (2004) #38',\n",
       "       'type': 'interiorStory'},\n",
       "      {'resourceURI': 'http://gateway.marvel.com/v1/public/stories/90548',\n",
       "       'name': 'Heralds TPB',\n",
       "       'type': 'cover'},\n",
       "      {'resourceURI': 'http://gateway.marvel.com/v1/public/stories/90819',\n",
       "       'name': 'Interior #90819',\n",
       "       'type': 'interiorStory'},\n",
       "      {'resourceURI': 'http://gateway.marvel.com/v1/public/stories/90853',\n",
       "       'name': ' Interior  Astonishing X-Men (2004) #40',\n",
       "       'type': 'interiorStory'},\n",
       "      {'resourceURI': 'http://gateway.marvel.com/v1/public/stories/90944',\n",
       "       'name': 'ASTONISHING X-MEN (2004) #40',\n",
       "       'type': 'cover'},\n",
       "      {'resourceURI': 'http://gateway.marvel.com/v1/public/stories/103418',\n",
       "       'name': 'Cable and X-Force (2012) #8',\n",
       "       'type': 'cover'},\n",
       "      {'resourceURI': 'http://gateway.marvel.com/v1/public/stories/103419',\n",
       "       'name': 'story from Cable and X-Force (2012) #8',\n",
       "       'type': 'interiorStory'},\n",
       "      {'resourceURI': 'http://gateway.marvel.com/v1/public/stories/133289',\n",
       "       'name': 'cover from Captain Marvel (2016) #5',\n",
       "       'type': 'cover'}],\n",
       "     'returned': 20},\n",
       "    'events': {'available': 0,\n",
       "     'collectionURI': 'http://gateway.marvel.com/v1/public/characters/1011297/events',\n",
       "     'items': [],\n",
       "     'returned': 0},\n",
       "    'urls': [{'type': 'detail',\n",
       "      'url': 'http://marvel.com/comics/characters/1011297/agent_brand?utm_campaign=apiRef&utm_source=b6da7604b5a5dfc7082f113e7022153d'},\n",
       "     {'type': 'wiki',\n",
       "      'url': 'http://marvel.com/universe/Agent_Brand?utm_campaign=apiRef&utm_source=b6da7604b5a5dfc7082f113e7022153d'},\n",
       "     {'type': 'comiclink',\n",
       "      'url': 'http://marvel.com/comics/characters/1011297/agent_brand?utm_campaign=apiRef&utm_source=b6da7604b5a5dfc7082f113e7022153d'}]},\n",
       "   {'id': 1011031,\n",
       "    'name': 'Agent X (Nijo)',\n",
       "    'description': \"Originally a partner of the mind-altering assassin Black Swan, Nijo spied on Deadpool as part of the Swan's plan to exact revenge for Deadpool falsely taking credit for the Swan's assassination of the Four Winds crime family, which included Nijo's brother.\",\n",
       "    'modified': '1969-12-31T19:00:00-0500',\n",
       "    'thumbnail': {'path': 'http://i.annihil.us/u/prod/marvel/i/mg/b/40/image_not_available',\n",
       "     'extension': 'jpg'},\n",
       "    'resourceURI': 'http://gateway.marvel.com/v1/public/characters/1011031',\n",
       "    'comics': {'available': 18,\n",
       "     'collectionURI': 'http://gateway.marvel.com/v1/public/characters/1011031/comics',\n",
       "     'items': [{'resourceURI': 'http://gateway.marvel.com/v1/public/comics/17702',\n",
       "       'name': 'Agent X (2002) #1'},\n",
       "      {'resourceURI': 'http://gateway.marvel.com/v1/public/comics/17709',\n",
       "       'name': 'Agent X (2002) #2'},\n",
       "      {'resourceURI': 'http://gateway.marvel.com/v1/public/comics/17710',\n",
       "       'name': 'Agent X (2002) #3'},\n",
       "      {'resourceURI': 'http://gateway.marvel.com/v1/public/comics/17711',\n",
       "       'name': 'Agent X (2002) #4'},\n",
       "      {'resourceURI': 'http://gateway.marvel.com/v1/public/comics/17712',\n",
       "       'name': 'Agent X (2002) #5'},\n",
       "      {'resourceURI': 'http://gateway.marvel.com/v1/public/comics/17713',\n",
       "       'name': 'Agent X (2002) #6'},\n",
       "      {'resourceURI': 'http://gateway.marvel.com/v1/public/comics/17714',\n",
       "       'name': 'Agent X (2002) #7'},\n",
       "      {'resourceURI': 'http://gateway.marvel.com/v1/public/comics/17715',\n",
       "       'name': 'Agent X (2002) #8'},\n",
       "      {'resourceURI': 'http://gateway.marvel.com/v1/public/comics/17716',\n",
       "       'name': 'Agent X (2002) #9'},\n",
       "      {'resourceURI': 'http://gateway.marvel.com/v1/public/comics/17703',\n",
       "       'name': 'Agent X (2002) #10'},\n",
       "      {'resourceURI': 'http://gateway.marvel.com/v1/public/comics/17704',\n",
       "       'name': 'Agent X (2002) #11'},\n",
       "      {'resourceURI': 'http://gateway.marvel.com/v1/public/comics/17705',\n",
       "       'name': 'Agent X (2002) #12'},\n",
       "      {'resourceURI': 'http://gateway.marvel.com/v1/public/comics/17706',\n",
       "       'name': 'Agent X (2002) #13'},\n",
       "      {'resourceURI': 'http://gateway.marvel.com/v1/public/comics/17707',\n",
       "       'name': 'Agent X (2002) #14'},\n",
       "      {'resourceURI': 'http://gateway.marvel.com/v1/public/comics/394',\n",
       "       'name': 'Agent X (2002) #15'},\n",
       "      {'resourceURI': 'http://gateway.marvel.com/v1/public/comics/1649',\n",
       "       'name': 'Cable & Deadpool (2004) #12'},\n",
       "      {'resourceURI': 'http://gateway.marvel.com/v1/public/comics/21845',\n",
       "       'name': 'Cable & Deadpool (2004) #46 (Zombie Variant)'},\n",
       "      {'resourceURI': 'http://gateway.marvel.com/v1/public/comics/5761',\n",
       "       'name': 'Cable & Deadpool Vol. 2: The Burnt Offering (Trade Paperback)'}],\n",
       "     'returned': 18},\n",
       "    'series': {'available': 3,\n",
       "     'collectionURI': 'http://gateway.marvel.com/v1/public/characters/1011031/series',\n",
       "     'items': [{'resourceURI': 'http://gateway.marvel.com/v1/public/series/459',\n",
       "       'name': 'Agent X (2002 - 2004)'},\n",
       "      {'resourceURI': 'http://gateway.marvel.com/v1/public/series/693',\n",
       "       'name': 'Cable & Deadpool (2004 - 2008)'},\n",
       "      {'resourceURI': 'http://gateway.marvel.com/v1/public/series/1338',\n",
       "       'name': 'Cable & Deadpool Vol. 2: The Burnt Offering (2007)'}],\n",
       "     'returned': 3},\n",
       "    'stories': {'available': 23,\n",
       "     'collectionURI': 'http://gateway.marvel.com/v1/public/characters/1011031/stories',\n",
       "     'items': [{'resourceURI': 'http://gateway.marvel.com/v1/public/stories/1135',\n",
       "       'name': 'AGENT X (2002) #15',\n",
       "       'type': 'cover'},\n",
       "      {'resourceURI': 'http://gateway.marvel.com/v1/public/stories/2484',\n",
       "       'name': 'CABLE & DEADPOOL (2004) #12',\n",
       "       'type': 'cover'},\n",
       "      {'resourceURI': 'http://gateway.marvel.com/v1/public/stories/37514',\n",
       "       'name': 'AGENT X (2002) #1',\n",
       "       'type': 'cover'},\n",
       "      {'resourceURI': 'http://gateway.marvel.com/v1/public/stories/37515',\n",
       "       'name': \"Dead Man's Switch Part One\",\n",
       "       'type': 'interiorStory'},\n",
       "      {'resourceURI': 'http://gateway.marvel.com/v1/public/stories/37516',\n",
       "       'name': 'AGENT X (2002) #10',\n",
       "       'type': 'cover'},\n",
       "      {'resourceURI': 'http://gateway.marvel.com/v1/public/stories/37518',\n",
       "       'name': 'AGENT X (2002) #11',\n",
       "       'type': 'cover'},\n",
       "      {'resourceURI': 'http://gateway.marvel.com/v1/public/stories/37521',\n",
       "       'name': 'AGENT X (2002) #13',\n",
       "       'type': 'cover'},\n",
       "      {'resourceURI': 'http://gateway.marvel.com/v1/public/stories/37523',\n",
       "       'name': 'AGENT X (2002) #14',\n",
       "       'type': 'cover'},\n",
       "      {'resourceURI': 'http://gateway.marvel.com/v1/public/stories/37525',\n",
       "       'name': 'AGENT X (2002) #2',\n",
       "       'type': 'cover'},\n",
       "      {'resourceURI': 'http://gateway.marvel.com/v1/public/stories/37526',\n",
       "       'name': \"Dead Man's Switch Part Two\",\n",
       "       'type': 'interiorStory'},\n",
       "      {'resourceURI': 'http://gateway.marvel.com/v1/public/stories/37527',\n",
       "       'name': 'AGENT X (2002) #3',\n",
       "       'type': 'cover'},\n",
       "      {'resourceURI': 'http://gateway.marvel.com/v1/public/stories/37528',\n",
       "       'name': \"Dead Man's Switch Part Three\",\n",
       "       'type': 'interiorStory'},\n",
       "      {'resourceURI': 'http://gateway.marvel.com/v1/public/stories/37529',\n",
       "       'name': 'AGENT X (2002) #4',\n",
       "       'type': 'cover'},\n",
       "      {'resourceURI': 'http://gateway.marvel.com/v1/public/stories/37530',\n",
       "       'name': \"Dead Man's Switch Part Four\",\n",
       "       'type': 'interiorStory'},\n",
       "      {'resourceURI': 'http://gateway.marvel.com/v1/public/stories/37531',\n",
       "       'name': 'AGENT X (2002) #5',\n",
       "       'type': 'cover'},\n",
       "      {'resourceURI': 'http://gateway.marvel.com/v1/public/stories/37532',\n",
       "       'name': \"Dead Man's Switch Part Five\",\n",
       "       'type': 'interiorStory'},\n",
       "      {'resourceURI': 'http://gateway.marvel.com/v1/public/stories/37533',\n",
       "       'name': 'AGENT X (2002) #6',\n",
       "       'type': 'cover'},\n",
       "      {'resourceURI': 'http://gateway.marvel.com/v1/public/stories/37534',\n",
       "       'name': \"Dead Man's Switch Part Six\",\n",
       "       'type': 'interiorStory'},\n",
       "      {'resourceURI': 'http://gateway.marvel.com/v1/public/stories/37535',\n",
       "       'name': 'AGENT X (2002) #7',\n",
       "       'type': 'cover'},\n",
       "      {'resourceURI': 'http://gateway.marvel.com/v1/public/stories/67703',\n",
       "       'name': 'AGENT X (2002) #12',\n",
       "       'type': 'cover'}],\n",
       "     'returned': 20},\n",
       "    'events': {'available': 0,\n",
       "     'collectionURI': 'http://gateway.marvel.com/v1/public/characters/1011031/events',\n",
       "     'items': [],\n",
       "     'returned': 0},\n",
       "    'urls': [{'type': 'detail',\n",
       "      'url': 'http://marvel.com/characters/101/agent_x?utm_campaign=apiRef&utm_source=b6da7604b5a5dfc7082f113e7022153d'},\n",
       "     {'type': 'wiki',\n",
       "      'url': 'http://marvel.com/universe/Agent_X_(Nijo)?utm_campaign=apiRef&utm_source=b6da7604b5a5dfc7082f113e7022153d'},\n",
       "     {'type': 'comiclink',\n",
       "      'url': 'http://marvel.com/comics/characters/1011031/agent_x_nijo?utm_campaign=apiRef&utm_source=b6da7604b5a5dfc7082f113e7022153d'}]},\n",
       "   {'id': 1009150,\n",
       "    'name': 'Agent Zero',\n",
       "    'description': '',\n",
       "    'modified': '1969-12-31T19:00:00-0500',\n",
       "    'thumbnail': {'path': 'http://i.annihil.us/u/prod/marvel/i/mg/f/60/4c0042121d790',\n",
       "     'extension': 'jpg'},\n",
       "    'resourceURI': 'http://gateway.marvel.com/v1/public/characters/1009150',\n",
       "    'comics': {'available': 28,\n",
       "     'collectionURI': 'http://gateway.marvel.com/v1/public/characters/1009150/comics',\n",
       "     'items': [{'resourceURI': 'http://gateway.marvel.com/v1/public/comics/18082',\n",
       "       'name': 'Weapon X (2002) #2'},\n",
       "      {'resourceURI': 'http://gateway.marvel.com/v1/public/comics/18092',\n",
       "       'name': 'Weapon X (2002) #3'},\n",
       "      {'resourceURI': 'http://gateway.marvel.com/v1/public/comics/18074',\n",
       "       'name': 'Weapon X (2002) #12'},\n",
       "      {'resourceURI': 'http://gateway.marvel.com/v1/public/comics/246',\n",
       "       'name': 'Weapon X (2002) #13'},\n",
       "      {'resourceURI': 'http://gateway.marvel.com/v1/public/comics/2204',\n",
       "       'name': 'Weapon X: Days of Future Now (2005) #1'},\n",
       "      {'resourceURI': 'http://gateway.marvel.com/v1/public/comics/2324',\n",
       "       'name': 'Weapon X: Days of Future Now (2005) #2'},\n",
       "      {'resourceURI': 'http://gateway.marvel.com/v1/public/comics/2438',\n",
       "       'name': 'Weapon X: Days of Future Now (2005) #3'},\n",
       "      {'resourceURI': 'http://gateway.marvel.com/v1/public/comics/2439',\n",
       "       'name': 'Weapon X: Days of Future Now (2005) #4'},\n",
       "      {'resourceURI': 'http://gateway.marvel.com/v1/public/comics/3016',\n",
       "       'name': 'Weapon X: Days of Future Now (2005) #5'},\n",
       "      {'resourceURI': 'http://gateway.marvel.com/v1/public/comics/3357',\n",
       "       'name': 'Weapon X: Days of Future Now (Trade Paperback)'},\n",
       "      {'resourceURI': 'http://gateway.marvel.com/v1/public/comics/18408',\n",
       "       'name': 'Weapon X: The Draft – Agent Zero (2002) #1'},\n",
       "      {'resourceURI': 'http://gateway.marvel.com/v1/public/comics/14182',\n",
       "       'name': 'Wolverine (1988) #60'},\n",
       "      {'resourceURI': 'http://gateway.marvel.com/v1/public/comics/14183',\n",
       "       'name': 'Wolverine (1988) #61'},\n",
       "      {'resourceURI': 'http://gateway.marvel.com/v1/public/comics/14184',\n",
       "       'name': 'Wolverine (1988) #62'},\n",
       "      {'resourceURI': 'http://gateway.marvel.com/v1/public/comics/14185',\n",
       "       'name': 'Wolverine (1988) #63'},\n",
       "      {'resourceURI': 'http://gateway.marvel.com/v1/public/comics/14186',\n",
       "       'name': 'Wolverine (1988) #64'},\n",
       "      {'resourceURI': 'http://gateway.marvel.com/v1/public/comics/14189',\n",
       "       'name': 'Wolverine (1988) #67'},\n",
       "      {'resourceURI': 'http://gateway.marvel.com/v1/public/comics/14190',\n",
       "       'name': 'Wolverine (1988) #68'},\n",
       "      {'resourceURI': 'http://gateway.marvel.com/v1/public/comics/14211',\n",
       "       'name': 'Wolverine (1988) #87'},\n",
       "      {'resourceURI': 'http://gateway.marvel.com/v1/public/comics/14107',\n",
       "       'name': 'Wolverine (1988) #163'}],\n",
       "     'returned': 20},\n",
       "    'series': {'available': 9,\n",
       "     'collectionURI': 'http://gateway.marvel.com/v1/public/characters/1009150/series',\n",
       "     'items': [{'resourceURI': 'http://gateway.marvel.com/v1/public/series/543',\n",
       "       'name': 'Weapon X (2002 - 2004)'},\n",
       "      {'resourceURI': 'http://gateway.marvel.com/v1/public/series/869',\n",
       "       'name': 'Weapon X: Days of Future Now (2005)'},\n",
       "      {'resourceURI': 'http://gateway.marvel.com/v1/public/series/1478',\n",
       "       'name': 'Weapon X: Days of Future Now (2006)'},\n",
       "      {'resourceURI': 'http://gateway.marvel.com/v1/public/series/3649',\n",
       "       'name': 'Weapon X: The Draft – Agent Zero (2002)'},\n",
       "      {'resourceURI': 'http://gateway.marvel.com/v1/public/series/2262',\n",
       "       'name': 'Wolverine (1988 - 2003)'},\n",
       "      {'resourceURI': 'http://gateway.marvel.com/v1/public/series/84',\n",
       "       'name': 'Wolverine/Deadpool: Weapon X (1999)'},\n",
       "      {'resourceURI': 'http://gateway.marvel.com/v1/public/series/3643',\n",
       "       'name': 'X-Man (1995 - 2000)'},\n",
       "      {'resourceURI': 'http://gateway.marvel.com/v1/public/series/2265',\n",
       "       'name': 'X-Men (1991 - 2001)'},\n",
       "      {'resourceURI': 'http://gateway.marvel.com/v1/public/series/3637',\n",
       "       'name': 'X-Men Unlimited (1993 - 2003)'}],\n",
       "     'returned': 9},\n",
       "    'stories': {'available': 30,\n",
       "     'collectionURI': 'http://gateway.marvel.com/v1/public/characters/1009150/stories',\n",
       "     'items': [{'resourceURI': 'http://gateway.marvel.com/v1/public/stories/1131',\n",
       "       'name': 'WEAPON X (2002) #13',\n",
       "       'type': 'cover'},\n",
       "      {'resourceURI': 'http://gateway.marvel.com/v1/public/stories/4603',\n",
       "       'name': '1 of 5 - 5XLS',\n",
       "       'type': 'interiorStory'},\n",
       "      {'resourceURI': 'http://gateway.marvel.com/v1/public/stories/4605',\n",
       "       'name': '2 of 5 - 5XLS',\n",
       "       'type': 'interiorStory'},\n",
       "      {'resourceURI': 'http://gateway.marvel.com/v1/public/stories/4606',\n",
       "       'name': '3 of 5 - 5XLS',\n",
       "       'type': 'cover'},\n",
       "      {'resourceURI': 'http://gateway.marvel.com/v1/public/stories/4608',\n",
       "       'name': '4 of 5 - 5XLS',\n",
       "       'type': 'cover'},\n",
       "      {'resourceURI': 'http://gateway.marvel.com/v1/public/stories/4610',\n",
       "       'name': '5 of 5 - 5XLS',\n",
       "       'type': 'cover'},\n",
       "      {'resourceURI': 'http://gateway.marvel.com/v1/public/stories/28706',\n",
       "       'name': 'The Hunted Part 2',\n",
       "       'type': 'interiorStory'},\n",
       "      {'resourceURI': 'http://gateway.marvel.com/v1/public/stories/28712',\n",
       "       'name': 'The Hunted Part 5',\n",
       "       'type': 'interiorStory'},\n",
       "      {'resourceURI': 'http://gateway.marvel.com/v1/public/stories/28738',\n",
       "       'name': 'The Logan Files Epilogue',\n",
       "       'type': 'interiorStory'},\n",
       "      {'resourceURI': 'http://gateway.marvel.com/v1/public/stories/28881',\n",
       "       'name': 'Counting Coup',\n",
       "       'type': 'interiorStory'},\n",
       "      {'resourceURI': 'http://gateway.marvel.com/v1/public/stories/28883',\n",
       "       'name': 'Nightmare Quest!',\n",
       "       'type': 'interiorStory'},\n",
       "      {'resourceURI': 'http://gateway.marvel.com/v1/public/stories/28885',\n",
       "       'name': 'Reunion!',\n",
       "       'type': 'interiorStory'},\n",
       "      {'resourceURI': 'http://gateway.marvel.com/v1/public/stories/28887',\n",
       "       'name': 'Bastions of Glory!',\n",
       "       'type': 'interiorStory'},\n",
       "      {'resourceURI': 'http://gateway.marvel.com/v1/public/stories/28889',\n",
       "       'name': 'What Goes Around...',\n",
       "       'type': 'interiorStory'},\n",
       "      {'resourceURI': 'http://gateway.marvel.com/v1/public/stories/28895',\n",
       "       'name': \"Valley O' Death\",\n",
       "       'type': 'interiorStory'},\n",
       "      {'resourceURI': 'http://gateway.marvel.com/v1/public/stories/28897',\n",
       "       'name': 'Epsilon Red',\n",
       "       'type': 'interiorStory'},\n",
       "      {'resourceURI': 'http://gateway.marvel.com/v1/public/stories/28941',\n",
       "       'name': 'Showdown In Lowtown',\n",
       "       'type': 'interiorStory'},\n",
       "      {'resourceURI': 'http://gateway.marvel.com/v1/public/stories/29125',\n",
       "       'name': 'Last Stand',\n",
       "       'type': 'interiorStory'},\n",
       "      {'resourceURI': 'http://gateway.marvel.com/v1/public/stories/29139',\n",
       "       'name': 'Over...Again',\n",
       "       'type': 'interiorStory'},\n",
       "      {'resourceURI': 'http://gateway.marvel.com/v1/public/stories/38511',\n",
       "       'name': 'Second Contact',\n",
       "       'type': 'interiorStory'}],\n",
       "     'returned': 20},\n",
       "    'events': {'available': 0,\n",
       "     'collectionURI': 'http://gateway.marvel.com/v1/public/characters/1009150/events',\n",
       "     'items': [],\n",
       "     'returned': 0},\n",
       "    'urls': [{'type': 'detail',\n",
       "      'url': 'http://marvel.com/characters/102/agent_zero?utm_campaign=apiRef&utm_source=b6da7604b5a5dfc7082f113e7022153d'},\n",
       "     {'type': 'wiki',\n",
       "      'url': 'http://marvel.com/universe/Agent_Zero?utm_campaign=apiRef&utm_source=b6da7604b5a5dfc7082f113e7022153d'},\n",
       "     {'type': 'comiclink',\n",
       "      'url': 'http://marvel.com/comics/characters/1009150/agent_zero?utm_campaign=apiRef&utm_source=b6da7604b5a5dfc7082f113e7022153d'}]},\n",
       "   {'id': 1011198,\n",
       "    'name': 'Agents of Atlas',\n",
       "    'description': '',\n",
       "    'modified': '2016-02-03T10:25:22-0500',\n",
       "    'thumbnail': {'path': 'http://i.annihil.us/u/prod/marvel/i/mg/9/a0/4ce18a834b7f5',\n",
       "     'extension': 'jpg'},\n",
       "    'resourceURI': 'http://gateway.marvel.com/v1/public/characters/1011198',\n",
       "    'comics': {'available': 44,\n",
       "     'collectionURI': 'http://gateway.marvel.com/v1/public/characters/1011198/comics',\n",
       "     'items': [{'resourceURI': 'http://gateway.marvel.com/v1/public/comics/77001',\n",
       "       'name': 'Agents of Atlas (2019) #1'},\n",
       "      {'resourceURI': 'http://gateway.marvel.com/v1/public/comics/23659',\n",
       "       'name': 'Agents of Atlas (2009) #1'},\n",
       "      {'resourceURI': 'http://gateway.marvel.com/v1/public/comics/4801',\n",
       "       'name': 'Agents of Atlas (2006) #1'},\n",
       "      {'resourceURI': 'http://gateway.marvel.com/v1/public/comics/23660',\n",
       "       'name': 'Agents of Atlas (2009) #1 (50/50 COVER)'},\n",
       "      {'resourceURI': 'http://gateway.marvel.com/v1/public/comics/5089',\n",
       "       'name': 'Agents of Atlas (2006) #2'},\n",
       "      {'resourceURI': 'http://gateway.marvel.com/v1/public/comics/23825',\n",
       "       'name': 'Agents of Atlas (2009) #2'},\n",
       "      {'resourceURI': 'http://gateway.marvel.com/v1/public/comics/23824',\n",
       "       'name': 'Agents of Atlas (2009) #2 (MCGUINNESS VARIANT)'},\n",
       "      {'resourceURI': 'http://gateway.marvel.com/v1/public/comics/27402',\n",
       "       'name': 'Agents of Atlas (2009) #2 (BACHALO 2ND PRINTING VARIANT)'},\n",
       "      {'resourceURI': 'http://gateway.marvel.com/v1/public/comics/5241',\n",
       "       'name': 'Agents of Atlas (2006) #3'},\n",
       "      {'resourceURI': 'http://gateway.marvel.com/v1/public/comics/24015',\n",
       "       'name': 'Agents of Atlas (2009) #3'},\n",
       "      {'resourceURI': 'http://gateway.marvel.com/v1/public/comics/24016',\n",
       "       'name': 'Agents of Atlas (2009) #3 (MCGUINNESS VARIANT)'},\n",
       "      {'resourceURI': 'http://gateway.marvel.com/v1/public/comics/24017',\n",
       "       'name': 'Agents of Atlas (2009) #3 (Wolverine Art Appreciation Variant)'},\n",
       "      {'resourceURI': 'http://gateway.marvel.com/v1/public/comics/5404',\n",
       "       'name': 'Agents of Atlas (2006) #4'},\n",
       "      {'resourceURI': 'http://gateway.marvel.com/v1/public/comics/24219',\n",
       "       'name': 'Agents of Atlas (2009) #4'},\n",
       "      {'resourceURI': 'http://gateway.marvel.com/v1/public/comics/5665',\n",
       "       'name': 'Agents of Atlas (2006) #5'},\n",
       "      {'resourceURI': 'http://gateway.marvel.com/v1/public/comics/24221',\n",
       "       'name': 'Agents of Atlas (2009) #5'},\n",
       "      {'resourceURI': 'http://gateway.marvel.com/v1/public/comics/24222',\n",
       "       'name': 'Agents of Atlas (2009) #5 (MCGUINNESS VARIANT)'},\n",
       "      {'resourceURI': 'http://gateway.marvel.com/v1/public/comics/24360',\n",
       "       'name': 'Agents of Atlas (2009) #6'},\n",
       "      {'resourceURI': 'http://gateway.marvel.com/v1/public/comics/5842',\n",
       "       'name': 'Agents of Atlas (2006) #6'},\n",
       "      {'resourceURI': 'http://gateway.marvel.com/v1/public/comics/24361',\n",
       "       'name': 'Agents of Atlas (2009) #7'}],\n",
       "     'returned': 20},\n",
       "    'series': {'available': 13,\n",
       "     'collectionURI': 'http://gateway.marvel.com/v1/public/characters/1011198/series',\n",
       "     'items': [{'resourceURI': 'http://gateway.marvel.com/v1/public/series/27624',\n",
       "       'name': 'Agents of Atlas (2019)'},\n",
       "      {'resourceURI': 'http://gateway.marvel.com/v1/public/series/1097',\n",
       "       'name': 'Agents of Atlas (2006 - 2007)'},\n",
       "      {'resourceURI': 'http://gateway.marvel.com/v1/public/series/6807',\n",
       "       'name': 'Agents of Atlas (2009)'},\n",
       "      {'resourceURI': 'http://gateway.marvel.com/v1/public/series/1980',\n",
       "       'name': 'AGENTS OF ATLAS PREMIERE HC (2007)'},\n",
       "      {'resourceURI': 'http://gateway.marvel.com/v1/public/series/24134',\n",
       "       'name': 'Agents of Atlas: The Complete Collection Vol. 1 (2018)'},\n",
       "      {'resourceURI': 'http://gateway.marvel.com/v1/public/series/29600',\n",
       "       'name': 'Atlantis Attacks (2020)'},\n",
       "      {'resourceURI': 'http://gateway.marvel.com/v1/public/series/9782',\n",
       "       'name': 'Atlas (2010)'},\n",
       "      {'resourceURI': 'http://gateway.marvel.com/v1/public/series/9181',\n",
       "       'name': 'Avengers Vs. Atlas (2010)'},\n",
       "      {'resourceURI': 'http://gateway.marvel.com/v1/public/series/6415',\n",
       "       'name': 'Dark Reign: New Nation (2008)'},\n",
       "      {'resourceURI': 'http://gateway.marvel.com/v1/public/series/27620',\n",
       "       'name': 'Incoming! (2019)'},\n",
       "      {'resourceURI': 'http://gateway.marvel.com/v1/public/series/27505',\n",
       "       'name': 'War of the Realms: New Agents of Atlas (2019)'},\n",
       "      {'resourceURI': 'http://gateway.marvel.com/v1/public/series/27374',\n",
       "       'name': 'War Of The Realms: New Agents Of Atlas (2019)'},\n",
       "      {'resourceURI': 'http://gateway.marvel.com/v1/public/series/22365',\n",
       "       'name': 'Wolverine: Prehistory (2017)'}],\n",
       "     'returned': 13},\n",
       "    'stories': {'available': 51,\n",
       "     'collectionURI': 'http://gateway.marvel.com/v1/public/characters/1011198/stories',\n",
       "     'items': [{'resourceURI': 'http://gateway.marvel.com/v1/public/stories/6008',\n",
       "       'name': '1 of 6 - 6 XLS-',\n",
       "       'type': 'cover'},\n",
       "      {'resourceURI': 'http://gateway.marvel.com/v1/public/stories/6009',\n",
       "       'name': '1 of 6 - 6 XLS-',\n",
       "       'type': 'interiorStory'},\n",
       "      {'resourceURI': 'http://gateway.marvel.com/v1/public/stories/6010',\n",
       "       'name': '2 of 6 - 6 XLS -',\n",
       "       'type': 'cover'},\n",
       "      {'resourceURI': 'http://gateway.marvel.com/v1/public/stories/6011',\n",
       "       'name': '2 of 6 - 6 XLS -',\n",
       "       'type': 'interiorStory'},\n",
       "      {'resourceURI': 'http://gateway.marvel.com/v1/public/stories/6012',\n",
       "       'name': '3 of 6 - 6 XLS -',\n",
       "       'type': 'cover'},\n",
       "      {'resourceURI': 'http://gateway.marvel.com/v1/public/stories/6013',\n",
       "       'name': '3 of 6 - 6 XLS -',\n",
       "       'type': 'interiorStory'},\n",
       "      {'resourceURI': 'http://gateway.marvel.com/v1/public/stories/6014',\n",
       "       'name': '4 of 6 - 6 XLS -',\n",
       "       'type': 'cover'},\n",
       "      {'resourceURI': 'http://gateway.marvel.com/v1/public/stories/6015',\n",
       "       'name': '4 of 6 - 6 XLS -',\n",
       "       'type': 'interiorStory'},\n",
       "      {'resourceURI': 'http://gateway.marvel.com/v1/public/stories/6016',\n",
       "       'name': '5 of 6 - 6 XLS -',\n",
       "       'type': 'cover'},\n",
       "      {'resourceURI': 'http://gateway.marvel.com/v1/public/stories/6017',\n",
       "       'name': '5 of 6 - 6 XLS -',\n",
       "       'type': 'interiorStory'},\n",
       "      {'resourceURI': 'http://gateway.marvel.com/v1/public/stories/6018',\n",
       "       'name': '5 of 6 - Story A - 6XLS',\n",
       "       'type': 'cover'},\n",
       "      {'resourceURI': 'http://gateway.marvel.com/v1/public/stories/6019',\n",
       "       'name': '5 of 6 - Story A - 6XLS',\n",
       "       'type': 'interiorStory'},\n",
       "      {'resourceURI': 'http://gateway.marvel.com/v1/public/stories/51050',\n",
       "       'name': '1 of 1',\n",
       "       'type': 'cover'},\n",
       "      {'resourceURI': 'http://gateway.marvel.com/v1/public/stories/52393',\n",
       "       'name': '1 of 3',\n",
       "       'type': 'interiorStory'},\n",
       "      {'resourceURI': 'http://gateway.marvel.com/v1/public/stories/52395',\n",
       "       'name': '1 of 3',\n",
       "       'type': 'interiorStory'},\n",
       "      {'resourceURI': 'http://gateway.marvel.com/v1/public/stories/52861',\n",
       "       'name': '2 of 3',\n",
       "       'type': 'interiorStory'},\n",
       "      {'resourceURI': 'http://gateway.marvel.com/v1/public/stories/52863',\n",
       "       'name': '2 of 3',\n",
       "       'type': 'interiorStory'},\n",
       "      {'resourceURI': 'http://gateway.marvel.com/v1/public/stories/53263',\n",
       "       'name': '3 of 3',\n",
       "       'type': 'interiorStory'},\n",
       "      {'resourceURI': 'http://gateway.marvel.com/v1/public/stories/53265',\n",
       "       'name': '3 of 3',\n",
       "       'type': 'interiorStory'},\n",
       "      {'resourceURI': 'http://gateway.marvel.com/v1/public/stories/53266',\n",
       "       'name': '3 of 3',\n",
       "       'type': 'interiorStory'}],\n",
       "     'returned': 20},\n",
       "    'events': {'available': 1,\n",
       "     'collectionURI': 'http://gateway.marvel.com/v1/public/characters/1011198/events',\n",
       "     'items': [{'resourceURI': 'http://gateway.marvel.com/v1/public/events/318',\n",
       "       'name': 'Dark Reign'}],\n",
       "     'returned': 1},\n",
       "    'urls': [{'type': 'detail',\n",
       "      'url': 'http://marvel.com/comics/characters/1011198/agents_of_atlas?utm_campaign=apiRef&utm_source=b6da7604b5a5dfc7082f113e7022153d'},\n",
       "     {'type': 'wiki',\n",
       "      'url': 'http://marvel.com/universe/Agents_of_Atlas?utm_campaign=apiRef&utm_source=b6da7604b5a5dfc7082f113e7022153d'},\n",
       "     {'type': 'comiclink',\n",
       "      'url': 'http://marvel.com/comics/characters/1011198/agents_of_atlas?utm_campaign=apiRef&utm_source=b6da7604b5a5dfc7082f113e7022153d'}]},\n",
       "   {'id': 1011175,\n",
       "    'name': 'Aginar',\n",
       "    'description': '',\n",
       "    'modified': '1969-12-31T19:00:00-0500',\n",
       "    'thumbnail': {'path': 'http://i.annihil.us/u/prod/marvel/i/mg/b/40/image_not_available',\n",
       "     'extension': 'jpg'},\n",
       "    'resourceURI': 'http://gateway.marvel.com/v1/public/characters/1011175',\n",
       "    'comics': {'available': 0,\n",
       "     'collectionURI': 'http://gateway.marvel.com/v1/public/characters/1011175/comics',\n",
       "     'items': [],\n",
       "     'returned': 0},\n",
       "    'series': {'available': 0,\n",
       "     'collectionURI': 'http://gateway.marvel.com/v1/public/characters/1011175/series',\n",
       "     'items': [],\n",
       "     'returned': 0},\n",
       "    'stories': {'available': 0,\n",
       "     'collectionURI': 'http://gateway.marvel.com/v1/public/characters/1011175/stories',\n",
       "     'items': [],\n",
       "     'returned': 0},\n",
       "    'events': {'available': 0,\n",
       "     'collectionURI': 'http://gateway.marvel.com/v1/public/characters/1011175/events',\n",
       "     'items': [],\n",
       "     'returned': 0},\n",
       "    'urls': [{'type': 'detail',\n",
       "      'url': 'http://marvel.com/characters/105/aginar?utm_campaign=apiRef&utm_source=b6da7604b5a5dfc7082f113e7022153d'},\n",
       "     {'type': 'wiki',\n",
       "      'url': 'http://marvel.com/universe/Aginar?utm_campaign=apiRef&utm_source=b6da7604b5a5dfc7082f113e7022153d'},\n",
       "     {'type': 'comiclink',\n",
       "      'url': 'http://marvel.com/comics/characters/1011175/aginar?utm_campaign=apiRef&utm_source=b6da7604b5a5dfc7082f113e7022153d'}]},\n",
       "   {'id': 1011136,\n",
       "    'name': 'Air-Walker (Gabriel Lan)',\n",
       "    'description': '',\n",
       "    'modified': '1969-12-31T19:00:00-0500',\n",
       "    'thumbnail': {'path': 'http://i.annihil.us/u/prod/marvel/i/mg/b/40/image_not_available',\n",
       "     'extension': 'jpg'},\n",
       "    'resourceURI': 'http://gateway.marvel.com/v1/public/characters/1011136',\n",
       "    'comics': {'available': 4,\n",
       "     'collectionURI': 'http://gateway.marvel.com/v1/public/characters/1011136/comics',\n",
       "     'items': [{'resourceURI': 'http://gateway.marvel.com/v1/public/comics/4108',\n",
       "       'name': 'Annihilation: Silver Surfer (2006) #1'},\n",
       "      {'resourceURI': 'http://gateway.marvel.com/v1/public/comics/5589',\n",
       "       'name': 'Heroes Reborn: Iron Man (Trade Paperback)'},\n",
       "      {'resourceURI': 'http://gateway.marvel.com/v1/public/comics/16330',\n",
       "       'name': 'Iron Man (1996) #11'},\n",
       "      {'resourceURI': 'http://gateway.marvel.com/v1/public/comics/16331',\n",
       "       'name': 'Iron Man (1996) #12'}],\n",
       "     'returned': 4},\n",
       "    'series': {'available': 3,\n",
       "     'collectionURI': 'http://gateway.marvel.com/v1/public/characters/1011136/series',\n",
       "     'items': [{'resourceURI': 'http://gateway.marvel.com/v1/public/series/1078',\n",
       "       'name': 'Annihilation: Silver Surfer (2006)'},\n",
       "      {'resourceURI': 'http://gateway.marvel.com/v1/public/series/1814',\n",
       "       'name': 'Heroes Reborn: Iron Man (2006)'},\n",
       "      {'resourceURI': 'http://gateway.marvel.com/v1/public/series/13577',\n",
       "       'name': 'Iron Man (1996 - 1998)'}],\n",
       "     'returned': 3},\n",
       "    'stories': {'available': 3,\n",
       "     'collectionURI': 'http://gateway.marvel.com/v1/public/characters/1011136/stories',\n",
       "     'items': [{'resourceURI': 'http://gateway.marvel.com/v1/public/stories/5925',\n",
       "       'name': 'Annihilation: Silver Surfer (2006) #1',\n",
       "       'type': 'cover'},\n",
       "      {'resourceURI': 'http://gateway.marvel.com/v1/public/stories/34082',\n",
       "       'name': 'Magical Mystery Tour',\n",
       "       'type': 'interiorStory'},\n",
       "      {'resourceURI': 'http://gateway.marvel.com/v1/public/stories/34085',\n",
       "       'name': 'Matters of the Heart',\n",
       "       'type': 'interiorStory'}],\n",
       "     'returned': 3},\n",
       "    'events': {'available': 1,\n",
       "     'collectionURI': 'http://gateway.marvel.com/v1/public/characters/1011136/events',\n",
       "     'items': [{'resourceURI': 'http://gateway.marvel.com/v1/public/events/229',\n",
       "       'name': 'Annihilation'}],\n",
       "     'returned': 1},\n",
       "    'urls': [{'type': 'detail',\n",
       "      'url': 'http://marvel.com/characters/109/air-walker?utm_campaign=apiRef&utm_source=b6da7604b5a5dfc7082f113e7022153d'},\n",
       "     {'type': 'wiki',\n",
       "      'url': 'http://marvel.com/universe/Air-Walker_(Gabriel_Lan)?utm_campaign=apiRef&utm_source=b6da7604b5a5dfc7082f113e7022153d'},\n",
       "     {'type': 'comiclink',\n",
       "      'url': 'http://marvel.com/comics/characters/1011136/air-walker_gabriel_lan?utm_campaign=apiRef&utm_source=b6da7604b5a5dfc7082f113e7022153d'}]},\n",
       "   {'id': 1011176,\n",
       "    'name': 'Ajak',\n",
       "    'description': '',\n",
       "    'modified': '1969-12-31T19:00:00-0500',\n",
       "    'thumbnail': {'path': 'http://i.annihil.us/u/prod/marvel/i/mg/2/80/4c002f35c5215',\n",
       "     'extension': 'jpg'},\n",
       "    'resourceURI': 'http://gateway.marvel.com/v1/public/characters/1011176',\n",
       "    'comics': {'available': 4,\n",
       "     'collectionURI': 'http://gateway.marvel.com/v1/public/characters/1011176/comics',\n",
       "     'items': [{'resourceURI': 'http://gateway.marvel.com/v1/public/comics/21175',\n",
       "       'name': 'Incredible Hercules (2008) #117'},\n",
       "      {'resourceURI': 'http://gateway.marvel.com/v1/public/comics/21324',\n",
       "       'name': 'Incredible Hercules (2008) #118'},\n",
       "      {'resourceURI': 'http://gateway.marvel.com/v1/public/comics/21505',\n",
       "       'name': 'Incredible Hercules (2008) #119'},\n",
       "      {'resourceURI': 'http://gateway.marvel.com/v1/public/comics/21707',\n",
       "       'name': 'Incredible Hercules (2008) #120'}],\n",
       "     'returned': 4},\n",
       "    'series': {'available': 1,\n",
       "     'collectionURI': 'http://gateway.marvel.com/v1/public/characters/1011176/series',\n",
       "     'items': [{'resourceURI': 'http://gateway.marvel.com/v1/public/series/3762',\n",
       "       'name': 'Incredible Hercules (2008 - 2010)'}],\n",
       "     'returned': 1},\n",
       "    'stories': {'available': 8,\n",
       "     'collectionURI': 'http://gateway.marvel.com/v1/public/characters/1011176/stories',\n",
       "     'items': [{'resourceURI': 'http://gateway.marvel.com/v1/public/stories/46776',\n",
       "       'name': 'Incredible Hercules (2008) #117',\n",
       "       'type': 'cover'},\n",
       "      {'resourceURI': 'http://gateway.marvel.com/v1/public/stories/46777',\n",
       "       'name': 'Interior #46777',\n",
       "       'type': 'interiorStory'},\n",
       "      {'resourceURI': 'http://gateway.marvel.com/v1/public/stories/47097',\n",
       "       'name': 'Incredible Hercules (2008) #118',\n",
       "       'type': 'cover'},\n",
       "      {'resourceURI': 'http://gateway.marvel.com/v1/public/stories/47098',\n",
       "       'name': 'Interior #47098',\n",
       "       'type': 'interiorStory'},\n",
       "      {'resourceURI': 'http://gateway.marvel.com/v1/public/stories/47415',\n",
       "       'name': 'Incredible Hercules (2008) #119',\n",
       "       'type': 'cover'},\n",
       "      {'resourceURI': 'http://gateway.marvel.com/v1/public/stories/47416',\n",
       "       'name': '3 of 4 - Secret Invasion',\n",
       "       'type': 'interiorStory'},\n",
       "      {'resourceURI': 'http://gateway.marvel.com/v1/public/stories/47721',\n",
       "       'name': 'Incredible Hercules (2008) #120',\n",
       "       'type': 'cover'},\n",
       "      {'resourceURI': 'http://gateway.marvel.com/v1/public/stories/47722',\n",
       "       'name': '4 of 4 - Secret Invasion',\n",
       "       'type': 'interiorStory'}],\n",
       "     'returned': 8},\n",
       "    'events': {'available': 1,\n",
       "     'collectionURI': 'http://gateway.marvel.com/v1/public/characters/1011176/events',\n",
       "     'items': [{'resourceURI': 'http://gateway.marvel.com/v1/public/events/269',\n",
       "       'name': 'Secret Invasion'}],\n",
       "     'returned': 1},\n",
       "    'urls': [{'type': 'detail',\n",
       "      'url': 'http://marvel.com/characters/111/ajak?utm_campaign=apiRef&utm_source=b6da7604b5a5dfc7082f113e7022153d'},\n",
       "     {'type': 'wiki',\n",
       "      'url': 'http://marvel.com/universe/Ajak?utm_campaign=apiRef&utm_source=b6da7604b5a5dfc7082f113e7022153d'},\n",
       "     {'type': 'comiclink',\n",
       "      'url': 'http://marvel.com/comics/characters/1011176/ajak?utm_campaign=apiRef&utm_source=b6da7604b5a5dfc7082f113e7022153d'}]},\n",
       "   {'id': 1010870,\n",
       "    'name': 'Ajaxis',\n",
       "    'description': '',\n",
       "    'modified': '1969-12-31T19:00:00-0500',\n",
       "    'thumbnail': {'path': 'http://i.annihil.us/u/prod/marvel/i/mg/b/70/4c0035adc7d3a',\n",
       "     'extension': 'jpg'},\n",
       "    'resourceURI': 'http://gateway.marvel.com/v1/public/characters/1010870',\n",
       "    'comics': {'available': 0,\n",
       "     'collectionURI': 'http://gateway.marvel.com/v1/public/characters/1010870/comics',\n",
       "     'items': [],\n",
       "     'returned': 0},\n",
       "    'series': {'available': 0,\n",
       "     'collectionURI': 'http://gateway.marvel.com/v1/public/characters/1010870/series',\n",
       "     'items': [],\n",
       "     'returned': 0},\n",
       "    'stories': {'available': 0,\n",
       "     'collectionURI': 'http://gateway.marvel.com/v1/public/characters/1010870/stories',\n",
       "     'items': [],\n",
       "     'returned': 0},\n",
       "    'events': {'available': 0,\n",
       "     'collectionURI': 'http://gateway.marvel.com/v1/public/characters/1010870/events',\n",
       "     'items': [],\n",
       "     'returned': 0},\n",
       "    'urls': [{'type': 'detail',\n",
       "      'url': 'http://marvel.com/characters/113/ajaxis?utm_campaign=apiRef&utm_source=b6da7604b5a5dfc7082f113e7022153d'},\n",
       "     {'type': 'wiki',\n",
       "      'url': 'http://marvel.com/universe/Ajaxis?utm_campaign=apiRef&utm_source=b6da7604b5a5dfc7082f113e7022153d'},\n",
       "     {'type': 'comiclink',\n",
       "      'url': 'http://marvel.com/comics/characters/1010870/ajaxis?utm_campaign=apiRef&utm_source=b6da7604b5a5dfc7082f113e7022153d'}]}]}}"
      ]
     },
     "execution_count": 5,
     "metadata": {},
     "output_type": "execute_result"
    }
   ],
   "source": [
    "x = api.get(\"characters\")"
   ]
  },
  {
   "cell_type": "code",
   "execution_count": 6,
   "metadata": {},
   "outputs": [],
   "source": [
    "def returns_a_name():\n",
    "    return \"marcus\""
   ]
  },
  {
   "cell_type": "code",
   "execution_count": 7,
   "metadata": {},
   "outputs": [],
   "source": [
    "def does_something_but_returns_nothing():\n",
    "    1 + 1 "
   ]
  },
  {
   "cell_type": "code",
   "execution_count": 10,
   "metadata": {},
   "outputs": [],
   "source": [
    "new_variable = returns_a_name()\n"
   ]
  },
  {
   "cell_type": "code",
   "execution_count": 12,
   "metadata": {},
   "outputs": [
    {
     "name": "stdout",
     "output_type": "stream",
     "text": [
      "marcus\n"
     ]
    }
   ],
   "source": [
    "print(new_variable)"
   ]
  },
  {
   "cell_type": "code",
   "execution_count": 15,
   "metadata": {},
   "outputs": [],
   "source": [
    "x = print"
   ]
  },
  {
   "cell_type": "code",
   "execution_count": 16,
   "metadata": {},
   "outputs": [
    {
     "data": {
      "text/plain": [
       "<function print>"
      ]
     },
     "execution_count": 16,
     "metadata": {},
     "output_type": "execute_result"
    }
   ],
   "source": [
    "x"
   ]
  },
  {
   "cell_type": "code",
   "execution_count": 20,
   "metadata": {},
   "outputs": [
    {
     "data": {
      "text/plain": [
       "'marcus'"
      ]
     },
     "execution_count": 20,
     "metadata": {},
     "output_type": "execute_result"
    }
   ],
   "source": [
    "returns_a_name()"
   ]
  },
  {
   "cell_type": "code",
   "execution_count": 21,
   "metadata": {},
   "outputs": [],
   "source": [
    "wtf_is_it = does_something_but_returns_nothing()"
   ]
  },
  {
   "cell_type": "code",
   "execution_count": 22,
   "metadata": {},
   "outputs": [
    {
     "data": {
      "text/plain": [
       "NoneType"
      ]
     },
     "execution_count": 22,
     "metadata": {},
     "output_type": "execute_result"
    }
   ],
   "source": [
    "type(wtf_is_it)"
   ]
  },
  {
   "cell_type": "code",
   "execution_count": 23,
   "metadata": {},
   "outputs": [
    {
     "data": {
      "text/plain": [
       "True"
      ]
     },
     "execution_count": 23,
     "metadata": {},
     "output_type": "execute_result"
    }
   ],
   "source": [
    "wtf_is_it is None"
   ]
  },
  {
   "cell_type": "code",
   "execution_count": 25,
   "metadata": {},
   "outputs": [],
   "source": [
    "the_function = returns_a_name"
   ]
  },
  {
   "cell_type": "code",
   "execution_count": 26,
   "metadata": {},
   "outputs": [],
   "source": [
    "my_name = returns_a_name()"
   ]
  },
  {
   "cell_type": "code",
   "execution_count": 27,
   "metadata": {},
   "outputs": [
    {
     "data": {
      "text/plain": [
       "False"
      ]
     },
     "execution_count": 27,
     "metadata": {},
     "output_type": "execute_result"
    }
   ],
   "source": [
    "the_function == my_name"
   ]
  },
  {
   "cell_type": "code",
   "execution_count": 28,
   "metadata": {},
   "outputs": [
    {
     "data": {
      "text/plain": [
       "(<function __main__.returns_a_name()>, 'marcus')"
      ]
     },
     "execution_count": 28,
     "metadata": {},
     "output_type": "execute_result"
    }
   ],
   "source": [
    "(the_function, my_name)"
   ]
  },
  {
   "cell_type": "code",
   "execution_count": 29,
   "metadata": {},
   "outputs": [
    {
     "data": {
      "text/plain": [
       "<function marvel.api.get(relpath)>"
      ]
     },
     "execution_count": 29,
     "metadata": {},
     "output_type": "execute_result"
    }
   ],
   "source": [
    "api.get"
   ]
  },
  {
   "cell_type": "code",
   "execution_count": 30,
   "metadata": {},
   "outputs": [
    {
     "data": {
      "text/plain": [
       "True"
      ]
     },
     "execution_count": 30,
     "metadata": {},
     "output_type": "execute_result"
    }
   ],
   "source": [
    "the_function is returns_a_name "
   ]
  },
  {
   "cell_type": "code",
   "execution_count": 31,
   "metadata": {},
   "outputs": [
    {
     "data": {
      "text/plain": [
       "'marcus'"
      ]
     },
     "execution_count": 31,
     "metadata": {},
     "output_type": "execute_result"
    }
   ],
   "source": [
    "the_function()"
   ]
  },
  {
   "cell_type": "code",
   "execution_count": 65,
   "metadata": {},
   "outputs": [],
   "source": [
    "def some_numbers():\n",
    "    return [1]"
   ]
  },
  {
   "cell_type": "code",
   "execution_count": 66,
   "metadata": {},
   "outputs": [
    {
     "data": {
      "text/plain": [
       "[1]"
      ]
     },
     "execution_count": 66,
     "metadata": {},
     "output_type": "execute_result"
    }
   ],
   "source": [
    "some_numbers()"
   ]
  },
  {
   "cell_type": "code",
   "execution_count": 67,
   "metadata": {},
   "outputs": [],
   "source": [
    "some_numbers = [1]"
   ]
  },
  {
   "cell_type": "code",
   "execution_count": 68,
   "metadata": {},
   "outputs": [
    {
     "data": {
      "text/plain": [
       "[1]"
      ]
     },
     "execution_count": 68,
     "metadata": {},
     "output_type": "execute_result"
    }
   ],
   "source": [
    "some_numbers"
   ]
  },
  {
   "cell_type": "code",
   "execution_count": 69,
   "metadata": {},
   "outputs": [],
   "source": [
    "total = some_numbers[0]"
   ]
  },
  {
   "cell_type": "code",
   "execution_count": 70,
   "metadata": {},
   "outputs": [
    {
     "data": {
      "text/plain": [
       "1"
      ]
     },
     "execution_count": 70,
     "metadata": {},
     "output_type": "execute_result"
    }
   ],
   "source": [
    "total"
   ]
  },
  {
   "cell_type": "code",
   "execution_count": 73,
   "metadata": {},
   "outputs": [],
   "source": [
    "some_numbers.append(555)"
   ]
  },
  {
   "cell_type": "code",
   "execution_count": 76,
   "metadata": {},
   "outputs": [
    {
     "data": {
      "text/plain": [
       "555"
      ]
     },
     "execution_count": 76,
     "metadata": {},
     "output_type": "execute_result"
    }
   ],
   "source": [
    "some_numbers[1]"
   ]
  },
  {
   "cell_type": "code",
   "execution_count": 16,
   "metadata": {},
   "outputs": [
    {
     "name": "stdout",
     "output_type": "stream",
     "text": [
      "You need to put down 20%\n"
     ]
    }
   ],
   "source": [
    "buyer_has_good_credit = False\n",
    "\n",
    "price_of_a_house = 1_000_000\n",
    "    \n",
    "if buyer_has_good_credit:\n",
    "    print(\"You need to put down 10%\")\n",
    "else: \n",
    "    print(\"You need to put down 20%\")"
   ]
  },
  {
   "cell_type": "code",
   "execution_count": 1,
   "metadata": {},
   "outputs": [
    {
     "name": "stdout",
     "output_type": "stream",
     "text": [
      "Press 1 to convert from Fahrenheit to Celsiusor Press 2 to convert from Celsius to Fahrenheit. 2\n",
      "what number do you want to convert? 22\n",
      "Your temperature in Fahrenheit is: 71.6\n"
     ]
    }
   ],
   "source": [
    "choice = input(\"Press 1 to convert from Fahrenheit to Celsiusor Press 2 to convert from Celsius to Fahrenheit. \")\n",
    "temp = input(\"what number do you want to convert? \")\n",
    "\n",
    "if float(choice) == 1:\n",
    "    temp = (float(temp) - 32) * 5 / 9\n",
    "    print(\"Your temperature in Celsius is: %s.\" %temp)\n",
    "elif float(choice) == 2:\n",
    "    temp = float(temp) * 9/5 + 32\n",
    "    print(\"Your temperature in Fahrenheit is: %s\" %temp)\n",
    "else:\n",
    "    print(\"Please input either 1 or 2!\")"
   ]
  },
  {
   "cell_type": "code",
   "execution_count": 2,
   "metadata": {},
   "outputs": [
    {
     "name": "stdout",
     "output_type": "stream",
     "text": [
      "Please enter a word(x to quit): marcus is a good boy\n",
      "marcus is a good boy\n",
      "Please enter a word(x to quit): x\n",
      "x\n",
      "You have entered 1 words.\n"
     ]
    }
   ],
   "source": [
    "count = 0\n",
    "while True:\n",
    "    word = input(\"Please enter a word(x to quit): \")\n",
    "    print(word)\n",
    "    if word == \"x\":\n",
    "        print(\"You have entered %s words.\" %count)\n",
    "        break \n",
    "    count = count + 1"
   ]
  },
  {
   "cell_type": "code",
   "execution_count": 3,
   "metadata": {},
   "outputs": [
    {
     "name": "stdout",
     "output_type": "stream",
     "text": [
      "enter the password: marcus_is_the_password\n",
      "Access denied!\n",
      "enter the password: sesame\n",
      "Login successful!\n"
     ]
    }
   ],
   "source": [
    "password = \"sesame\"\n",
    "hello = input(\"enter the password: \")\n",
    "\n",
    "while hello != password:\n",
    "    print(\"Access denied!\")\n",
    "    hello = input(\"enter the password: \")\n",
    "if hello == password:\n",
    "    print(\"Login successful!\")"
   ]
  },
  {
   "cell_type": "code",
   "execution_count": null,
   "metadata": {},
   "outputs": [],
   "source": [
    "\n",
    "\n"
   ]
  },
  {
   "cell_type": "code",
   "execution_count": 9,
   "metadata": {},
   "outputs": [
    {
     "name": "stdout",
     "output_type": "stream",
     "text": [
      "Please enter your name: marcus\n",
      "Please enter a number: 89\n",
      "Please enter a second number: 33\n",
      "marcus your total is 122.0\n"
     ]
    }
   ],
   "source": [
    "user_name = input(\"Please enter your name: \")\n",
    "user_number1 = float(input(\"Please enter a number: \"))\n",
    "user_number2 = float(input(\"Please enter a second number: \"))\n",
    "user_total = user_number1 + user_number2\n",
    "print(user_name, \"your total is\", user_total)\n",
    "\n",
    "# end result to another persons psuedocode task from online.\n",
    "# didnt run, not sure if i did something wrong, but i think i got close."
   ]
  },
  {
   "cell_type": "code",
   "execution_count": 4,
   "metadata": {},
   "outputs": [
    {
     "data": {
      "text/plain": [
       "2"
      ]
     },
     "execution_count": 4,
     "metadata": {},
     "output_type": "execute_result"
    }
   ],
   "source": [
    "1 + 1"
   ]
  },
  {
   "cell_type": "code",
   "execution_count": 5,
   "metadata": {},
   "outputs": [],
   "source": [
    "the_string = \"2 + 2\""
   ]
  },
  {
   "cell_type": "code",
   "execution_count": 6,
   "metadata": {},
   "outputs": [
    {
     "data": {
      "text/plain": [
       "4"
      ]
     },
     "execution_count": 6,
     "metadata": {},
     "output_type": "execute_result"
    }
   ],
   "source": [
    "eval(the_string)"
   ]
  },
  {
   "cell_type": "code",
   "execution_count": 10,
   "metadata": {},
   "outputs": [],
   "source": [
    "from marvel import api"
   ]
  },
  {
   "cell_type": "code",
   "execution_count": 11,
   "metadata": {},
   "outputs": [
    {
     "data": {
      "text/plain": [
       "{'code': 200,\n",
       " 'status': 'Ok',\n",
       " 'copyright': '© 2020 MARVEL',\n",
       " 'attributionText': 'Data provided by Marvel. © 2020 MARVEL',\n",
       " 'attributionHTML': '<a href=\"http://marvel.com\">Data provided by Marvel. © 2020 MARVEL</a>',\n",
       " 'etag': '5742a182224714e7f485d48f327a1b43e5f10b9f',\n",
       " 'data': {'offset': 0,\n",
       "  'limit': 20,\n",
       "  'total': 1,\n",
       "  'count': 1,\n",
       "  'results': [{'id': 1009664,\n",
       "    'name': 'Thor',\n",
       "    'description': \"As the Norse God of thunder and lightning, Thor wields one of the greatest weapons ever made, the enchanted hammer Mjolnir. While others have described Thor as an over-muscled, oafish imbecile, he's quite smart and compassionate.  He's self-assured, and he would never, ever stop fighting for a worthwhile cause.\",\n",
       "    'modified': '2020-03-11T10:18:57-0400',\n",
       "    'thumbnail': {'path': 'http://i.annihil.us/u/prod/marvel/i/mg/d/d0/5269657a74350',\n",
       "     'extension': 'jpg'},\n",
       "    'resourceURI': 'http://gateway.marvel.com/v1/public/characters/1009664',\n",
       "    'comics': {'available': 1761,\n",
       "     'collectionURI': 'http://gateway.marvel.com/v1/public/characters/1009664/comics',\n",
       "     'items': [{'resourceURI': 'http://gateway.marvel.com/v1/public/comics/43506',\n",
       "       'name': 'A+X (2012) #7'},\n",
       "      {'resourceURI': 'http://gateway.marvel.com/v1/public/comics/30090',\n",
       "       'name': 'Age of Heroes (2010) #1'},\n",
       "      {'resourceURI': 'http://gateway.marvel.com/v1/public/comics/33566',\n",
       "       'name': 'Age of Heroes (2010) #2'},\n",
       "      {'resourceURI': 'http://gateway.marvel.com/v1/public/comics/30092',\n",
       "       'name': 'Age of Heroes (2010) #3'},\n",
       "      {'resourceURI': 'http://gateway.marvel.com/v1/public/comics/30093',\n",
       "       'name': 'Age of Heroes (2010) #4'},\n",
       "      {'resourceURI': 'http://gateway.marvel.com/v1/public/comics/46852',\n",
       "       'name': 'Alpha: Big Time (2013) #4'},\n",
       "      {'resourceURI': 'http://gateway.marvel.com/v1/public/comics/12637',\n",
       "       'name': 'Alpha Flight (1983) #1'},\n",
       "      {'resourceURI': 'http://gateway.marvel.com/v1/public/comics/12725',\n",
       "       'name': 'Alpha Flight (1983) #61'},\n",
       "      {'resourceURI': 'http://gateway.marvel.com/v1/public/comics/12668',\n",
       "       'name': 'Alpha Flight (1983) #127'},\n",
       "      {'resourceURI': 'http://gateway.marvel.com/v1/public/comics/6748',\n",
       "       'name': 'The Amazing Spider-Man (1963) #339'},\n",
       "      {'resourceURI': 'http://gateway.marvel.com/v1/public/comics/277',\n",
       "       'name': 'Amazing Spider-Man (1999) #500'},\n",
       "      {'resourceURI': 'http://gateway.marvel.com/v1/public/comics/5808',\n",
       "       'name': 'Amazing Spider-Man (1999) #538'},\n",
       "      {'resourceURI': 'http://gateway.marvel.com/v1/public/comics/16904',\n",
       "       'name': 'Amazing Spider-Man Annual (1964) #3'},\n",
       "      {'resourceURI': 'http://gateway.marvel.com/v1/public/comics/16890',\n",
       "       'name': 'Amazing Spider-Man Annual (1964) #16'},\n",
       "      {'resourceURI': 'http://gateway.marvel.com/v1/public/comics/1262',\n",
       "       'name': 'Amazing Spider-Man Vol. 6 (Trade Paperback)'},\n",
       "      {'resourceURI': 'http://gateway.marvel.com/v1/public/comics/39896',\n",
       "       'name': 'Art of Marvel Studios TPB Slipcase (Hardcover)'},\n",
       "      {'resourceURI': 'http://gateway.marvel.com/v1/public/comics/32769',\n",
       "       'name': 'Astonishing Thor (2010) #1'},\n",
       "      {'resourceURI': 'http://gateway.marvel.com/v1/public/comics/33652',\n",
       "       'name': 'Astonishing Thor (2010) #1 (FOILOGRAM VARIANT)'},\n",
       "      {'resourceURI': 'http://gateway.marvel.com/v1/public/comics/32771',\n",
       "       'name': 'Astonishing Thor (2010) #2'},\n",
       "      {'resourceURI': 'http://gateway.marvel.com/v1/public/comics/32774',\n",
       "       'name': 'Astonishing Thor (2010) #3'}],\n",
       "     'returned': 20},\n",
       "    'series': {'available': 506,\n",
       "     'collectionURI': 'http://gateway.marvel.com/v1/public/characters/1009664/series',\n",
       "     'items': [{'resourceURI': 'http://gateway.marvel.com/v1/public/series/16450',\n",
       "       'name': 'A+X (2012 - 2014)'},\n",
       "      {'resourceURI': 'http://gateway.marvel.com/v1/public/series/9790',\n",
       "       'name': 'Age of Heroes (2010)'},\n",
       "      {'resourceURI': 'http://gateway.marvel.com/v1/public/series/2116',\n",
       "       'name': 'Alpha Flight (1983 - 1994)'},\n",
       "      {'resourceURI': 'http://gateway.marvel.com/v1/public/series/17650',\n",
       "       'name': 'Alpha: Big Time (2013)'},\n",
       "      {'resourceURI': 'http://gateway.marvel.com/v1/public/series/454',\n",
       "       'name': 'Amazing Spider-Man (1999 - 2013)'},\n",
       "      {'resourceURI': 'http://gateway.marvel.com/v1/public/series/2984',\n",
       "       'name': 'Amazing Spider-Man Annual (1964 - 2018)'},\n",
       "      {'resourceURI': 'http://gateway.marvel.com/v1/public/series/318',\n",
       "       'name': 'Amazing Spider-Man Vol. 6 (2004)'},\n",
       "      {'resourceURI': 'http://gateway.marvel.com/v1/public/series/14779',\n",
       "       'name': 'Art of Marvel Studios TPB Slipcase (2011 - Present)'},\n",
       "      {'resourceURI': 'http://gateway.marvel.com/v1/public/series/9858',\n",
       "       'name': 'Astonishing Thor (2010)'},\n",
       "      {'resourceURI': 'http://gateway.marvel.com/v1/public/series/744',\n",
       "       'name': 'Astonishing X-Men (2004 - 2013)'},\n",
       "      {'resourceURI': 'http://gateway.marvel.com/v1/public/series/3621',\n",
       "       'name': 'Avengers (1996 - 1997)'},\n",
       "      {'resourceURI': 'http://gateway.marvel.com/v1/public/series/24229',\n",
       "       'name': 'Avengers (2018 - Present)'},\n",
       "      {'resourceURI': 'http://gateway.marvel.com/v1/public/series/9085',\n",
       "       'name': 'Avengers (2010 - 2012)'},\n",
       "      {'resourceURI': 'http://gateway.marvel.com/v1/public/series/354',\n",
       "       'name': 'Avengers (1998 - 2004)'},\n",
       "      {'resourceURI': 'http://gateway.marvel.com/v1/public/series/1991',\n",
       "       'name': 'Avengers (1963 - 1996)'},\n",
       "      {'resourceURI': 'http://gateway.marvel.com/v1/public/series/22547',\n",
       "       'name': 'Avengers (2016 - 2018)'},\n",
       "      {'resourceURI': 'http://gateway.marvel.com/v1/public/series/9859',\n",
       "       'name': 'Avengers & the Infinity Gauntlet (2010)'},\n",
       "      {'resourceURI': 'http://gateway.marvel.com/v1/public/series/9086',\n",
       "       'name': 'Avengers Academy (2010 - 2012)'},\n",
       "      {'resourceURI': 'http://gateway.marvel.com/v1/public/series/1988',\n",
       "       'name': 'Avengers Annual (1967 - 1994)'},\n",
       "      {'resourceURI': 'http://gateway.marvel.com/v1/public/series/13320',\n",
       "       'name': 'Avengers Annual (2012)'}],\n",
       "     'returned': 20},\n",
       "    'stories': {'available': 2671,\n",
       "     'collectionURI': 'http://gateway.marvel.com/v1/public/characters/1009664/stories',\n",
       "     'items': [{'resourceURI': 'http://gateway.marvel.com/v1/public/stories/876',\n",
       "       'name': 'THOR (1998) #76',\n",
       "       'type': 'cover'},\n",
       "      {'resourceURI': 'http://gateway.marvel.com/v1/public/stories/877',\n",
       "       'name': 'Interior #877',\n",
       "       'type': 'interiorStory'},\n",
       "      {'resourceURI': 'http://gateway.marvel.com/v1/public/stories/879',\n",
       "       'name': 'Interior #879',\n",
       "       'type': 'interiorStory'},\n",
       "      {'resourceURI': 'http://gateway.marvel.com/v1/public/stories/880',\n",
       "       'name': 'THOR (1998) #77',\n",
       "       'type': 'cover'},\n",
       "      {'resourceURI': 'http://gateway.marvel.com/v1/public/stories/881',\n",
       "       'name': 'Interior #881',\n",
       "       'type': 'interiorStory'},\n",
       "      {'resourceURI': 'http://gateway.marvel.com/v1/public/stories/882',\n",
       "       'name': 'THOR (1998) #83',\n",
       "       'type': 'cover'},\n",
       "      {'resourceURI': 'http://gateway.marvel.com/v1/public/stories/883',\n",
       "       'name': 'Interior #883',\n",
       "       'type': 'interiorStory'},\n",
       "      {'resourceURI': 'http://gateway.marvel.com/v1/public/stories/884',\n",
       "       'name': 'THOR (1998) #82',\n",
       "       'type': 'cover'},\n",
       "      {'resourceURI': 'http://gateway.marvel.com/v1/public/stories/885',\n",
       "       'name': 'Interior #885',\n",
       "       'type': 'interiorStory'},\n",
       "      {'resourceURI': 'http://gateway.marvel.com/v1/public/stories/886',\n",
       "       'name': 'THOR (1998) #78',\n",
       "       'type': 'cover'},\n",
       "      {'resourceURI': 'http://gateway.marvel.com/v1/public/stories/887',\n",
       "       'name': 'Interior #887',\n",
       "       'type': 'interiorStory'},\n",
       "      {'resourceURI': 'http://gateway.marvel.com/v1/public/stories/888',\n",
       "       'name': 'THOR (1998) #79',\n",
       "       'type': 'cover'},\n",
       "      {'resourceURI': 'http://gateway.marvel.com/v1/public/stories/889',\n",
       "       'name': 'Interior #889',\n",
       "       'type': 'interiorStory'},\n",
       "      {'resourceURI': 'http://gateway.marvel.com/v1/public/stories/890',\n",
       "       'name': 'THOR (1998) #80',\n",
       "       'type': 'cover'},\n",
       "      {'resourceURI': 'http://gateway.marvel.com/v1/public/stories/891',\n",
       "       'name': 'Interior #891',\n",
       "       'type': 'interiorStory'},\n",
       "      {'resourceURI': 'http://gateway.marvel.com/v1/public/stories/892',\n",
       "       'name': 'THOR (1998) #81',\n",
       "       'type': 'cover'},\n",
       "      {'resourceURI': 'http://gateway.marvel.com/v1/public/stories/893',\n",
       "       'name': 'Interior #893',\n",
       "       'type': 'interiorStory'},\n",
       "      {'resourceURI': 'http://gateway.marvel.com/v1/public/stories/894',\n",
       "       'name': 'THOR (1998) #84',\n",
       "       'type': 'cover'},\n",
       "      {'resourceURI': 'http://gateway.marvel.com/v1/public/stories/895',\n",
       "       'name': 'AVENGERS DISASSEMBLED TIE-IN! “RAGNAROK” PART 4 (OF 6) What makes a god? Is it birthright, is it happenstance, or is it in the m',\n",
       "       'type': 'interiorStory'},\n",
       "      {'resourceURI': 'http://gateway.marvel.com/v1/public/stories/896',\n",
       "       'name': 'THOR (1998) #85',\n",
       "       'type': 'cover'}],\n",
       "     'returned': 20},\n",
       "    'events': {'available': 27,\n",
       "     'collectionURI': 'http://gateway.marvel.com/v1/public/characters/1009664/events',\n",
       "     'items': [{'resourceURI': 'http://gateway.marvel.com/v1/public/events/116',\n",
       "       'name': 'Acts of Vengeance!'},\n",
       "      {'resourceURI': 'http://gateway.marvel.com/v1/public/events/233',\n",
       "       'name': 'Atlantis Attacks'},\n",
       "      {'resourceURI': 'http://gateway.marvel.com/v1/public/events/234',\n",
       "       'name': 'Avengers Disassembled'},\n",
       "      {'resourceURI': 'http://gateway.marvel.com/v1/public/events/310',\n",
       "       'name': 'Avengers VS X-Men'},\n",
       "      {'resourceURI': 'http://gateway.marvel.com/v1/public/events/235',\n",
       "       'name': 'Blood and Thunder'},\n",
       "      {'resourceURI': 'http://gateway.marvel.com/v1/public/events/296',\n",
       "       'name': 'Chaos War'},\n",
       "      {'resourceURI': 'http://gateway.marvel.com/v1/public/events/238',\n",
       "       'name': 'Civil War'},\n",
       "      {'resourceURI': 'http://gateway.marvel.com/v1/public/events/318',\n",
       "       'name': 'Dark Reign'},\n",
       "      {'resourceURI': 'http://gateway.marvel.com/v1/public/events/246',\n",
       "       'name': 'Evolutionary War'},\n",
       "      {'resourceURI': 'http://gateway.marvel.com/v1/public/events/302',\n",
       "       'name': 'Fear Itself'},\n",
       "      {'resourceURI': 'http://gateway.marvel.com/v1/public/events/252',\n",
       "       'name': 'Inferno'},\n",
       "      {'resourceURI': 'http://gateway.marvel.com/v1/public/events/315',\n",
       "       'name': 'Infinity'},\n",
       "      {'resourceURI': 'http://gateway.marvel.com/v1/public/events/29',\n",
       "       'name': 'Infinity War'},\n",
       "      {'resourceURI': 'http://gateway.marvel.com/v1/public/events/317',\n",
       "       'name': 'Inhumanity'},\n",
       "      {'resourceURI': 'http://gateway.marvel.com/v1/public/events/311',\n",
       "       'name': 'Marvel NOW!'},\n",
       "      {'resourceURI': 'http://gateway.marvel.com/v1/public/events/37',\n",
       "       'name': 'Maximum Security'},\n",
       "      {'resourceURI': 'http://gateway.marvel.com/v1/public/events/263',\n",
       "       'name': 'Mutant Massacre'},\n",
       "      {'resourceURI': 'http://gateway.marvel.com/v1/public/events/154',\n",
       "       'name': 'Onslaught'},\n",
       "      {'resourceURI': 'http://gateway.marvel.com/v1/public/events/319',\n",
       "       'name': 'Original Sin'},\n",
       "      {'resourceURI': 'http://gateway.marvel.com/v1/public/events/336',\n",
       "       'name': 'Secret Empire'}],\n",
       "     'returned': 20},\n",
       "    'urls': [{'type': 'detail',\n",
       "      'url': 'http://marvel.com/comics/characters/1009664/thor?utm_campaign=apiRef&utm_source=b6da7604b5a5dfc7082f113e7022153d'},\n",
       "     {'type': 'wiki',\n",
       "      'url': 'http://marvel.com/universe/Thor_(Thor_Odinson)?utm_campaign=apiRef&utm_source=b6da7604b5a5dfc7082f113e7022153d'},\n",
       "     {'type': 'comiclink',\n",
       "      'url': 'http://marvel.com/comics/characters/1009664/thor?utm_campaign=apiRef&utm_source=b6da7604b5a5dfc7082f113e7022153d'}]}]}}"
      ]
     },
     "execution_count": 11,
     "metadata": {},
     "output_type": "execute_result"
    }
   ],
   "source": [
    "api.get(\"characters\", params={\"name\": \"Thor\"})"
   ]
  },
  {
   "cell_type": "code",
   "execution_count": 1,
   "metadata": {},
   "outputs": [],
   "source": [
    "import marvel"
   ]
  },
  {
   "cell_type": "code",
   "execution_count": 27,
   "metadata": {},
   "outputs": [],
   "source": [
    "thor_json = marvel.get_character_by_name(\"Thor\")"
   ]
  },
  {
   "cell_type": "code",
   "execution_count": 28,
   "metadata": {},
   "outputs": [],
   "source": [
    "hulk_json = marvel.get_character_by_name(\"Hulk\")"
   ]
  },
  {
   "cell_type": "code",
   "execution_count": 43,
   "metadata": {},
   "outputs": [],
   "source": [
    "import json\n",
    "def pretty_print(data):\n",
    "    print(json.dumps(data, indent=2))\n",
    "data = hulk_json[\"data\"]"
   ]
  },
  {
   "cell_type": "code",
   "execution_count": 48,
   "metadata": {},
   "outputs": [
    {
     "data": {
      "text/plain": [
       "'Hulk'"
      ]
     },
     "execution_count": 48,
     "metadata": {},
     "output_type": "execute_result"
    }
   ],
   "source": [
    "hulk_json[\"data\"][\"results\"][0][\"name\"]"
   ]
  },
  {
   "cell_type": "code",
   "execution_count": 49,
   "metadata": {},
   "outputs": [],
   "source": [
    "def character_name(character):\n",
    "    return character[\"data\"][\"results\"][0][\"name\"]"
   ]
  },
  {
   "cell_type": "code",
   "execution_count": 50,
   "metadata": {},
   "outputs": [
    {
     "data": {
      "text/plain": [
       "'Hulk'"
      ]
     },
     "execution_count": 50,
     "metadata": {},
     "output_type": "execute_result"
    }
   ],
   "source": [
    "character_name(hulk_json)"
   ]
  },
  {
   "cell_type": "code",
   "execution_count": 51,
   "metadata": {},
   "outputs": [
    {
     "data": {
      "text/plain": [
       "{'offset': 0,\n",
       " 'limit': 20,\n",
       " 'total': 1,\n",
       " 'count': 1,\n",
       " 'results': [{'id': 1009351,\n",
       "   'name': 'Hulk',\n",
       "   'description': 'Caught in a gamma bomb explosion while trying to save the life of a teenager, Dr. Bruce Banner was transformed into the incredibly powerful creature called the Hulk. An all too often misunderstood hero, the angrier the Hulk gets, the stronger the Hulk gets.',\n",
       "   'modified': '2020-07-21T10:35:15-0400',\n",
       "   'thumbnail': {'path': 'http://i.annihil.us/u/prod/marvel/i/mg/5/a0/538615ca33ab0',\n",
       "    'extension': 'jpg'},\n",
       "   'resourceURI': 'http://gateway.marvel.com/v1/public/characters/1009351',\n",
       "   'comics': {'available': 1667,\n",
       "    'collectionURI': 'http://gateway.marvel.com/v1/public/characters/1009351/comics',\n",
       "    'items': [{'resourceURI': 'http://gateway.marvel.com/v1/public/comics/41112',\n",
       "      'name': '5 Ronin (Hardcover)'},\n",
       "     {'resourceURI': 'http://gateway.marvel.com/v1/public/comics/36365',\n",
       "      'name': '5 Ronin (2010) #2'},\n",
       "     {'resourceURI': 'http://gateway.marvel.com/v1/public/comics/38753',\n",
       "      'name': '5 Ronin (2010) #2 (BROOKS COVER)'},\n",
       "     {'resourceURI': 'http://gateway.marvel.com/v1/public/comics/43488',\n",
       "      'name': 'A+X (2012) #1'},\n",
       "     {'resourceURI': 'http://gateway.marvel.com/v1/public/comics/43506',\n",
       "      'name': 'A+X (2012) #7'},\n",
       "     {'resourceURI': 'http://gateway.marvel.com/v1/public/comics/77060',\n",
       "      'name': 'Absolute Carnage: Immortal Hulk (2019) #1'},\n",
       "     {'resourceURI': 'http://gateway.marvel.com/v1/public/comics/320',\n",
       "      'name': 'Actor Presents Spider-Man and the Incredible Hulk (2003) #1'},\n",
       "     {'resourceURI': 'http://gateway.marvel.com/v1/public/comics/38524',\n",
       "      'name': 'Age of X: Universe (2011) #1'},\n",
       "     {'resourceURI': 'http://gateway.marvel.com/v1/public/comics/38523',\n",
       "      'name': 'Age of X: Universe (2011) #2'},\n",
       "     {'resourceURI': 'http://gateway.marvel.com/v1/public/comics/24053',\n",
       "      'name': 'All-New Savage She-Hulk (2009) #1'},\n",
       "     {'resourceURI': 'http://gateway.marvel.com/v1/public/comics/24252',\n",
       "      'name': 'All-New Savage She-Hulk (2009) #2'},\n",
       "     {'resourceURI': 'http://gateway.marvel.com/v1/public/comics/12689',\n",
       "      'name': 'Alpha Flight (1983) #29'},\n",
       "     {'resourceURI': 'http://gateway.marvel.com/v1/public/comics/12650',\n",
       "      'name': 'Alpha Flight (1983) #110'},\n",
       "     {'resourceURI': 'http://gateway.marvel.com/v1/public/comics/12651',\n",
       "      'name': 'Alpha Flight (1983) #111'},\n",
       "     {'resourceURI': 'http://gateway.marvel.com/v1/public/comics/12668',\n",
       "      'name': 'Alpha Flight (1983) #127'},\n",
       "     {'resourceURI': 'http://gateway.marvel.com/v1/public/comics/6527',\n",
       "      'name': 'The Amazing Spider-Man (1963) #14'},\n",
       "     {'resourceURI': 'http://gateway.marvel.com/v1/public/comics/35528',\n",
       "      'name': 'Amazing Spider-Man (1999) #667'},\n",
       "     {'resourceURI': 'http://gateway.marvel.com/v1/public/comics/16904',\n",
       "      'name': 'Amazing Spider-Man Annual (1964) #3'},\n",
       "     {'resourceURI': 'http://gateway.marvel.com/v1/public/comics/16886',\n",
       "      'name': 'Amazing Spider-Man Annual (1964) #12'},\n",
       "     {'resourceURI': 'http://gateway.marvel.com/v1/public/comics/36956',\n",
       "      'name': 'Amazing Spider-Man Annual (2011) #38'}],\n",
       "    'returned': 20},\n",
       "   'series': {'available': 475,\n",
       "    'collectionURI': 'http://gateway.marvel.com/v1/public/characters/1009351/series',\n",
       "    'items': [{'resourceURI': 'http://gateway.marvel.com/v1/public/series/15276',\n",
       "      'name': '5 Ronin (2011)'},\n",
       "     {'resourceURI': 'http://gateway.marvel.com/v1/public/series/12429',\n",
       "      'name': '5 Ronin (2010)'},\n",
       "     {'resourceURI': 'http://gateway.marvel.com/v1/public/series/16450',\n",
       "      'name': 'A+X (2012 - 2014)'},\n",
       "     {'resourceURI': 'http://gateway.marvel.com/v1/public/series/27632',\n",
       "      'name': 'Absolute Carnage: Immortal Hulk (2019)'},\n",
       "     {'resourceURI': 'http://gateway.marvel.com/v1/public/series/458',\n",
       "      'name': 'Actor Presents Spider-Man and the Incredible Hulk (2003)'},\n",
       "     {'resourceURI': 'http://gateway.marvel.com/v1/public/series/13896',\n",
       "      'name': 'Age of X: Universe (2011)'},\n",
       "     {'resourceURI': 'http://gateway.marvel.com/v1/public/series/7231',\n",
       "      'name': 'All-New Savage She-Hulk (2009)'},\n",
       "     {'resourceURI': 'http://gateway.marvel.com/v1/public/series/2116',\n",
       "      'name': 'Alpha Flight (1983 - 1994)'},\n",
       "     {'resourceURI': 'http://gateway.marvel.com/v1/public/series/454',\n",
       "      'name': 'Amazing Spider-Man (1999 - 2013)'},\n",
       "     {'resourceURI': 'http://gateway.marvel.com/v1/public/series/2984',\n",
       "      'name': 'Amazing Spider-Man Annual (1964 - 2018)'},\n",
       "     {'resourceURI': 'http://gateway.marvel.com/v1/public/series/13205',\n",
       "      'name': 'Amazing Spider-Man Annual (2011)'},\n",
       "     {'resourceURI': 'http://gateway.marvel.com/v1/public/series/24323',\n",
       "      'name': 'Ant-Man and the Wasp Adventures (2018)'},\n",
       "     {'resourceURI': 'http://gateway.marvel.com/v1/public/series/1991',\n",
       "      'name': 'Avengers (1963 - 1996)'},\n",
       "     {'resourceURI': 'http://gateway.marvel.com/v1/public/series/22547',\n",
       "      'name': 'Avengers (2016 - 2018)'},\n",
       "     {'resourceURI': 'http://gateway.marvel.com/v1/public/series/3621',\n",
       "      'name': 'Avengers (1996 - 1997)'},\n",
       "     {'resourceURI': 'http://gateway.marvel.com/v1/public/series/354',\n",
       "      'name': 'Avengers (1998 - 2004)'},\n",
       "     {'resourceURI': 'http://gateway.marvel.com/v1/public/series/9085',\n",
       "      'name': 'Avengers (2010 - 2012)'},\n",
       "     {'resourceURI': 'http://gateway.marvel.com/v1/public/series/24044',\n",
       "      'name': 'Avengers & The Infinity Gauntlet (2018)'},\n",
       "     {'resourceURI': 'http://gateway.marvel.com/v1/public/series/9859',\n",
       "      'name': 'Avengers & the Infinity Gauntlet (2010)'},\n",
       "     {'resourceURI': 'http://gateway.marvel.com/v1/public/series/1988',\n",
       "      'name': 'Avengers Annual (1967 - 1994)'}],\n",
       "    'returned': 20},\n",
       "   'stories': {'available': 2551,\n",
       "    'collectionURI': 'http://gateway.marvel.com/v1/public/characters/1009351/stories',\n",
       "    'items': [{'resourceURI': 'http://gateway.marvel.com/v1/public/stories/702',\n",
       "      'name': 'INCREDIBLE HULK (1999) #62',\n",
       "      'type': 'cover'},\n",
       "     {'resourceURI': 'http://gateway.marvel.com/v1/public/stories/703',\n",
       "      'name': 'Interior #703',\n",
       "      'type': 'interiorStory'},\n",
       "     {'resourceURI': 'http://gateway.marvel.com/v1/public/stories/704',\n",
       "      'name': 'INCREDIBLE HULK (1999) #63',\n",
       "      'type': 'cover'},\n",
       "     {'resourceURI': 'http://gateway.marvel.com/v1/public/stories/705',\n",
       "      'name': 'Interior #705',\n",
       "      'type': 'interiorStory'},\n",
       "     {'resourceURI': 'http://gateway.marvel.com/v1/public/stories/706',\n",
       "      'name': 'INCREDIBLE HULK (1999) #64',\n",
       "      'type': 'cover'},\n",
       "     {'resourceURI': 'http://gateway.marvel.com/v1/public/stories/707',\n",
       "      'name': 'Interior #707',\n",
       "      'type': 'interiorStory'},\n",
       "     {'resourceURI': 'http://gateway.marvel.com/v1/public/stories/872',\n",
       "      'name': 'HULK: GRAY (2003) #2',\n",
       "      'type': 'cover'},\n",
       "     {'resourceURI': 'http://gateway.marvel.com/v1/public/stories/873',\n",
       "      'name': 'Interior #873',\n",
       "      'type': 'interiorStory'},\n",
       "     {'resourceURI': 'http://gateway.marvel.com/v1/public/stories/874',\n",
       "      'name': 'HULK: GRAY (2003) #3',\n",
       "      'type': 'cover'},\n",
       "     {'resourceURI': 'http://gateway.marvel.com/v1/public/stories/875',\n",
       "      'name': 'Interior #875',\n",
       "      'type': 'interiorStory'},\n",
       "     {'resourceURI': 'http://gateway.marvel.com/v1/public/stories/1134',\n",
       "      'name': 'Interior #1134',\n",
       "      'type': 'interiorStory'},\n",
       "     {'resourceURI': 'http://gateway.marvel.com/v1/public/stories/1217',\n",
       "      'name': 'INCREDIBLE HULK (1999) #68',\n",
       "      'type': 'cover'},\n",
       "     {'resourceURI': 'http://gateway.marvel.com/v1/public/stories/1218',\n",
       "      'name': 'Interior #1218',\n",
       "      'type': 'interiorStory'},\n",
       "     {'resourceURI': 'http://gateway.marvel.com/v1/public/stories/1219',\n",
       "      'name': 'INCREDIBLE HULK (1999) #69',\n",
       "      'type': 'cover'},\n",
       "     {'resourceURI': 'http://gateway.marvel.com/v1/public/stories/1220',\n",
       "      'name': 'Interior #1220',\n",
       "      'type': 'interiorStory'},\n",
       "     {'resourceURI': 'http://gateway.marvel.com/v1/public/stories/1221',\n",
       "      'name': 'INCREDIBLE HULK (1999) #70',\n",
       "      'type': 'cover'},\n",
       "     {'resourceURI': 'http://gateway.marvel.com/v1/public/stories/1222',\n",
       "      'name': 'Interior #1222',\n",
       "      'type': 'interiorStory'},\n",
       "     {'resourceURI': 'http://gateway.marvel.com/v1/public/stories/1223',\n",
       "      'name': 'INCREDIBLE HULK (1999) #71',\n",
       "      'type': 'cover'},\n",
       "     {'resourceURI': 'http://gateway.marvel.com/v1/public/stories/1224',\n",
       "      'name': 'Interior #1224',\n",
       "      'type': 'interiorStory'},\n",
       "     {'resourceURI': 'http://gateway.marvel.com/v1/public/stories/1225',\n",
       "      'name': 'INCREDIBLE HULK (1999) #75',\n",
       "      'type': 'cover'}],\n",
       "    'returned': 20},\n",
       "   'events': {'available': 26,\n",
       "    'collectionURI': 'http://gateway.marvel.com/v1/public/characters/1009351/events',\n",
       "    'items': [{'resourceURI': 'http://gateway.marvel.com/v1/public/events/116',\n",
       "      'name': 'Acts of Vengeance!'},\n",
       "     {'resourceURI': 'http://gateway.marvel.com/v1/public/events/303',\n",
       "      'name': 'Age of X'},\n",
       "     {'resourceURI': 'http://gateway.marvel.com/v1/public/events/296',\n",
       "      'name': 'Chaos War'},\n",
       "     {'resourceURI': 'http://gateway.marvel.com/v1/public/events/318',\n",
       "      'name': 'Dark Reign'},\n",
       "     {'resourceURI': 'http://gateway.marvel.com/v1/public/events/297',\n",
       "      'name': 'Fall of the Hulks'},\n",
       "     {'resourceURI': 'http://gateway.marvel.com/v1/public/events/248',\n",
       "      'name': 'Fall of the Mutants'},\n",
       "     {'resourceURI': 'http://gateway.marvel.com/v1/public/events/302',\n",
       "      'name': 'Fear Itself'},\n",
       "     {'resourceURI': 'http://gateway.marvel.com/v1/public/events/251',\n",
       "      'name': 'House of M'},\n",
       "     {'resourceURI': 'http://gateway.marvel.com/v1/public/events/315',\n",
       "      'name': 'Infinity'},\n",
       "     {'resourceURI': 'http://gateway.marvel.com/v1/public/events/29',\n",
       "      'name': 'Infinity War'},\n",
       "     {'resourceURI': 'http://gateway.marvel.com/v1/public/events/317',\n",
       "      'name': 'Inhumanity'},\n",
       "     {'resourceURI': 'http://gateway.marvel.com/v1/public/events/255',\n",
       "      'name': 'Initiative'},\n",
       "     {'resourceURI': 'http://gateway.marvel.com/v1/public/events/311',\n",
       "      'name': 'Marvel NOW!'},\n",
       "     {'resourceURI': 'http://gateway.marvel.com/v1/public/events/37',\n",
       "      'name': 'Maximum Security'},\n",
       "     {'resourceURI': 'http://gateway.marvel.com/v1/public/events/154',\n",
       "      'name': 'Onslaught'},\n",
       "     {'resourceURI': 'http://gateway.marvel.com/v1/public/events/319',\n",
       "      'name': 'Original Sin'},\n",
       "     {'resourceURI': 'http://gateway.marvel.com/v1/public/events/266',\n",
       "      'name': 'Other - Evolve or Die'},\n",
       "     {'resourceURI': 'http://gateway.marvel.com/v1/public/events/212',\n",
       "      'name': 'Planet Hulk'},\n",
       "     {'resourceURI': 'http://gateway.marvel.com/v1/public/events/295',\n",
       "      'name': 'Realm of Kings'},\n",
       "     {'resourceURI': 'http://gateway.marvel.com/v1/public/events/269',\n",
       "      'name': 'Secret Invasion'}],\n",
       "    'returned': 20},\n",
       "   'urls': [{'type': 'detail',\n",
       "     'url': 'http://marvel.com/comics/characters/1009351/hulk?utm_campaign=apiRef&utm_source=b6da7604b5a5dfc7082f113e7022153d'},\n",
       "    {'type': 'wiki',\n",
       "     'url': 'http://marvel.com/universe/Hulk_(Bruce_Banner)?utm_campaign=apiRef&utm_source=b6da7604b5a5dfc7082f113e7022153d'},\n",
       "    {'type': 'comiclink',\n",
       "     'url': 'http://marvel.com/comics/characters/1009351/hulk?utm_campaign=apiRef&utm_source=b6da7604b5a5dfc7082f113e7022153d'}]}]}"
      ]
     },
     "execution_count": 51,
     "metadata": {},
     "output_type": "execute_result"
    }
   ],
   "source": [
    "hulk_json[\"data\"]"
   ]
  },
  {
   "cell_type": "code",
   "execution_count": 52,
   "metadata": {},
   "outputs": [
    {
     "data": {
      "text/plain": [
       "{'available': 475,\n",
       " 'collectionURI': 'http://gateway.marvel.com/v1/public/characters/1009351/series',\n",
       " 'items': [{'resourceURI': 'http://gateway.marvel.com/v1/public/series/15276',\n",
       "   'name': '5 Ronin (2011)'},\n",
       "  {'resourceURI': 'http://gateway.marvel.com/v1/public/series/12429',\n",
       "   'name': '5 Ronin (2010)'},\n",
       "  {'resourceURI': 'http://gateway.marvel.com/v1/public/series/16450',\n",
       "   'name': 'A+X (2012 - 2014)'},\n",
       "  {'resourceURI': 'http://gateway.marvel.com/v1/public/series/27632',\n",
       "   'name': 'Absolute Carnage: Immortal Hulk (2019)'},\n",
       "  {'resourceURI': 'http://gateway.marvel.com/v1/public/series/458',\n",
       "   'name': 'Actor Presents Spider-Man and the Incredible Hulk (2003)'},\n",
       "  {'resourceURI': 'http://gateway.marvel.com/v1/public/series/13896',\n",
       "   'name': 'Age of X: Universe (2011)'},\n",
       "  {'resourceURI': 'http://gateway.marvel.com/v1/public/series/7231',\n",
       "   'name': 'All-New Savage She-Hulk (2009)'},\n",
       "  {'resourceURI': 'http://gateway.marvel.com/v1/public/series/2116',\n",
       "   'name': 'Alpha Flight (1983 - 1994)'},\n",
       "  {'resourceURI': 'http://gateway.marvel.com/v1/public/series/454',\n",
       "   'name': 'Amazing Spider-Man (1999 - 2013)'},\n",
       "  {'resourceURI': 'http://gateway.marvel.com/v1/public/series/2984',\n",
       "   'name': 'Amazing Spider-Man Annual (1964 - 2018)'},\n",
       "  {'resourceURI': 'http://gateway.marvel.com/v1/public/series/13205',\n",
       "   'name': 'Amazing Spider-Man Annual (2011)'},\n",
       "  {'resourceURI': 'http://gateway.marvel.com/v1/public/series/24323',\n",
       "   'name': 'Ant-Man and the Wasp Adventures (2018)'},\n",
       "  {'resourceURI': 'http://gateway.marvel.com/v1/public/series/1991',\n",
       "   'name': 'Avengers (1963 - 1996)'},\n",
       "  {'resourceURI': 'http://gateway.marvel.com/v1/public/series/22547',\n",
       "   'name': 'Avengers (2016 - 2018)'},\n",
       "  {'resourceURI': 'http://gateway.marvel.com/v1/public/series/3621',\n",
       "   'name': 'Avengers (1996 - 1997)'},\n",
       "  {'resourceURI': 'http://gateway.marvel.com/v1/public/series/354',\n",
       "   'name': 'Avengers (1998 - 2004)'},\n",
       "  {'resourceURI': 'http://gateway.marvel.com/v1/public/series/9085',\n",
       "   'name': 'Avengers (2010 - 2012)'},\n",
       "  {'resourceURI': 'http://gateway.marvel.com/v1/public/series/24044',\n",
       "   'name': 'Avengers & The Infinity Gauntlet (2018)'},\n",
       "  {'resourceURI': 'http://gateway.marvel.com/v1/public/series/9859',\n",
       "   'name': 'Avengers & the Infinity Gauntlet (2010)'},\n",
       "  {'resourceURI': 'http://gateway.marvel.com/v1/public/series/1988',\n",
       "   'name': 'Avengers Annual (1967 - 1994)'}],\n",
       " 'returned': 20}"
      ]
     },
     "execution_count": 52,
     "metadata": {},
     "output_type": "execute_result"
    }
   ],
   "source": [
    "hulk_json[\"data\"][\"results\"][0][\"series\"]"
   ]
  },
  {
   "cell_type": "code",
   "execution_count": 1,
   "metadata": {},
   "outputs": [],
   "source": [
    "series_number = 7231"
   ]
  },
  {
   "cell_type": "code",
   "execution_count": 1,
   "metadata": {},
   "outputs": [],
   "source": [
    "import marvel"
   ]
  },
  {
   "cell_type": "code",
   "execution_count": 2,
   "metadata": {},
   "outputs": [
    {
     "ename": "NameError",
     "evalue": "name 'series_number' is not defined",
     "output_type": "error",
     "traceback": [
      "\u001b[0;31m---------------------------------------------------------------------------\u001b[0m",
      "\u001b[0;31mNameError\u001b[0m                                 Traceback (most recent call last)",
      "\u001b[0;32m<ipython-input-2-a6c8d9b0c408>\u001b[0m in \u001b[0;36m<module>\u001b[0;34m\u001b[0m\n\u001b[0;32m----> 1\u001b[0;31m \u001b[0mresp\u001b[0m \u001b[0;34m=\u001b[0m \u001b[0mmarvel\u001b[0m\u001b[0;34m.\u001b[0m\u001b[0mget_characters_by_series\u001b[0m\u001b[0;34m(\u001b[0m\u001b[0mseries_number\u001b[0m\u001b[0;34m)\u001b[0m\u001b[0;34m\u001b[0m\u001b[0;34m\u001b[0m\u001b[0m\n\u001b[0m",
      "\u001b[0;31mNameError\u001b[0m: name 'series_number' is not defined"
     ]
    }
   ],
   "source": [
    "resp = marvel.get_characters_by_series(series_number)"
   ]
  },
  {
   "cell_type": "code",
   "execution_count": 4,
   "metadata": {},
   "outputs": [],
   "source": [
    "names = marvel.character_names(resp)"
   ]
  },
  {
   "cell_type": "code",
   "execution_count": 5,
   "metadata": {},
   "outputs": [
    {
     "data": {
      "text/plain": [
       "['Daken',\n",
       " 'Dark Avengers',\n",
       " 'Hulk',\n",
       " 'Sentry (Robert Reynolds)',\n",
       " 'She-Hulk (Jennifer Walters)',\n",
       " 'She-Hulk (Lyra)',\n",
       " 'Thundra']"
      ]
     },
     "execution_count": 5,
     "metadata": {},
     "output_type": "execute_result"
    }
   ],
   "source": [
    "names"
   ]
  },
  {
   "cell_type": "code",
   "execution_count": 2,
   "metadata": {},
   "outputs": [
    {
     "data": {
      "text/plain": [
       "['Sentry', 'Robert', 'Reynolds']"
      ]
     },
     "execution_count": 2,
     "metadata": {},
     "output_type": "execute_result"
    }
   ],
   "source": [
    "marvel.split_name('Sentry (Robert Reynolds)')"
   ]
  },
  {
   "cell_type": "code",
   "execution_count": 16,
   "metadata": {},
   "outputs": [
    {
     "data": {
      "text/plain": [
       "['Daken',\n",
       " 'Dark Avengers',\n",
       " 'Hulk',\n",
       " 'Sentry (Robert Reynolds)',\n",
       " 'She-Hulk (Jennifer Walters)',\n",
       " 'She-Hulk (Lyra)',\n",
       " 'Thundra']"
      ]
     },
     "execution_count": 16,
     "metadata": {},
     "output_type": "execute_result"
    }
   ],
   "source": []
  },
  {
   "cell_type": "code",
   "execution_count": 17,
   "metadata": {},
   "outputs": [],
   "source": [
    "count = len(results)"
   ]
  },
  {
   "cell_type": "code",
   "execution_count": 18,
   "metadata": {},
   "outputs": [
    {
     "data": {
      "text/plain": [
       "7"
      ]
     },
     "execution_count": 18,
     "metadata": {},
     "output_type": "execute_result"
    }
   ],
   "source": [
    "count"
   ]
  },
  {
   "cell_type": "code",
   "execution_count": 24,
   "metadata": {},
   "outputs": [],
   "source": [
    "names_2 = []"
   ]
  },
  {
   "cell_type": "code",
   "execution_count": 25,
   "metadata": {},
   "outputs": [],
   "source": [
    "for i in range(count):\n",
    "    names_2.append(results[i][\"name\"])"
   ]
  },
  {
   "cell_type": "code",
   "execution_count": 26,
   "metadata": {},
   "outputs": [
    {
     "data": {
      "text/plain": [
       "['Daken',\n",
       " 'Dark Avengers',\n",
       " 'Hulk',\n",
       " 'Sentry (Robert Reynolds)',\n",
       " 'She-Hulk (Jennifer Walters)',\n",
       " 'She-Hulk (Lyra)',\n",
       " 'Thundra']"
      ]
     },
     "execution_count": 26,
     "metadata": {},
     "output_type": "execute_result"
    }
   ],
   "source": [
    "names_2"
   ]
  },
  {
   "cell_type": "code",
   "execution_count": null,
   "metadata": {},
   "outputs": [],
   "source": []
  },
  {
   "cell_type": "code",
   "execution_count": null,
   "metadata": {},
   "outputs": [],
   "source": []
  },
  {
   "cell_type": "code",
   "execution_count": null,
   "metadata": {},
   "outputs": [],
   "source": []
  },
  {
   "cell_type": "code",
   "execution_count": null,
   "metadata": {},
   "outputs": [],
   "source": []
  },
  {
   "cell_type": "code",
   "execution_count": null,
   "metadata": {},
   "outputs": [],
   "source": []
  },
  {
   "cell_type": "code",
   "execution_count": null,
   "metadata": {},
   "outputs": [],
   "source": []
  },
  {
   "cell_type": "code",
   "execution_count": null,
   "metadata": {},
   "outputs": [],
   "source": []
  },
  {
   "cell_type": "code",
   "execution_count": null,
   "metadata": {},
   "outputs": [],
   "source": []
  },
  {
   "cell_type": "code",
   "execution_count": 5,
   "metadata": {},
   "outputs": [],
   "source": [
    "def add_1(number):\n",
    "    print(\"the number you passed in was:\", number)\n",
    "    result = number + 1\n",
    "    print(\"returning the result as:\", result)\n",
    "    return result"
   ]
  },
  {
   "cell_type": "code",
   "execution_count": 6,
   "metadata": {},
   "outputs": [
    {
     "name": "stdout",
     "output_type": "stream",
     "text": [
      "the number you passed in was: 12\n",
      "returning the result as: 13\n"
     ]
    },
    {
     "data": {
      "text/plain": [
       "13"
      ]
     },
     "execution_count": 6,
     "metadata": {},
     "output_type": "execute_result"
    }
   ],
   "source": [
    "add_1(12)\n"
   ]
  },
  {
   "cell_type": "code",
   "execution_count": 7,
   "metadata": {},
   "outputs": [
    {
     "name": "stdout",
     "output_type": "stream",
     "text": [
      "the number you passed in was: 12\n",
      "returning the result as: 13\n"
     ]
    }
   ],
   "source": [
    "x = add_1(12)\n"
   ]
  },
  {
   "cell_type": "code",
   "execution_count": 9,
   "metadata": {},
   "outputs": [
    {
     "data": {
      "text/plain": [
       "13"
      ]
     },
     "execution_count": 9,
     "metadata": {},
     "output_type": "execute_result"
    }
   ],
   "source": [
    "add_1(12)"
   ]
  },
  {
   "cell_type": "code",
   "execution_count": 10,
   "metadata": {},
   "outputs": [],
   "source": [
    "x = add_1(12)"
   ]
  },
  {
   "cell_type": "code",
   "execution_count": 25,
   "metadata": {},
   "outputs": [
    {
     "name": "stdout",
     "output_type": "stream",
     "text": [
      "marcus\n",
      "hello?\n"
     ]
    }
   ],
   "source": [
    "print(\"marcus\\nhello?\")"
   ]
  },
  {
   "cell_type": "code",
   "execution_count": 26,
   "metadata": {},
   "outputs": [
    {
     "data": {
      "text/plain": [
       "<function __main__.add_1(number)>"
      ]
     },
     "execution_count": 26,
     "metadata": {},
     "output_type": "execute_result"
    }
   ],
   "source": [
    "add_1"
   ]
  },
  {
   "cell_type": "code",
   "execution_count": 18,
   "metadata": {},
   "outputs": [],
   "source": [
    "x = [4,5,6]"
   ]
  },
  {
   "cell_type": "code",
   "execution_count": 4,
   "metadata": {},
   "outputs": [
    {
     "name": "stdout",
     "output_type": "stream",
     "text": [
      "4\n",
      "5\n",
      "6\n"
     ]
    }
   ],
   "source": [
    "for num in x:\n",
    "    print(num)"
   ]
  },
  {
   "cell_type": "code",
   "execution_count": 8,
   "metadata": {},
   "outputs": [
    {
     "name": "stdout",
     "output_type": "stream",
     "text": [
      "4\n",
      "5\n",
      "6\n"
     ]
    },
    {
     "ename": "IndexError",
     "evalue": "list index out of range",
     "output_type": "error",
     "traceback": [
      "\u001b[0;31m---------------------------------------------------------------------------\u001b[0m",
      "\u001b[0;31mIndexError\u001b[0m                                Traceback (most recent call last)",
      "\u001b[0;32m<ipython-input-8-80cf33fad126>\u001b[0m in \u001b[0;36m<module>\u001b[0;34m\u001b[0m\n\u001b[1;32m      1\u001b[0m \u001b[0mi\u001b[0m \u001b[0;34m=\u001b[0m \u001b[0;36m0\u001b[0m\u001b[0;34m\u001b[0m\u001b[0;34m\u001b[0m\u001b[0m\n\u001b[1;32m      2\u001b[0m \u001b[0;32mwhile\u001b[0m \u001b[0mi\u001b[0m \u001b[0;34m<=\u001b[0m \u001b[0mlen\u001b[0m\u001b[0;34m(\u001b[0m\u001b[0mx\u001b[0m\u001b[0;34m)\u001b[0m\u001b[0;34m:\u001b[0m\u001b[0;34m\u001b[0m\u001b[0;34m\u001b[0m\u001b[0m\n\u001b[0;32m----> 3\u001b[0;31m     \u001b[0mprint\u001b[0m\u001b[0;34m(\u001b[0m\u001b[0mx\u001b[0m\u001b[0;34m[\u001b[0m\u001b[0mi\u001b[0m\u001b[0;34m]\u001b[0m\u001b[0;34m)\u001b[0m\u001b[0;34m\u001b[0m\u001b[0;34m\u001b[0m\u001b[0m\n\u001b[0m\u001b[1;32m      4\u001b[0m     \u001b[0mi\u001b[0m \u001b[0;34m=\u001b[0m \u001b[0mi\u001b[0m \u001b[0;34m+\u001b[0m \u001b[0;36m1\u001b[0m\u001b[0;34m\u001b[0m\u001b[0;34m\u001b[0m\u001b[0m\n",
      "\u001b[0;31mIndexError\u001b[0m: list index out of range"
     ]
    }
   ],
   "source": [
    "i = 0\n",
    "while i < len(x):\n",
    "    print(x[i])\n",
    "    i = i + 1"
   ]
  },
  {
   "cell_type": "code",
   "execution_count": 10,
   "metadata": {},
   "outputs": [],
   "source": [
    "for num in x:\n",
    "    num = 1\n"
   ]
  },
  {
   "cell_type": "code",
   "execution_count": 11,
   "metadata": {},
   "outputs": [
    {
     "data": {
      "text/plain": [
       "[4, 5, 6]"
      ]
     },
     "execution_count": 11,
     "metadata": {},
     "output_type": "execute_result"
    }
   ],
   "source": [
    "x"
   ]
  },
  {
   "cell_type": "code",
   "execution_count": 19,
   "metadata": {},
   "outputs": [],
   "source": [
    "i = 0\n",
    "while i < len(x):\n",
    "    x[i] = x[i] + 1\n",
    "    i = i + 1"
   ]
  },
  {
   "cell_type": "code",
   "execution_count": 21,
   "metadata": {},
   "outputs": [
    {
     "data": {
      "text/plain": [
       "[5, 6, 7]"
      ]
     },
     "execution_count": 21,
     "metadata": {},
     "output_type": "execute_result"
    }
   ],
   "source": [
    "x"
   ]
  },
  {
   "cell_type": "code",
   "execution_count": 28,
   "metadata": {},
   "outputs": [
    {
     "ename": "IndexError",
     "evalue": "list index out of range",
     "output_type": "error",
     "traceback": [
      "\u001b[0;31m---------------------------------------------------------------------------\u001b[0m",
      "\u001b[0;31mIndexError\u001b[0m                                Traceback (most recent call last)",
      "\u001b[0;32m<ipython-input-28-dc2cd44e899d>\u001b[0m in \u001b[0;36m<module>\u001b[0;34m\u001b[0m\n\u001b[0;32m----> 1\u001b[0;31m \u001b[0mx\u001b[0m\u001b[0;34m[\u001b[0m\u001b[0;36m3\u001b[0m\u001b[0;34m]\u001b[0m\u001b[0;34m\u001b[0m\u001b[0;34m\u001b[0m\u001b[0m\n\u001b[0m",
      "\u001b[0;31mIndexError\u001b[0m: list index out of range"
     ]
    }
   ],
   "source": [
    "x[3]"
   ]
  },
  {
   "cell_type": "code",
   "execution_count": 35,
   "metadata": {},
   "outputs": [
    {
     "data": {
      "text/plain": [
       "[5, 6, 7]"
      ]
     },
     "execution_count": 35,
     "metadata": {},
     "output_type": "execute_result"
    }
   ],
   "source": [
    "x"
   ]
  },
  {
   "cell_type": "code",
   "execution_count": null,
   "metadata": {},
   "outputs": [],
   "source": []
  },
  {
   "cell_type": "code",
   "execution_count": null,
   "metadata": {},
   "outputs": [],
   "source": []
  },
  {
   "cell_type": "code",
   "execution_count": null,
   "metadata": {},
   "outputs": [],
   "source": []
  },
  {
   "cell_type": "code",
   "execution_count": 1,
   "metadata": {},
   "outputs": [],
   "source": [
    "import marvel"
   ]
  },
  {
   "cell_type": "code",
   "execution_count": 2,
   "metadata": {},
   "outputs": [
    {
     "data": {
      "text/plain": [
       "['Daken',\n",
       " 'Dark Avengers',\n",
       " 'Hulk',\n",
       " 'Sentry (Robert Reynolds)',\n",
       " 'She-Hulk (Jennifer Walters)',\n",
       " 'She-Hulk (Lyra)',\n",
       " 'Thundra']"
      ]
     },
     "execution_count": 2,
     "metadata": {},
     "output_type": "execute_result"
    }
   ],
   "source": [
    "marvel.SAMPLE_NAMES"
   ]
  },
  {
   "cell_type": "code",
   "execution_count": 5,
   "metadata": {},
   "outputs": [],
   "source": [
    "names = marvel.split_names(marvel.SAMPLE_NAMES) "
   ]
  },
  {
   "cell_type": "code",
   "execution_count": 6,
   "metadata": {},
   "outputs": [
    {
     "data": {
      "text/plain": [
       "['Daken',\n",
       " 'Dark',\n",
       " 'Avengers',\n",
       " 'Hulk',\n",
       " 'Sentry',\n",
       " 'Robert',\n",
       " 'Reynolds',\n",
       " 'She-Hulk',\n",
       " 'Jennifer',\n",
       " 'Walters',\n",
       " 'She-Hulk',\n",
       " 'Lyra',\n",
       " 'Thundra']"
      ]
     },
     "execution_count": 6,
     "metadata": {},
     "output_type": "execute_result"
    }
   ],
   "source": [
    "names"
   ]
  },
  {
   "cell_type": "code",
   "execution_count": null,
   "metadata": {},
   "outputs": [],
   "source": []
  },
  {
   "cell_type": "code",
   "execution_count": null,
   "metadata": {},
   "outputs": [],
   "source": []
  },
  {
   "cell_type": "code",
   "execution_count": 4,
   "metadata": {},
   "outputs": [],
   "source": [
    "import random"
   ]
  },
  {
   "cell_type": "code",
   "execution_count": 22,
   "metadata": {},
   "outputs": [
    {
     "data": {
      "text/plain": [
       "'Robert'"
      ]
     },
     "execution_count": 22,
     "metadata": {},
     "output_type": "execute_result"
    }
   ],
   "source": [
    "random.choice(names)"
   ]
  },
  {
   "cell_type": "code",
   "execution_count": 23,
   "metadata": {},
   "outputs": [
    {
     "name": "stdout",
     "output_type": "stream",
     "text": [
      "Help on method choices in module random:\n",
      "\n",
      "choices(population, weights=None, *, cum_weights=None, k=1) method of random.Random instance\n",
      "    Return a k sized list of population elements chosen with replacement.\n",
      "    \n",
      "    If the relative weights or cumulative weights are not specified,\n",
      "    the selections are made with equal probability.\n",
      "\n"
     ]
    }
   ],
   "source": [
    "help(random.choices)"
   ]
  },
  {
   "cell_type": "code",
   "execution_count": 24,
   "metadata": {},
   "outputs": [
    {
     "data": {
      "text/plain": [
       "['Walters', 'Thundra']"
      ]
     },
     "execution_count": 24,
     "metadata": {},
     "output_type": "execute_result"
    }
   ],
   "source": [
    "random.choices(names, k=2)"
   ]
  },
  {
   "cell_type": "code",
   "execution_count": 19,
   "metadata": {},
   "outputs": [],
   "source": [
    "x = [1,1,1,2,3]"
   ]
  },
  {
   "cell_type": "code",
   "execution_count": 20,
   "metadata": {},
   "outputs": [
    {
     "data": {
      "text/plain": [
       "{1, 2, 3}"
      ]
     },
     "execution_count": 20,
     "metadata": {},
     "output_type": "execute_result"
    }
   ],
   "source": [
    "set(x)"
   ]
  },
  {
   "cell_type": "code",
   "execution_count": 1,
   "metadata": {},
   "outputs": [],
   "source": [
    "a = 1"
   ]
  },
  {
   "cell_type": "code",
   "execution_count": 3,
   "metadata": {},
   "outputs": [],
   "source": [
    "def hello():\n",
    "    b = 2"
   ]
  },
  {
   "cell_type": "code",
   "execution_count": 4,
   "metadata": {},
   "outputs": [],
   "source": [
    "def hello_2():\n",
    "    a = 3"
   ]
  },
  {
   "cell_type": "code",
   "execution_count": 5,
   "metadata": {},
   "outputs": [
    {
     "name": "stdout",
     "output_type": "stream",
     "text": [
      "1\n"
     ]
    }
   ],
   "source": [
    "print(a)"
   ]
  },
  {
   "cell_type": "code",
   "execution_count": 6,
   "metadata": {},
   "outputs": [
    {
     "ename": "NameError",
     "evalue": "name 'b' is not defined",
     "output_type": "error",
     "traceback": [
      "\u001b[0;31m---------------------------------------------------------------------------\u001b[0m",
      "\u001b[0;31mNameError\u001b[0m                                 Traceback (most recent call last)",
      "\u001b[0;32m<ipython-input-6-67e500defa1b>\u001b[0m in \u001b[0;36m<module>\u001b[0;34m\u001b[0m\n\u001b[0;32m----> 1\u001b[0;31m \u001b[0mprint\u001b[0m\u001b[0;34m(\u001b[0m\u001b[0mb\u001b[0m\u001b[0;34m)\u001b[0m\u001b[0;34m\u001b[0m\u001b[0;34m\u001b[0m\u001b[0m\n\u001b[0m",
      "\u001b[0;31mNameError\u001b[0m: name 'b' is not defined"
     ]
    }
   ],
   "source": [
    "print(b)"
   ]
  },
  {
   "cell_type": "code",
   "execution_count": 5,
   "metadata": {},
   "outputs": [],
   "source": [
    "x = []"
   ]
  },
  {
   "cell_type": "code",
   "execution_count": 6,
   "metadata": {},
   "outputs": [
    {
     "data": {
      "text/plain": [
       "list"
      ]
     },
     "execution_count": 6,
     "metadata": {},
     "output_type": "execute_result"
    }
   ],
   "source": [
    "type(x)"
   ]
  },
  {
   "cell_type": "code",
   "execution_count": 7,
   "metadata": {},
   "outputs": [],
   "source": [
    "x.append(\"boo-boo\")"
   ]
  },
  {
   "cell_type": "code",
   "execution_count": 8,
   "metadata": {},
   "outputs": [
    {
     "data": {
      "text/plain": [
       "['boo-boo']"
      ]
     },
     "execution_count": 8,
     "metadata": {},
     "output_type": "execute_result"
    }
   ],
   "source": [
    "x"
   ]
  },
  {
   "cell_type": "code",
   "execution_count": 9,
   "metadata": {},
   "outputs": [],
   "source": [
    "x.append(\"marcus\")"
   ]
  },
  {
   "cell_type": "code",
   "execution_count": 10,
   "metadata": {},
   "outputs": [
    {
     "data": {
      "text/plain": [
       "['boo-boo', 'marcus']"
      ]
     },
     "execution_count": 10,
     "metadata": {},
     "output_type": "execute_result"
    }
   ],
   "source": [
    "x"
   ]
  },
  {
   "cell_type": "code",
   "execution_count": 12,
   "metadata": {},
   "outputs": [],
   "source": [
    "x.reverse()"
   ]
  },
  {
   "cell_type": "code",
   "execution_count": 13,
   "metadata": {},
   "outputs": [
    {
     "data": {
      "text/plain": [
       "['marcus', 'boo-boo']"
      ]
     },
     "execution_count": 13,
     "metadata": {},
     "output_type": "execute_result"
    }
   ],
   "source": [
    "x"
   ]
  },
  {
   "cell_type": "code",
   "execution_count": 1,
   "metadata": {},
   "outputs": [],
   "source": [
    "import marvel"
   ]
  },
  {
   "cell_type": "code",
   "execution_count": 22,
   "metadata": {},
   "outputs": [],
   "source": [
    "character_resp = marvel.get_characters_by_series(24229)"
   ]
  },
  {
   "cell_type": "code",
   "execution_count": 21,
   "metadata": {},
   "outputs": [
    {
     "data": {
      "text/plain": [
       "{'code': 200,\n",
       " 'status': 'Ok',\n",
       " 'copyright': '© 2020 MARVEL',\n",
       " 'attributionText': 'Data provided by Marvel. © 2020 MARVEL',\n",
       " 'attributionHTML': '<a href=\"http://marvel.com\">Data provided by Marvel. © 2020 MARVEL</a>',\n",
       " 'etag': '79ef3436d0dc139b17693635b99776556e29f495',\n",
       " 'data': {'offset': 0, 'limit': 20, 'total': 0, 'count': 0, 'results': []}}"
      ]
     },
     "execution_count": 21,
     "metadata": {},
     "output_type": "execute_result"
    }
   ],
   "source": [
    "character_resp"
   ]
  },
  {
   "cell_type": "code",
   "execution_count": 23,
   "metadata": {},
   "outputs": [
    {
     "name": "stdout",
     "output_type": "stream",
     "text": [
      "Panther Carol\n",
      "Panther Celestials\n",
      "Loki Man\n",
      "Man Marvel\n",
      "Panther Namor\n",
      "Black Ka-Zar\n",
      "Ka-Zar Marvel\n",
      "Doctor Thor\n",
      "Doctor She-Hulk\n",
      "Ka-Zar Walters\n",
      "Avengers Strange\n",
      "Thor Rider\n",
      "Man Panther\n",
      "Carol Rider\n",
      "Black Panther\n",
      "Namor Avengers\n",
      "Ka-Zar Namor\n",
      "Captain Strange\n",
      "Marvel Knight\n",
      "Man Moon\n"
     ]
    }
   ],
   "source": [
    "for x in range(20):\n",
    "    name = marvel.random_character_name(character_resp)\n",
    "    print(name)"
   ]
  },
  {
   "cell_type": "code",
   "execution_count": null,
   "metadata": {},
   "outputs": [],
   "source": []
  }
 ],
 "metadata": {
  "kernelspec": {
   "display_name": "Python 3",
   "language": "python",
   "name": "python3"
  },
  "language_info": {
   "codemirror_mode": {
    "name": "ipython",
    "version": 3
   },
   "file_extension": ".py",
   "mimetype": "text/x-python",
   "name": "python",
   "nbconvert_exporter": "python",
   "pygments_lexer": "ipython3",
   "version": "3.8.2"
  }
 },
 "nbformat": 4,
 "nbformat_minor": 4
}
